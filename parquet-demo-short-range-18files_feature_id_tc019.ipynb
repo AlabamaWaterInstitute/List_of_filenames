{
 "cells": [
  {
   "cell_type": "code",
   "execution_count": null,
   "metadata": {
    "collapsed": true,
    "pycharm": {
     "name": "#%%\n"
    }
   },
   "outputs": [],
   "source": [
    "import pandas as pd\n",
    "from pyarrow.parquet import ParquetFile\n",
    "import dask.dataframe as dd\n",
    "import os\n",
    "import xarray as xr\n",
    "\n",
    "#%matplotlib inline\n"
   ]
  },
  {
   "cell_type": "code",
   "execution_count": null,
   "outputs": [],
   "source": [
    "dir_files = [os.path.join(\"..\\short_range_18files\", files) for files in os.listdir(\"..\\short_range_18files\")]\n",
    "#dir_files = [os.path.join(\"short_range_2files\", files) for files in os.listdir(\"short_range_2files\")]\n",
    "print(dir_files)"
   ],
   "metadata": {
    "collapsed": false,
    "pycharm": {
     "name": "#%%\n"
    }
   }
  },
  {
   "cell_type": "code",
   "execution_count": null,
   "outputs": [],
   "source": [
    "fds = []\n",
    "for f in dir_files:\n",
    "    fds.append(xr.open_dataset(f))"
   ],
   "metadata": {
    "collapsed": false,
    "pycharm": {
     "name": "#%%\n"
    }
   }
  },
  {
   "cell_type": "code",
   "execution_count": null,
   "outputs": [],
   "source": [
    "%%time\n",
    "ds = xr.concat(fds,dim=\"time\")"
   ],
   "metadata": {
    "collapsed": false,
    "pycharm": {
     "name": "#%%\n"
    }
   }
  },
  {
   "cell_type": "code",
   "execution_count": null,
   "outputs": [],
   "source": [
    "df = ds.to_dataframe()\n",
    "df = df.streamflow\n",
    "df"
   ],
   "metadata": {
    "collapsed": false,
    "pycharm": {
     "name": "#%%\n"
    }
   }
  },
  {
   "cell_type": "code",
   "execution_count": null,
   "outputs": [],
   "source": [
    "%%time\n",
    "df = pd.Series.to_frame(df)\n",
    "\n",
    "df.to_parquet(\"../data/parquet_all_feature_ids_pyarrow_snappy.parquet\"\n",
    "             , engine=\"pyarrow\" #\"pyarrow\", \"auto\"\n",
    "             , compression=\"snappy\" # \"gzip\"\n",
    "            )\n"
   ],
   "metadata": {
    "collapsed": false,
    "pycharm": {
     "name": "#%%\n"
    }
   }
  },
  {
   "cell_type": "code",
   "execution_count": null,
   "outputs": [],
   "source": [
    "ParquetFile(\"../data/parquet_all_feature_ids_pyarrow_snappy.parquet\").metadata #  num_columns: 3"
   ],
   "metadata": {
    "collapsed": false,
    "pycharm": {
     "name": "#%%\n"
    }
   }
  },
  {
   "cell_type": "code",
   "execution_count": null,
   "outputs": [],
   "source": [
    "%%time\n",
    "data = dd.read_parquet(\n",
    "    \"../data/parquet_all_feature_ids_pyarrow_snappy.parquet\"\n",
    "    , storage_options={\"anon\": True}\n",
    "    )\n",
    "data\n",
    "result = data.compute()\n",
    "#result = result.loc[:,:, [101]]\n",
    "#result= result.loc[:, :, 100:1032]\n",
    "result= result.loc[:, :, 100:252765]\n",
    "#result\n",
    "r_xa = result.to_xarray()\n",
    "r_xa\n",
    "r_xa.plot.scatter(\"time\",\"streamflow\")"
   ],
   "metadata": {
    "collapsed": false,
    "pycharm": {
     "name": "#%%\n"
    }
   }
  },
  {
   "cell_type": "code",
   "execution_count": null,
   "outputs": [],
   "source": [],
   "metadata": {
    "collapsed": false,
    "pycharm": {
     "name": "#%%\n"
    }
   }
  }
 ],
 "metadata": {
  "kernelspec": {
   "display_name": "Python 3",
   "language": "python",
   "name": "python3"
  },
  "language_info": {
   "codemirror_mode": {
    "name": "ipython",
    "version": 2
   },
   "file_extension": ".py",
   "mimetype": "text/x-python",
   "name": "python",
   "nbconvert_exporter": "python",
   "pygments_lexer": "ipython2",
   "version": "2.7.6"
  }
 },
 "nbformat": 4,
 "nbformat_minor": 0
}