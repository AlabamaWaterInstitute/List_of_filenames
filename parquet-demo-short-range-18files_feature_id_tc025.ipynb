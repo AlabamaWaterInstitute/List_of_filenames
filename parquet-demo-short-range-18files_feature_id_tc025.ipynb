{
 "cells": [
  {
   "cell_type": "code",
   "execution_count": 1,
   "metadata": {
    "collapsed": true,
    "pycharm": {
     "name": "#%%\n"
    }
   },
   "outputs": [],
   "source": [
    "import pandas as pd\n",
    "from pyarrow.parquet import ParquetFile\n",
    "import dask.dataframe as dd\n",
    "import os\n",
    "import xarray as xr\n",
    "\n",
    "#%matplotlib inline\n"
   ]
  },
  {
   "cell_type": "code",
   "execution_count": 2,
   "outputs": [
    {
     "name": "stdout",
     "output_type": "stream",
     "text": [
      "['..\\\\short_range_18files\\\\nwm.20220911_short_range_nwm.t00z.short_range.channel_rt.f001.conus.nc', '..\\\\short_range_18files\\\\nwm.20220911_short_range_nwm.t00z.short_range.channel_rt.f002.conus.nc', '..\\\\short_range_18files\\\\nwm.20220911_short_range_nwm.t00z.short_range.channel_rt.f003.conus.nc', '..\\\\short_range_18files\\\\nwm.20220911_short_range_nwm.t00z.short_range.channel_rt.f004.conus.nc', '..\\\\short_range_18files\\\\nwm.20220911_short_range_nwm.t00z.short_range.channel_rt.f005.conus.nc', '..\\\\short_range_18files\\\\nwm.20220911_short_range_nwm.t00z.short_range.channel_rt.f006.conus.nc', '..\\\\short_range_18files\\\\nwm.20220911_short_range_nwm.t00z.short_range.channel_rt.f007.conus.nc', '..\\\\short_range_18files\\\\nwm.20220911_short_range_nwm.t00z.short_range.channel_rt.f008.conus.nc', '..\\\\short_range_18files\\\\nwm.20220911_short_range_nwm.t00z.short_range.channel_rt.f009.conus.nc', '..\\\\short_range_18files\\\\nwm.20220911_short_range_nwm.t00z.short_range.channel_rt.f010.conus.nc', '..\\\\short_range_18files\\\\nwm.20220911_short_range_nwm.t00z.short_range.channel_rt.f011.conus.nc', '..\\\\short_range_18files\\\\nwm.20220911_short_range_nwm.t00z.short_range.channel_rt.f012.conus.nc', '..\\\\short_range_18files\\\\nwm.20220911_short_range_nwm.t00z.short_range.channel_rt.f013.conus.nc', '..\\\\short_range_18files\\\\nwm.20220911_short_range_nwm.t00z.short_range.channel_rt.f014.conus.nc', '..\\\\short_range_18files\\\\nwm.20220911_short_range_nwm.t00z.short_range.channel_rt.f015.conus.nc', '..\\\\short_range_18files\\\\nwm.20220911_short_range_nwm.t00z.short_range.channel_rt.f016.conus.nc', '..\\\\short_range_18files\\\\nwm.20220911_short_range_nwm.t00z.short_range.channel_rt.f017.conus.nc', '..\\\\short_range_18files\\\\nwm.20220911_short_range_nwm.t00z.short_range.channel_rt.f018.conus.nc']\n"
     ]
    }
   ],
   "source": [
    "dir_files = [os.path.join(\"..\\short_range_18files\", files) for files in os.listdir(\"..\\short_range_18files\")]\n",
    "#dir_files = [os.path.join(\"short_range_2files\", files) for files in os.listdir(\"short_range_2files\")]\n",
    "print(dir_files)"
   ],
   "metadata": {
    "collapsed": false,
    "pycharm": {
     "name": "#%%\n"
    }
   }
  },
  {
   "cell_type": "code",
   "execution_count": 3,
   "outputs": [],
   "source": [
    "fds = []\n",
    "for f in dir_files:\n",
    "    fds.append(xr.open_dataset(f))"
   ],
   "metadata": {
    "collapsed": false,
    "pycharm": {
     "name": "#%%\n"
    }
   }
  },
  {
   "cell_type": "code",
   "execution_count": 4,
   "outputs": [
    {
     "name": "stdout",
     "output_type": "stream",
     "text": [
      "CPU times: total: 7.62 s\n",
      "Wall time: 7.63 s\n"
     ]
    }
   ],
   "source": [
    "%%time\n",
    "ds = xr.concat(fds,dim=\"time\")"
   ],
   "metadata": {
    "collapsed": false,
    "pycharm": {
     "name": "#%%\n"
    }
   }
  },
  {
   "cell_type": "code",
   "execution_count": 5,
   "outputs": [
    {
     "data": {
      "text/plain": "time                 reference_time  feature_id\n2022-09-11 01:00:00  2022-09-11      101           0.18\n                                     179           0.01\n                                     181           0.01\n                                     183           0.01\n                                     185           0.01\n                                                   ... \n2022-09-11 18:00:00  2022-09-11      1180001800    0.00\n                                     1180001801    0.00\n                                     1180001802    0.00\n                                     1180001803    0.00\n                                     1180001804    0.00\nName: streamflow, Length: 49981284, dtype: float64"
     },
     "execution_count": 5,
     "metadata": {},
     "output_type": "execute_result"
    }
   ],
   "source": [
    "df = ds.to_dataframe()\n",
    "df = df.streamflow\n",
    "df"
   ],
   "metadata": {
    "collapsed": false,
    "pycharm": {
     "name": "#%%\n"
    }
   }
  },
  {
   "cell_type": "code",
   "execution_count": 6,
   "outputs": [
    {
     "name": "stdout",
     "output_type": "stream",
     "text": [
      "CPU times: total: 9.31 s\n",
      "Wall time: 9.51 s\n"
     ]
    }
   ],
   "source": [
    "%%time\n",
    "df = pd.Series.to_frame(df)\n",
    "\n",
    "df.to_parquet(\"../data/parquet_all_feature_ids_fastparquet_nocompr.parquet\"\n",
    "             , engine=\"fastparquet\" #\"pyarrow\", \"auto\"\n",
    "            )\n"
   ],
   "metadata": {
    "collapsed": false,
    "pycharm": {
     "name": "#%%\n"
    }
   }
  },
  {
   "cell_type": "code",
   "execution_count": 7,
   "outputs": [
    {
     "data": {
      "text/plain": "<pyarrow._parquet.FileMetaData object at 0x0000028038418720>\n  created_by: fastparquet-python version 0.8.3 (build 0)\n  num_columns: 4\n  num_rows: 49981284\n  num_row_groups: 1\n  format_version: 1.0\n  serialized_size: 1595"
     },
     "execution_count": 7,
     "metadata": {},
     "output_type": "execute_result"
    }
   ],
   "source": [
    "ParquetFile(\"../data/parquet_all_feature_ids_fastparquet_nocompr.parquet\").metadata #  num_columns: 3"
   ],
   "metadata": {
    "collapsed": false,
    "pycharm": {
     "name": "#%%\n"
    }
   }
  },
  {
   "cell_type": "code",
   "execution_count": 12,
   "outputs": [
    {
     "name": "stdout",
     "output_type": "stream",
     "text": [
      "CPU times: total: 12.6 s\n",
      "Wall time: 12.6 s\n"
     ]
    },
    {
     "data": {
      "text/plain": "<matplotlib.collections.PathCollection at 0x28049ad7b80>"
     },
     "execution_count": 12,
     "metadata": {},
     "output_type": "execute_result"
    },
    {
     "data": {
      "text/plain": "<Figure size 640x480 with 1 Axes>",
      "image/png": "[encoded data removed]"
     },
     "metadata": {},
     "output_type": "display_data"
    }
   ],
   "source": [
    "%%time\n",
    "data = dd.read_parquet(\n",
    "    \"../data/parquet_all_feature_ids_fastparquet_nocompr.parquet\"\n",
    "    , storage_options={\"anon\": True}\n",
    "    )\n",
    "data\n",
    "result = data.compute()\n",
    "\n",
    "\n",
    "#result = result.loc[:,:, [101]]\n",
    "result= result.loc[:, :, 100:1032]\n",
    "result= result.loc[:, :, 100:252765]\n",
    "result= result.loc[:, :, 100:1122643]\n",
    "\n",
    "result\n",
    "r_xa = result.to_xarray()\n",
    "r_xa\n",
    "r_xa.plot.scatter(\"time\",\"streamflow\")"
   ],
   "metadata": {
    "collapsed": false,
    "pycharm": {
     "name": "#%%\n"
    }
   }
  },
  {
   "cell_type": "code",
   "execution_count": 8,
   "outputs": [],
   "source": [],
   "metadata": {
    "collapsed": false,
    "pycharm": {
     "name": "#%%\n"
    }
   }
  }
 ],
 "metadata": {
  "kernelspec": {
   "display_name": "Python 3",
   "language": "python",
   "name": "python3"
  },
  "language_info": {
   "codemirror_mode": {
    "name": "ipython",
    "version": 2
   },
   "file_extension": ".py",
   "mimetype": "text/x-python",
   "name": "python",
   "nbconvert_exporter": "python",
   "pygments_lexer": "ipython2",
   "version": "2.7.6"
  }
 },
 "nbformat": 4,
 "nbformat_minor": 0
}