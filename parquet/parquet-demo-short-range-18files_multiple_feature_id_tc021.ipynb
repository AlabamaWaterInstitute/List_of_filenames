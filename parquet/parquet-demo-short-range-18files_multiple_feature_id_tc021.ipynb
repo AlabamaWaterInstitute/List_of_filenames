{
 "cells": [
  {
   "cell_type": "code",
   "execution_count": 1,
   "metadata": {
    "collapsed": true,
    "pycharm": {
     "name": "#%%\n"
    }
   },
   "outputs": [],
   "source": [
    "import pandas as pd\n",
    "from pyarrow.parquet import ParquetFile\n",
    "import dask.dataframe as dd\n",
    "import os\n",
    "import xarray as xr\n"
   ]
  },
  {
   "cell_type": "code",
   "execution_count": 2,
   "outputs": [
    {
     "name": "stdout",
     "output_type": "stream",
     "text": [
      "['../short_range_18files\\\\nwm.20220911_short_range_nwm.t00z.short_range.channel_rt.f001.conus.nc', '../short_range_18files\\\\nwm.20220911_short_range_nwm.t00z.short_range.channel_rt.f002.conus.nc', '../short_range_18files\\\\nwm.20220911_short_range_nwm.t00z.short_range.channel_rt.f003.conus.nc', '../short_range_18files\\\\nwm.20220911_short_range_nwm.t00z.short_range.channel_rt.f004.conus.nc', '../short_range_18files\\\\nwm.20220911_short_range_nwm.t00z.short_range.channel_rt.f005.conus.nc', '../short_range_18files\\\\nwm.20220911_short_range_nwm.t00z.short_range.channel_rt.f006.conus.nc', '../short_range_18files\\\\nwm.20220911_short_range_nwm.t00z.short_range.channel_rt.f007.conus.nc', '../short_range_18files\\\\nwm.20220911_short_range_nwm.t00z.short_range.channel_rt.f008.conus.nc', '../short_range_18files\\\\nwm.20220911_short_range_nwm.t00z.short_range.channel_rt.f009.conus.nc', '../short_range_18files\\\\nwm.20220911_short_range_nwm.t00z.short_range.channel_rt.f010.conus.nc', '../short_range_18files\\\\nwm.20220911_short_range_nwm.t00z.short_range.channel_rt.f011.conus.nc', '../short_range_18files\\\\nwm.20220911_short_range_nwm.t00z.short_range.channel_rt.f012.conus.nc', '../short_range_18files\\\\nwm.20220911_short_range_nwm.t00z.short_range.channel_rt.f013.conus.nc', '../short_range_18files\\\\nwm.20220911_short_range_nwm.t00z.short_range.channel_rt.f014.conus.nc', '../short_range_18files\\\\nwm.20220911_short_range_nwm.t00z.short_range.channel_rt.f015.conus.nc', '../short_range_18files\\\\nwm.20220911_short_range_nwm.t00z.short_range.channel_rt.f016.conus.nc', '../short_range_18files\\\\nwm.20220911_short_range_nwm.t00z.short_range.channel_rt.f017.conus.nc', '../short_range_18files\\\\nwm.20220911_short_range_nwm.t00z.short_range.channel_rt.f018.conus.nc']\n"
     ]
    }
   ],
   "source": [
    "dir_files = [os.path.join(\"../short_range_18files\", files) for files in os.listdir(\"../short_range_18files\")]\n",
    "print(dir_files)"
   ],
   "metadata": {
    "collapsed": false,
    "pycharm": {
     "name": "#%%\n"
    }
   }
  },
  {
   "cell_type": "code",
   "execution_count": 3,
   "outputs": [],
   "source": [
    "fds = []\n",
    "for f in dir_files:\n",
    "    fds.append(xr.open_dataset(f))"
   ],
   "metadata": {
    "collapsed": false,
    "pycharm": {
     "name": "#%%\n"
    }
   }
  },
  {
   "cell_type": "code",
   "execution_count": 4,
   "outputs": [
    {
     "name": "stdout",
     "output_type": "stream",
     "text": [
      "CPU times: total: 8.66 s\n",
      "Wall time: 8.82 s\n"
     ]
    },
    {
     "data": {
      "text/plain": "<xarray.Dataset>\nDimensions:         (time: 18, reference_time: 1, feature_id: 2776738)\nCoordinates:\n  * time            (time) datetime64[ns] 2022-09-11T01:00:00 ... 2022-09-11T...\n  * reference_time  (reference_time) datetime64[ns] 2022-09-11\n  * feature_id      (feature_id) int32 101 179 181 ... 1180001803 1180001804\nData variables:\n    crs             (time) |S1 b'' b'' b'' b'' b'' b'' ... b'' b'' b'' b'' b''\n    streamflow      (time, feature_id) float64 0.18 0.01 0.01 ... 0.0 0.0 0.0\n    nudge           (time, feature_id) float64 0.0 0.0 0.0 0.0 ... 0.0 0.0 0.0\n    velocity        (time, feature_id) float64 0.08 0.1 0.1 ... 0.02 0.0 0.02\n    qSfcLatRunoff   (time, feature_id) float64 0.0 0.0 0.0 0.0 ... 0.0 0.0 0.0\n    qBucket         (time, feature_id) float64 0.00341 0.00858 ... 0.00017\n    qBtmVertRunoff  (time, feature_id) float64 12.18 26.58 9.311 ... 0.584 0.947\nAttributes: (12/19)\n    TITLE:                      OUTPUT FROM NWM v2.2\n    featureType:                timeSeries\n    proj4:                      +proj=lcc +units=m +a=6370000.0 +b=6370000.0 ...\n    model_initialization_time:  2022-09-11_00:00:00\n    station_dimension:          feature_id\n    model_output_valid_time:    2022-09-11_01:00:00\n    ...                         ...\n    model_configuration:        short_range\n    dev_OVRTSWCRT:              1\n    dev_NOAH_TIMESTEP:          3600\n    dev_channel_only:           0\n    dev_channelBucket_only:     0\n    dev:                        dev_ prefix indicates development/internal me...",
      "text/html": "<div><svg style=\"position: absolute; width: 0; height: 0; overflow: hidden\">\n<defs>\n<symbol id=\"icon-database\" viewBox=\"0 0 32 32\">\n<path d=\"M16 0c-8.837 0-16 2.239-16 5v4c0 2.761 7.163 5 16 5s16-2.239 16-5v-4c0-2.761-7.163-5-16-5z\"></path>\n<path d=\"M16 17c-8.837 0-16-2.239-16-5v6c0 2.761 7.163 5 16 5s16-2.239 16-5v-6c0 2.761-7.163 5-16 5z\"></path>\n<path d=\"M16 26c-8.837 0-16-2.239-16-5v6c0 2.761 7.163 5 16 5s16-2.239 16-5v-6c0 2.761-7.163 5-16 5z\"></path>\n</symbol>\n<symbol id=\"icon-file-text2\" viewBox=\"0 0 32 32\">\n<path d=\"M28.681 7.159c-0.694-0.947-1.662-2.053-2.724-3.116s-2.169-2.030-3.116-2.724c-1.612-1.182-2.393-1.319-2.841-1.319h-15.5c-1.378 0-2.5 1.121-2.5 2.5v27c0 1.378 1.122 2.5 2.5 2.5h23c1.378 0 2.5-1.122 2.5-2.5v-19.5c0-0.448-0.137-1.23-1.319-2.841zM24.543 5.457c0.959 0.959 1.712 1.825 2.268 2.543h-4.811v-4.811c0.718 0.556 1.584 1.309 2.543 2.268zM28 29.5c0 0.271-0.229 0.5-0.5 0.5h-23c-0.271 0-0.5-0.229-0.5-0.5v-27c0-0.271 0.229-0.5 0.5-0.5 0 0 15.499-0 15.5 0v7c0 0.552 0.448 1 1 1h7v19.5z\"></path>\n<path d=\"M23 26h-14c-0.552 0-1-0.448-1-1s0.448-1 1-1h14c0.552 0 1 0.448 1 1s-0.448 1-1 1z\"></path>\n<path d=\"M23 22h-14c-0.552 0-1-0.448-1-1s0.448-1 1-1h14c0.552 0 1 0.448 1 1s-0.448 1-1 1z\"></path>\n<path d=\"M23 18h-14c-0.552 0-1-0.448-1-1s0.448-1 1-1h14c0.552 0 1 0.448 1 1s-0.448 1-1 1z\"></path>\n</symbol>\n</defs>\n</svg>\n<style>/* CSS stylesheet for displaying xarray objects in jupyterlab.\n *\n */\n\n:root {\n  --xr-font-color0: var(--jp-content-font-color0, rgba(0, 0, 0, 1));\n  --xr-font-color2: var(--jp-content-font-color2, rgba(0, 0, 0, 0.54));\n  --xr-font-color3: var(--jp-content-font-color3, rgba(0, 0, 0, 0.38));\n  --xr-border-color: var(--jp-border-color2, #e0e0e0);\n  --xr-disabled-color: var(--jp-layout-color3, #bdbdbd);\n  --xr-background-color: var(--jp-layout-color0, white);\n  --xr-background-color-row-even: var(--jp-layout-color1, white);\n  --xr-background-color-row-odd: var(--jp-layout-color2, #eeeeee);\n}\n\nhtml[theme=dark],\nbody[data-theme=dark],\nbody.vscode-dark {\n  --xr-font-color0: rgba(255, 255, 255, 1);\n  --xr-font-color2: rgba(255, 255, 255, 0.54);\n  --xr-font-color3: rgba(255, 255, 255, 0.38);\n  --xr-border-color: #1F1F1F;\n  --xr-disabled-color: #515151;\n  --xr-background-color: #111111;\n  --xr-background-color-row-even: #111111;\n  --xr-background-color-row-odd: #313131;\n}\n\n.xr-wrap {\n  display: block !important;\n  min-width: 300px;\n  max-width: 700px;\n}\n\n.xr-text-repr-fallback {\n  /* fallback to plain text repr when CSS is not injected (untrusted notebook) */\n  display: none;\n}\n\n.xr-header {\n  padding-top: 6px;\n  padding-bottom: 6px;\n  margin-bottom: 4px;\n  border-bottom: solid 1px var(--xr-border-color);\n}\n\n.xr-header > div,\n.xr-header > ul {\n  display: inline;\n  margin-top: 0;\n  margin-bottom: 0;\n}\n\n.xr-obj-type,\n.xr-array-name {\n  margin-left: 2px;\n  margin-right: 10px;\n}\n\n.xr-obj-type {\n  color: var(--xr-font-color2);\n}\n\n.xr-sections {\n  padding-left: 0 !important;\n  display: grid;\n  grid-template-columns: 150px auto auto 1fr 20px 20px;\n}\n\n.xr-section-item {\n  display: contents;\n}\n\n.xr-section-item input {\n  display: none;\n}\n\n.xr-section-item input + label {\n  color: var(--xr-disabled-color);\n}\n\n.xr-section-item input:enabled + label {\n  cursor: pointer;\n  color: var(--xr-font-color2);\n}\n\n.xr-section-item input:enabled + label:hover {\n  color: var(--xr-font-color0);\n}\n\n.xr-section-summary {\n  grid-column: 1;\n  color: var(--xr-font-color2);\n  font-weight: 500;\n}\n\n.xr-section-summary > span {\n  display: inline-block;\n  padding-left: 0.5em;\n}\n\n.xr-section-summary-in:disabled + label {\n  color: var(--xr-font-color2);\n}\n\n.xr-section-summary-in + label:before {\n  display: inline-block;\n  content: '►';\n  font-size: 11px;\n  width: 15px;\n  text-align: center;\n}\n\n.xr-section-summary-in:disabled + label:before {\n  color: var(--xr-disabled-color);\n}\n\n.xr-section-summary-in:checked + label:before {\n  content: '▼';\n}\n\n.xr-section-summary-in:checked + label > span {\n  display: none;\n}\n\n.xr-section-summary,\n.xr-section-inline-details {\n  padding-top: 4px;\n  padding-bottom: 4px;\n}\n\n.xr-section-inline-details {\n  grid-column: 2 / -1;\n}\n\n.xr-section-details {\n  display: none;\n  grid-column: 1 / -1;\n  margin-bottom: 5px;\n}\n\n.xr-section-summary-in:checked ~ .xr-section-details {\n  display: contents;\n}\n\n.xr-array-wrap {\n  grid-column: 1 / -1;\n  display: grid;\n  grid-template-columns: 20px auto;\n}\n\n.xr-array-wrap > label {\n  grid-column: 1;\n  vertical-align: top;\n}\n\n.xr-preview {\n  color: var(--xr-font-color3);\n}\n\n.xr-array-preview,\n.xr-array-data {\n  padding: 0 5px !important;\n  grid-column: 2;\n}\n\n.xr-array-data,\n.xr-array-in:checked ~ .xr-array-preview {\n  display: none;\n}\n\n.xr-array-in:checked ~ .xr-array-data,\n.xr-array-preview {\n  display: inline-block;\n}\n\n.xr-dim-list {\n  display: inline-block !important;\n  list-style: none;\n  padding: 0 !important;\n  margin: 0;\n}\n\n.xr-dim-list li {\n  display: inline-block;\n  padding: 0;\n  margin: 0;\n}\n\n.xr-dim-list:before {\n  content: '(';\n}\n\n.xr-dim-list:after {\n  content: ')';\n}\n\n.xr-dim-list li:not(:last-child):after {\n  content: ',';\n  padding-right: 5px;\n}\n\n.xr-has-index {\n  font-weight: bold;\n}\n\n.xr-var-list,\n.xr-var-item {\n  display: contents;\n}\n\n.xr-var-item > div,\n.xr-var-item label,\n.xr-var-item > .xr-var-name span {\n  background-color: var(--xr-background-color-row-even);\n  margin-bottom: 0;\n}\n\n.xr-var-item > .xr-var-name:hover span {\n  padding-right: 5px;\n}\n\n.xr-var-list > li:nth-child(odd) > div,\n.xr-var-list > li:nth-child(odd) > label,\n.xr-var-list > li:nth-child(odd) > .xr-var-name span {\n  background-color: var(--xr-background-color-row-odd);\n}\n\n.xr-var-name {\n  grid-column: 1;\n}\n\n.xr-var-dims {\n  grid-column: 2;\n}\n\n.xr-var-dtype {\n  grid-column: 3;\n  text-align: right;\n  color: var(--xr-font-color2);\n}\n\n.xr-var-preview {\n  grid-column: 4;\n}\n\n.xr-var-name,\n.xr-var-dims,\n.xr-var-dtype,\n.xr-preview,\n.xr-attrs dt {\n  white-space: nowrap;\n  overflow: hidden;\n  text-overflow: ellipsis;\n  padding-right: 10px;\n}\n\n.xr-var-name:hover,\n.xr-var-dims:hover,\n.xr-var-dtype:hover,\n.xr-attrs dt:hover {\n  overflow: visible;\n  width: auto;\n  z-index: 1;\n}\n\n.xr-var-attrs,\n.xr-var-data {\n  display: none;\n  background-color: var(--xr-background-color) !important;\n  padding-bottom: 5px !important;\n}\n\n.xr-var-attrs-in:checked ~ .xr-var-attrs,\n.xr-var-data-in:checked ~ .xr-var-data {\n  display: block;\n}\n\n.xr-var-data > table {\n  float: right;\n}\n\n.xr-var-name span,\n.xr-var-data,\n.xr-attrs {\n  padding-left: 25px !important;\n}\n\n.xr-attrs,\n.xr-var-attrs,\n.xr-var-data {\n  grid-column: 1 / -1;\n}\n\ndl.xr-attrs {\n  padding: 0;\n  margin: 0;\n  display: grid;\n  grid-template-columns: 125px auto;\n}\n\n.xr-attrs dt,\n.xr-attrs dd {\n  padding: 0;\n  margin: 0;\n  float: left;\n  padding-right: 10px;\n  width: auto;\n}\n\n.xr-attrs dt {\n  font-weight: normal;\n  grid-column: 1;\n}\n\n.xr-attrs dt:hover span {\n  display: inline-block;\n  background: var(--xr-background-color);\n  padding-right: 10px;\n}\n\n.xr-attrs dd {\n  grid-column: 2;\n  white-space: pre-wrap;\n  word-break: break-all;\n}\n\n.xr-icon-database,\n.xr-icon-file-text2 {\n  display: inline-block;\n  vertical-align: middle;\n  width: 1em;\n  height: 1.5em !important;\n  stroke-width: 0;\n  stroke: currentColor;\n  fill: currentColor;\n}\n</style><pre class='xr-text-repr-fallback'>&lt;xarray.Dataset&gt;\nDimensions:         (time: 18, reference_time: 1, feature_id: 2776738)\nCoordinates:\n  * time            (time) datetime64[ns] 2022-09-11T01:00:00 ... 2022-09-11T...\n  * reference_time  (reference_time) datetime64[ns] 2022-09-11\n  * feature_id      (feature_id) int32 101 179 181 ... 1180001803 1180001804\nData variables:\n    crs             (time) |S1 b&#x27;&#x27; b&#x27;&#x27; b&#x27;&#x27; b&#x27;&#x27; b&#x27;&#x27; b&#x27;&#x27; ... b&#x27;&#x27; b&#x27;&#x27; b&#x27;&#x27; b&#x27;&#x27; b&#x27;&#x27;\n    streamflow      (time, feature_id) float64 0.18 0.01 0.01 ... 0.0 0.0 0.0\n    nudge           (time, feature_id) float64 0.0 0.0 0.0 0.0 ... 0.0 0.0 0.0\n    velocity        (time, feature_id) float64 0.08 0.1 0.1 ... 0.02 0.0 0.02\n    qSfcLatRunoff   (time, feature_id) float64 0.0 0.0 0.0 0.0 ... 0.0 0.0 0.0\n    qBucket         (time, feature_id) float64 0.00341 0.00858 ... 0.00017\n    qBtmVertRunoff  (time, feature_id) float64 12.18 26.58 9.311 ... 0.584 0.947\nAttributes: (12/19)\n    TITLE:                      OUTPUT FROM NWM v2.2\n    featureType:                timeSeries\n    proj4:                      +proj=lcc +units=m +a=6370000.0 +b=6370000.0 ...\n    model_initialization_time:  2022-09-11_00:00:00\n    station_dimension:          feature_id\n    model_output_valid_time:    2022-09-11_01:00:00\n    ...                         ...\n    model_configuration:        short_range\n    dev_OVRTSWCRT:              1\n    dev_NOAH_TIMESTEP:          3600\n    dev_channel_only:           0\n    dev_channelBucket_only:     0\n    dev:                        dev_ prefix indicates development/internal me...</pre><div class='xr-wrap' style='display:none'><div class='xr-header'><div class='xr-obj-type'>xarray.Dataset</div></div><ul class='xr-sections'><li class='xr-section-item'><input id='section-0c255690-cee9-4fde-89db-8a8bf96e0d06' class='xr-section-summary-in' type='checkbox' disabled ><label for='section-0c255690-cee9-4fde-89db-8a8bf96e0d06' class='xr-section-summary'  title='Expand/collapse section'>Dimensions:</label><div class='xr-section-inline-details'><ul class='xr-dim-list'><li><span class='xr-has-index'>time</span>: 18</li><li><span class='xr-has-index'>reference_time</span>: 1</li><li><span class='xr-has-index'>feature_id</span>: 2776738</li></ul></div><div class='xr-section-details'></div></li><li class='xr-section-item'><input id='section-d541a65a-aad7-4991-848a-9b8fd5b85395' class='xr-section-summary-in' type='checkbox'  checked><label for='section-d541a65a-aad7-4991-848a-9b8fd5b85395' class='xr-section-summary' >Coordinates: <span>(3)</span></label><div class='xr-section-inline-details'></div><div class='xr-section-details'><ul class='xr-var-list'><li class='xr-var-item'><div class='xr-var-name'><span class='xr-has-index'>time</span></div><div class='xr-var-dims'>(time)</div><div class='xr-var-dtype'>datetime64[ns]</div><div class='xr-var-preview xr-preview'>2022-09-11T01:00:00 ... 2022-09-...</div><input id='attrs-9a6ed11c-78e9-4cbe-8fc9-374936e18b1c' class='xr-var-attrs-in' type='checkbox' ><label for='attrs-9a6ed11c-78e9-4cbe-8fc9-374936e18b1c' title='Show/Hide attributes'><svg class='icon xr-icon-file-text2'><use xlink:href='#icon-file-text2'></use></svg></label><input id='data-0412de30-cf13-40f8-9d6e-1a24d3766230' class='xr-var-data-in' type='checkbox'><label for='data-0412de30-cf13-40f8-9d6e-1a24d3766230' title='Show/Hide data repr'><svg class='icon xr-icon-database'><use xlink:href='#icon-database'></use></svg></label><div class='xr-var-attrs'><dl class='xr-attrs'><dt><span>long_name :</span></dt><dd>valid output time</dd><dt><span>standard_name :</span></dt><dd>time</dd><dt><span>valid_min :</span></dt><dd>27714300</dd><dt><span>valid_max :</span></dt><dd>27715320</dd></dl></div><div class='xr-var-data'><pre>array([&#x27;2022-09-11T01:00:00.000000000&#x27;, &#x27;2022-09-11T02:00:00.000000000&#x27;,\n       &#x27;2022-09-11T03:00:00.000000000&#x27;, &#x27;2022-09-11T04:00:00.000000000&#x27;,\n       &#x27;2022-09-11T05:00:00.000000000&#x27;, &#x27;2022-09-11T06:00:00.000000000&#x27;,\n       &#x27;2022-09-11T07:00:00.000000000&#x27;, &#x27;2022-09-11T08:00:00.000000000&#x27;,\n       &#x27;2022-09-11T09:00:00.000000000&#x27;, &#x27;2022-09-11T10:00:00.000000000&#x27;,\n       &#x27;2022-09-11T11:00:00.000000000&#x27;, &#x27;2022-09-11T12:00:00.000000000&#x27;,\n       &#x27;2022-09-11T13:00:00.000000000&#x27;, &#x27;2022-09-11T14:00:00.000000000&#x27;,\n       &#x27;2022-09-11T15:00:00.000000000&#x27;, &#x27;2022-09-11T16:00:00.000000000&#x27;,\n       &#x27;2022-09-11T17:00:00.000000000&#x27;, &#x27;2022-09-11T18:00:00.000000000&#x27;],\n      dtype=&#x27;datetime64[ns]&#x27;)</pre></div></li><li class='xr-var-item'><div class='xr-var-name'><span class='xr-has-index'>reference_time</span></div><div class='xr-var-dims'>(reference_time)</div><div class='xr-var-dtype'>datetime64[ns]</div><div class='xr-var-preview xr-preview'>2022-09-11</div><input id='attrs-cd25d307-54b9-4d02-9582-a3e14b97eb6a' class='xr-var-attrs-in' type='checkbox' ><label for='attrs-cd25d307-54b9-4d02-9582-a3e14b97eb6a' title='Show/Hide attributes'><svg class='icon xr-icon-file-text2'><use xlink:href='#icon-file-text2'></use></svg></label><input id='data-08dbb602-c08a-44a1-995f-84d2e4a1e119' class='xr-var-data-in' type='checkbox'><label for='data-08dbb602-c08a-44a1-995f-84d2e4a1e119' title='Show/Hide data repr'><svg class='icon xr-icon-database'><use xlink:href='#icon-database'></use></svg></label><div class='xr-var-attrs'><dl class='xr-attrs'><dt><span>long_name :</span></dt><dd>model initialization time</dd><dt><span>standard_name :</span></dt><dd>forecast_reference_time</dd></dl></div><div class='xr-var-data'><pre>array([&#x27;2022-09-11T00:00:00.000000000&#x27;], dtype=&#x27;datetime64[ns]&#x27;)</pre></div></li><li class='xr-var-item'><div class='xr-var-name'><span class='xr-has-index'>feature_id</span></div><div class='xr-var-dims'>(feature_id)</div><div class='xr-var-dtype'>int32</div><div class='xr-var-preview xr-preview'>101 179 ... 1180001803 1180001804</div><input id='attrs-3d6dea9a-e186-461f-83dd-5661aeb9de66' class='xr-var-attrs-in' type='checkbox' ><label for='attrs-3d6dea9a-e186-461f-83dd-5661aeb9de66' title='Show/Hide attributes'><svg class='icon xr-icon-file-text2'><use xlink:href='#icon-file-text2'></use></svg></label><input id='data-1b186207-fbc9-4c00-8ca2-ef811f41425f' class='xr-var-data-in' type='checkbox'><label for='data-1b186207-fbc9-4c00-8ca2-ef811f41425f' title='Show/Hide data repr'><svg class='icon xr-icon-database'><use xlink:href='#icon-database'></use></svg></label><div class='xr-var-attrs'><dl class='xr-attrs'><dt><span>long_name :</span></dt><dd>Reach ID</dd><dt><span>comment :</span></dt><dd>NHDPlusv2 ComIDs within CONUS, arbitrary Reach IDs outside of CONUS</dd><dt><span>cf_role :</span></dt><dd>timeseries_id</dd></dl></div><div class='xr-var-data'><pre>array([       101,        179,        181, ..., 1180001802, 1180001803,\n       1180001804])</pre></div></li></ul></div></li><li class='xr-section-item'><input id='section-47057ce8-7f23-446d-b510-2cfaf87e72bb' class='xr-section-summary-in' type='checkbox'  checked><label for='section-47057ce8-7f23-446d-b510-2cfaf87e72bb' class='xr-section-summary' >Data variables: <span>(7)</span></label><div class='xr-section-inline-details'></div><div class='xr-section-details'><ul class='xr-var-list'><li class='xr-var-item'><div class='xr-var-name'><span>crs</span></div><div class='xr-var-dims'>(time)</div><div class='xr-var-dtype'>|S1</div><div class='xr-var-preview xr-preview'>b&#x27;&#x27; b&#x27;&#x27; b&#x27;&#x27; b&#x27;&#x27; ... b&#x27;&#x27; b&#x27;&#x27; b&#x27;&#x27; b&#x27;&#x27;</div><input id='attrs-f85a4484-2a7e-4083-86c1-8bda91953d86' class='xr-var-attrs-in' type='checkbox' ><label for='attrs-f85a4484-2a7e-4083-86c1-8bda91953d86' title='Show/Hide attributes'><svg class='icon xr-icon-file-text2'><use xlink:href='#icon-file-text2'></use></svg></label><input id='data-35aa542a-5da1-4e8e-8182-7fe3eae6bb6b' class='xr-var-data-in' type='checkbox'><label for='data-35aa542a-5da1-4e8e-8182-7fe3eae6bb6b' title='Show/Hide data repr'><svg class='icon xr-icon-database'><use xlink:href='#icon-database'></use></svg></label><div class='xr-var-attrs'><dl class='xr-attrs'><dt><span>transform_name :</span></dt><dd>latitude longitude</dd><dt><span>grid_mapping_name :</span></dt><dd>latitude longitude</dd><dt><span>esri_pe_string :</span></dt><dd>GEOGCS[&quot;GCS_WGS_1984&quot;,DATUM[&quot;D_WGS_1984&quot;,SPHEROID[&quot;WGS_1984&quot;,6378137.0,298.257223563]],PRIMEM[&quot;Greenwich&quot;,0.0],UNIT[&quot;Degree&quot;,0.0174532925199433]];-400 -400 1000000000;-100000 10000;-100000 10000;8.98315284119521E-09;0.001;0.001;IsHighPrecision</dd><dt><span>spatial_ref :</span></dt><dd>GEOGCS[&quot;GCS_WGS_1984&quot;,DATUM[&quot;D_WGS_1984&quot;,SPHEROID[&quot;WGS_1984&quot;,6378137.0,298.257223563]],PRIMEM[&quot;Greenwich&quot;,0.0],UNIT[&quot;Degree&quot;,0.0174532925199433]];-400 -400 1000000000;-100000 10000;-100000 10000;8.98315284119521E-09;0.001;0.001;IsHighPrecision</dd><dt><span>long_name :</span></dt><dd>CRS definition</dd><dt><span>longitude_of_prime_meridian :</span></dt><dd>0.0</dd><dt><span>_CoordinateAxes :</span></dt><dd>latitude longitude</dd><dt><span>semi_major_axis :</span></dt><dd>6378137.0</dd><dt><span>semi_minor_axis :</span></dt><dd>6356752.5</dd><dt><span>inverse_flattening :</span></dt><dd>298.25723</dd></dl></div><div class='xr-var-data'><pre>array([b&#x27;&#x27;, b&#x27;&#x27;, b&#x27;&#x27;, b&#x27;&#x27;, b&#x27;&#x27;, b&#x27;&#x27;, b&#x27;&#x27;, b&#x27;&#x27;, b&#x27;&#x27;, b&#x27;&#x27;, b&#x27;&#x27;, b&#x27;&#x27;, b&#x27;&#x27;,\n       b&#x27;&#x27;, b&#x27;&#x27;, b&#x27;&#x27;, b&#x27;&#x27;, b&#x27;&#x27;], dtype=&#x27;|S1&#x27;)</pre></div></li><li class='xr-var-item'><div class='xr-var-name'><span>streamflow</span></div><div class='xr-var-dims'>(time, feature_id)</div><div class='xr-var-dtype'>float64</div><div class='xr-var-preview xr-preview'>0.18 0.01 0.01 0.01 ... 0.0 0.0 0.0</div><input id='attrs-a554f672-efc9-43fc-814d-bc2e21ca2198' class='xr-var-attrs-in' type='checkbox' ><label for='attrs-a554f672-efc9-43fc-814d-bc2e21ca2198' title='Show/Hide attributes'><svg class='icon xr-icon-file-text2'><use xlink:href='#icon-file-text2'></use></svg></label><input id='data-17924b12-5781-41fe-84e0-ed273f268cbd' class='xr-var-data-in' type='checkbox'><label for='data-17924b12-5781-41fe-84e0-ed273f268cbd' title='Show/Hide data repr'><svg class='icon xr-icon-database'><use xlink:href='#icon-database'></use></svg></label><div class='xr-var-attrs'><dl class='xr-attrs'><dt><span>long_name :</span></dt><dd>River Flow</dd><dt><span>units :</span></dt><dd>m3 s-1</dd><dt><span>coordinates :</span></dt><dd>latitude longitude</dd><dt><span>grid_mapping :</span></dt><dd>crs</dd><dt><span>valid_range :</span></dt><dd>[      0 5000000]</dd></dl></div><div class='xr-var-data'><pre>array([[0.18, 0.01, 0.01, ..., 0.  , 0.  , 0.  ],\n       [0.18, 0.01, 0.01, ..., 0.  , 0.  , 0.  ],\n       [0.18, 0.01, 0.01, ..., 0.  , 0.  , 0.  ],\n       ...,\n       [0.18, 0.01, 0.01, ..., 0.  , 0.  , 0.  ],\n       [0.18, 0.01, 0.01, ..., 0.  , 0.  , 0.  ],\n       [0.18, 0.01, 0.01, ..., 0.  , 0.  , 0.  ]])</pre></div></li><li class='xr-var-item'><div class='xr-var-name'><span>nudge</span></div><div class='xr-var-dims'>(time, feature_id)</div><div class='xr-var-dtype'>float64</div><div class='xr-var-preview xr-preview'>0.0 0.0 0.0 0.0 ... 0.0 0.0 0.0 0.0</div><input id='attrs-3de3050f-6d44-4547-9486-68d94bfc4271' class='xr-var-attrs-in' type='checkbox' ><label for='attrs-3de3050f-6d44-4547-9486-68d94bfc4271' title='Show/Hide attributes'><svg class='icon xr-icon-file-text2'><use xlink:href='#icon-file-text2'></use></svg></label><input id='data-7a54308e-ce98-4c0b-862e-3325422c6539' class='xr-var-data-in' type='checkbox'><label for='data-7a54308e-ce98-4c0b-862e-3325422c6539' title='Show/Hide data repr'><svg class='icon xr-icon-database'><use xlink:href='#icon-database'></use></svg></label><div class='xr-var-attrs'><dl class='xr-attrs'><dt><span>long_name :</span></dt><dd>Amount of stream flow alteration</dd><dt><span>units :</span></dt><dd>m3 s-1</dd><dt><span>coordinates :</span></dt><dd>latitude longitude</dd><dt><span>grid_mapping :</span></dt><dd>crs</dd><dt><span>valid_range :</span></dt><dd>[-5000000  5000000]</dd></dl></div><div class='xr-var-data'><pre>array([[0., 0., 0., ..., 0., 0., 0.],\n       [0., 0., 0., ..., 0., 0., 0.],\n       [0., 0., 0., ..., 0., 0., 0.],\n       ...,\n       [0., 0., 0., ..., 0., 0., 0.],\n       [0., 0., 0., ..., 0., 0., 0.],\n       [0., 0., 0., ..., 0., 0., 0.]])</pre></div></li><li class='xr-var-item'><div class='xr-var-name'><span>velocity</span></div><div class='xr-var-dims'>(time, feature_id)</div><div class='xr-var-dtype'>float64</div><div class='xr-var-preview xr-preview'>0.08 0.1 0.1 0.01 ... 0.02 0.0 0.02</div><input id='attrs-26815db0-5ffd-404c-a30b-490b8891d644' class='xr-var-attrs-in' type='checkbox' ><label for='attrs-26815db0-5ffd-404c-a30b-490b8891d644' title='Show/Hide attributes'><svg class='icon xr-icon-file-text2'><use xlink:href='#icon-file-text2'></use></svg></label><input id='data-d90f3c0d-763a-4e44-b1e6-b281cc174a83' class='xr-var-data-in' type='checkbox'><label for='data-d90f3c0d-763a-4e44-b1e6-b281cc174a83' title='Show/Hide data repr'><svg class='icon xr-icon-database'><use xlink:href='#icon-database'></use></svg></label><div class='xr-var-attrs'><dl class='xr-attrs'><dt><span>long_name :</span></dt><dd>River Velocity</dd><dt><span>units :</span></dt><dd>m s-1</dd><dt><span>coordinates :</span></dt><dd>latitude longitude</dd><dt><span>grid_mapping :</span></dt><dd>crs</dd><dt><span>valid_range :</span></dt><dd>[      0 5000000]</dd></dl></div><div class='xr-var-data'><pre>array([[0.08, 0.1 , 0.1 , ..., 0.02, 0.  , 0.02],\n       [0.08, 0.1 , 0.1 , ..., 0.02, 0.  , 0.02],\n       [0.08, 0.1 , 0.1 , ..., 0.02, 0.  , 0.02],\n       ...,\n       [0.08, 0.1 , 0.1 , ..., 0.02, 0.  , 0.02],\n       [0.08, 0.1 , 0.1 , ..., 0.02, 0.  , 0.02],\n       [0.08, 0.1 , 0.1 , ..., 0.02, 0.  , 0.02]])</pre></div></li><li class='xr-var-item'><div class='xr-var-name'><span>qSfcLatRunoff</span></div><div class='xr-var-dims'>(time, feature_id)</div><div class='xr-var-dtype'>float64</div><div class='xr-var-preview xr-preview'>0.0 0.0 0.0 0.0 ... 0.0 0.0 0.0 0.0</div><input id='attrs-9879845d-5223-410a-be75-ab08479f8029' class='xr-var-attrs-in' type='checkbox' ><label for='attrs-9879845d-5223-410a-be75-ab08479f8029' title='Show/Hide attributes'><svg class='icon xr-icon-file-text2'><use xlink:href='#icon-file-text2'></use></svg></label><input id='data-2c470f90-9395-412d-9fec-f1d2387839a9' class='xr-var-data-in' type='checkbox'><label for='data-2c470f90-9395-412d-9fec-f1d2387839a9' title='Show/Hide data repr'><svg class='icon xr-icon-database'><use xlink:href='#icon-database'></use></svg></label><div class='xr-var-attrs'><dl class='xr-attrs'><dt><span>long_name :</span></dt><dd>Runoff from terrain routing</dd><dt><span>units :</span></dt><dd>m3 s-1</dd><dt><span>coordinates :</span></dt><dd>latitude longitude</dd><dt><span>grid_mapping :</span></dt><dd>crs</dd><dt><span>valid_range :</span></dt><dd>[         0 2000000000]</dd></dl></div><div class='xr-var-data'><pre>array([[0., 0., 0., ..., 0., 0., 0.],\n       [0., 0., 0., ..., 0., 0., 0.],\n       [0., 0., 0., ..., 0., 0., 0.],\n       ...,\n       [0., 0., 0., ..., 0., 0., 0.],\n       [0., 0., 0., ..., 0., 0., 0.],\n       [0., 0., 0., ..., 0., 0., 0.]])</pre></div></li><li class='xr-var-item'><div class='xr-var-name'><span>qBucket</span></div><div class='xr-var-dims'>(time, feature_id)</div><div class='xr-var-dtype'>float64</div><div class='xr-var-preview xr-preview'>0.00341 0.00858 ... 0.00013 0.00017</div><input id='attrs-0e2e3d8e-c974-4176-83ce-5db37150790d' class='xr-var-attrs-in' type='checkbox' ><label for='attrs-0e2e3d8e-c974-4176-83ce-5db37150790d' title='Show/Hide attributes'><svg class='icon xr-icon-file-text2'><use xlink:href='#icon-file-text2'></use></svg></label><input id='data-bc813565-6d26-4fef-a118-4e5dbba13c20' class='xr-var-data-in' type='checkbox'><label for='data-bc813565-6d26-4fef-a118-4e5dbba13c20' title='Show/Hide data repr'><svg class='icon xr-icon-database'><use xlink:href='#icon-database'></use></svg></label><div class='xr-var-attrs'><dl class='xr-attrs'><dt><span>long_name :</span></dt><dd>Flux from gw bucket</dd><dt><span>units :</span></dt><dd>m3 s-1</dd><dt><span>coordinates :</span></dt><dd>latitude longitude</dd><dt><span>grid_mapping :</span></dt><dd>crs</dd><dt><span>valid_range :</span></dt><dd>[         0 2000000000]</dd></dl></div><div class='xr-var-data'><pre>array([[3.40999991e-03, 8.57999978e-03, 2.33999994e-03, ...,\n        9.99999975e-05, 1.29999997e-04, 1.59999996e-04],\n       [3.40999991e-03, 8.56999978e-03, 2.33999994e-03, ...,\n        9.99999975e-05, 1.29999997e-04, 1.59999996e-04],\n       [3.40999991e-03, 8.54999978e-03, 2.34999994e-03, ...,\n        9.99999975e-05, 1.29999997e-04, 1.59999996e-04],\n       ...,\n       [3.39999991e-03, 8.92999977e-03, 1.85999995e-03, ...,\n        9.99999975e-05, 1.29999997e-04, 1.69999996e-04],\n       [3.39999991e-03, 8.90999977e-03, 1.87999995e-03, ...,\n        9.99999975e-05, 1.29999997e-04, 1.69999996e-04],\n       [3.39999991e-03, 8.87999978e-03, 1.88999995e-03, ...,\n        9.99999975e-05, 1.29999997e-04, 1.69999996e-04]])</pre></div></li><li class='xr-var-item'><div class='xr-var-name'><span>qBtmVertRunoff</span></div><div class='xr-var-dims'>(time, feature_id)</div><div class='xr-var-dtype'>float64</div><div class='xr-var-preview xr-preview'>12.18 26.58 9.311 ... 0.584 0.947</div><input id='attrs-f9ca8b3a-5880-4543-99b1-1e4c74d0ce0f' class='xr-var-attrs-in' type='checkbox' ><label for='attrs-f9ca8b3a-5880-4543-99b1-1e4c74d0ce0f' title='Show/Hide attributes'><svg class='icon xr-icon-file-text2'><use xlink:href='#icon-file-text2'></use></svg></label><input id='data-9bf6d3ec-870e-45f3-a167-6decb7a4bd5d' class='xr-var-data-in' type='checkbox'><label for='data-9bf6d3ec-870e-45f3-a167-6decb7a4bd5d' title='Show/Hide data repr'><svg class='icon xr-icon-database'><use xlink:href='#icon-database'></use></svg></label><div class='xr-var-attrs'><dl class='xr-attrs'><dt><span>long_name :</span></dt><dd>Runoff from bottom of soil to bucket</dd><dt><span>units :</span></dt><dd>m3</dd><dt><span>coordinates :</span></dt><dd>latitude longitude</dd><dt><span>grid_mapping :</span></dt><dd>crs</dd><dt><span>valid_range :</span></dt><dd>[       0 20000000]</dd></dl></div><div class='xr-var-data'><pre>array([[12.18400058, 26.58100126,  9.31100044, ...,  0.39600002,\n         0.52800003,  0.74600004],\n       [12.17100058, 26.51300126,  9.28200044, ...,  0.39700002,\n         0.53100003,  0.75800004],\n       [12.24300058, 26.45000126,  9.25500044, ...,  0.39800002,\n         0.53400003,  0.76900004],\n       ...,\n       [12.04200057, 26.05600124,  9.11800043, ...,  0.41500002,\n         0.57700003,  0.92300004],\n       [12.02900057, 26.08900124,  9.31900044, ...,  0.41700002,\n         0.58000003,  0.93500004],\n       [11.95200057, 25.98600123,  9.28500044, ...,  0.41800002,\n         0.58400003,  0.94700004]])</pre></div></li></ul></div></li><li class='xr-section-item'><input id='section-f662c936-f0fa-4856-bb21-c284ab395ce7' class='xr-section-summary-in' type='checkbox'  ><label for='section-f662c936-f0fa-4856-bb21-c284ab395ce7' class='xr-section-summary' >Attributes: <span>(19)</span></label><div class='xr-section-inline-details'></div><div class='xr-section-details'><dl class='xr-attrs'><dt><span>TITLE :</span></dt><dd>OUTPUT FROM NWM v2.2</dd><dt><span>featureType :</span></dt><dd>timeSeries</dd><dt><span>proj4 :</span></dt><dd>+proj=lcc +units=m +a=6370000.0 +b=6370000.0 +lat_1=30.0 +lat_2=60.0 +lat_0=40.0 +lon_0=-97.0 +x_0=0 +y_0=0 +k_0=1.0 +nadgrids=@</dd><dt><span>model_initialization_time :</span></dt><dd>2022-09-11_00:00:00</dd><dt><span>station_dimension :</span></dt><dd>feature_id</dd><dt><span>model_output_valid_time :</span></dt><dd>2022-09-11_01:00:00</dd><dt><span>model_total_valid_times :</span></dt><dd>18</dd><dt><span>stream_order_output :</span></dt><dd>1</dd><dt><span>cdm_datatype :</span></dt><dd>Station</dd><dt><span>Conventions :</span></dt><dd>CF-1.6</dd><dt><span>code_version :</span></dt><dd>v5.2.0-beta2</dd><dt><span>NWM_version_number :</span></dt><dd>v2.2</dd><dt><span>model_output_type :</span></dt><dd>channel_rt</dd><dt><span>model_configuration :</span></dt><dd>short_range</dd><dt><span>dev_OVRTSWCRT :</span></dt><dd>1</dd><dt><span>dev_NOAH_TIMESTEP :</span></dt><dd>3600</dd><dt><span>dev_channel_only :</span></dt><dd>0</dd><dt><span>dev_channelBucket_only :</span></dt><dd>0</dd><dt><span>dev :</span></dt><dd>dev_ prefix indicates development/internal meta data</dd></dl></div></li></ul></div></div>"
     },
     "execution_count": 4,
     "metadata": {},
     "output_type": "execute_result"
    }
   ],
   "source": [
    "%%time\n",
    "ds = xr.concat(fds,dim=\"time\")\n",
    "ds"
   ],
   "metadata": {
    "collapsed": false,
    "pycharm": {
     "name": "#%%\n"
    }
   }
  },
  {
   "cell_type": "code",
   "execution_count": 5,
   "outputs": [
    {
     "data": {
      "text/plain": "time                 reference_time\n2022-09-11 01:00:00  2022-09-11        0.02\n2022-09-11 02:00:00  2022-09-11        0.01\n2022-09-11 03:00:00  2022-09-11        0.01\n2022-09-11 04:00:00  2022-09-11        0.01\n2022-09-11 05:00:00  2022-09-11        0.01\n2022-09-11 06:00:00  2022-09-11        0.01\n2022-09-11 07:00:00  2022-09-11        0.01\n2022-09-11 08:00:00  2022-09-11        0.01\n2022-09-11 09:00:00  2022-09-11        0.01\n2022-09-11 10:00:00  2022-09-11        0.01\n2022-09-11 11:00:00  2022-09-11        0.01\n2022-09-11 12:00:00  2022-09-11        0.01\n2022-09-11 13:00:00  2022-09-11        0.01\n2022-09-11 14:00:00  2022-09-11        0.01\n2022-09-11 15:00:00  2022-09-11        0.02\n2022-09-11 16:00:00  2022-09-11        0.02\n2022-09-11 17:00:00  2022-09-11        0.02\n2022-09-11 18:00:00  2022-09-11        0.02\nName: streamflow, dtype: float64"
     },
     "execution_count": 5,
     "metadata": {},
     "output_type": "execute_result"
    }
   ],
   "source": [
    "vec = ds.feature_id[179] # 1 feature_id\n",
    "#vec = ds.feature_id[1:100]\n",
    "\n",
    "ds = ds.loc[{\"feature_id\": vec}]\n",
    "\n",
    "df = ds.to_dataframe()\n",
    "df = df.streamflow\n",
    "df"
   ],
   "metadata": {
    "collapsed": false,
    "pycharm": {
     "name": "#%%\n"
    }
   }
  },
  {
   "cell_type": "code",
   "execution_count": 6,
   "outputs": [],
   "source": [
    "#%time ds.loc[{\"feature_id\": vec}].plot.scatter(\"time\", \"streamflow\")"
   ],
   "metadata": {
    "collapsed": false,
    "pycharm": {
     "name": "#%%\n"
    }
   }
  },
  {
   "cell_type": "code",
   "execution_count": 7,
   "outputs": [
    {
     "name": "stdout",
     "output_type": "stream",
     "text": [
      "CPU times: total: 15.6 ms\n",
      "Wall time: 15 ms\n"
     ]
    }
   ],
   "source": [
    "%%time\n",
    "df = pd.Series.to_frame(df)\n",
    "df.to_parquet(\"../data/parquet_1_featureId_pyarrow_snappy.parquet\"\n",
    "             , engine=\"pyarrow\" #\"fastparquet\", \"auto\"\n",
    "             , compression=\"snappy\" # \"snappy\"\n",
    "            )\n"
   ],
   "metadata": {
    "collapsed": false,
    "pycharm": {
     "name": "#%%\n"
    }
   }
  },
  {
   "cell_type": "code",
   "execution_count": 8,
   "outputs": [
    {
     "data": {
      "text/plain": "<pyarrow._parquet.FileMetaData object at 0x0000016154400C20>\n  created_by: parquet-cpp-arrow version 9.0.0\n  num_columns: 3\n  num_rows: 18\n  num_row_groups: 1\n  format_version: 2.6\n  serialized_size: 2414"
     },
     "execution_count": 8,
     "metadata": {},
     "output_type": "execute_result"
    }
   ],
   "source": [
    "ParquetFile(\"../data/parquet_1_featureId_pyarrow_snappy.parquet\").metadata #  num_columns: 3"
   ],
   "metadata": {
    "collapsed": false,
    "pycharm": {
     "name": "#%%\n"
    }
   }
  },
  {
   "cell_type": "code",
   "execution_count": 9,
   "outputs": [
    {
     "name": "stdout",
     "output_type": "stream",
     "text": [
      "CPU times: total: 531 ms\n",
      "Wall time: 519 ms\n"
     ]
    },
    {
     "data": {
      "text/plain": "<matplotlib.collections.PathCollection at 0x1615a011780>"
     },
     "execution_count": 9,
     "metadata": {},
     "output_type": "execute_result"
    },
    {
     "data": {
      "text/plain": "<Figure size 640x480 with 1 Axes>",
      "image/png": "[encoded data removed]"
     },
     "metadata": {},
     "output_type": "display_data"
    }
   ],
   "source": [
    "%%time\n",
    "data = dd.read_parquet(\n",
    "    \"../data/parquet_1_featureId_pyarrow_snappy.parquet\"\n",
    "    , storage_options={\"anon\": True}\n",
    "    )\n",
    "data\n",
    "#%time data.loc[slice(None), int('101')]\n",
    "\n",
    "#result = data.shape[0].compute()\n",
    "result = data.compute()\n",
    "result\n",
    "\n",
    "r_xa = result.to_xarray()\n",
    "r_xa\n",
    "r_xa.plot.scatter(\"time\",\"streamflow\")\n"
   ],
   "metadata": {
    "collapsed": false,
    "pycharm": {
     "name": "#%%\n"
    }
   }
  },
  {
   "cell_type": "code",
   "execution_count": 9,
   "outputs": [],
   "source": [],
   "metadata": {
    "collapsed": false,
    "pycharm": {
     "name": "#%%\n"
    }
   }
  },
  {
   "cell_type": "code",
   "execution_count": 9,
   "outputs": [],
   "source": [],
   "metadata": {
    "collapsed": false,
    "pycharm": {
     "name": "#%%\n"
    }
   }
  },
  {
   "cell_type": "code",
   "execution_count": 9,
   "outputs": [],
   "source": [],
   "metadata": {
    "collapsed": false,
    "pycharm": {
     "name": "#%%\n"
    }
   }
  }
 ],
 "metadata": {
  "kernelspec": {
   "display_name": "Python 3",
   "language": "python",
   "name": "python3"
  },
  "language_info": {
   "codemirror_mode": {
    "name": "ipython",
    "version": 2
   },
   "file_extension": ".py",
   "mimetype": "text/x-python",
   "name": "python",
   "nbconvert_exporter": "python",
   "pygments_lexer": "ipython2",
   "version": "2.7.6"
  }
 },
 "nbformat": 4,
 "nbformat_minor": 0
}