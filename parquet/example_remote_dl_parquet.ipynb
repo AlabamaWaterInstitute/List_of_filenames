{
 "cells": [
  {
   "cell_type": "code",
   "execution_count": 20,
   "metadata": {
    "pycharm": {
     "name": "#%%\n"
    },
    "tags": []
   },
   "outputs": [],
   "source": [
    "import pandas as pd\n",
    "from pyarrow.parquet import ParquetFile\n",
    "import dask.dataframe as dd\n",
    "import os\n",
    "import xarray as xr\n",
    "import ujson\n",
    "import pprint\n",
    "\n",
    "#%matplotlib inline"
   ]
  },
  {
   "cell_type": "code",
   "execution_count": 21,
   "metadata": {
    "pycharm": {
     "name": "#%%\n"
    }
   },
   "outputs": [],
   "source": [
    "# These fs options don't work for http... beware!\n",
    "so = dict(mode=\"rb\", anon=True, default_fill_cache=False, default_cache_type=\"first\")"
   ]
  },
  {
   "cell_type": "code",
   "execution_count": 22,
   "metadata": {
    "pycharm": {
     "name": "#%%\n"
    }
   },
   "outputs": [],
   "source": [
    "def gen_json(u, fs, outf=None):\n",
    "    with fs.open(u, **so) as infile:\n",
    "        h5chunks = SingleHdf5ToZarr(infile, u, inline_threshold=300)\n",
    "        p = u.split(\"/\")\n",
    "        date = p[3]\n",
    "        fname = p[5]\n",
    "        if outf:\n",
    "            # outf = f'{json_dir}{date}.{fname}.json'\n",
    "            with open(outf, \"wb\") as f:\n",
    "                f.write(ujson.dumps(h5chunks.translate()).encode())\n",
    "        else:\n",
    "            return h5chunks.translate()"
   ]
  },
  {
   "cell_type": "code",
   "execution_count": 23,
   "metadata": {
    "collapsed": false,
    "jupyter": {
     "outputs_hidden": false
    },
    "pycharm": {
     "name": "#%%\n"
    }
   },
   "outputs": [],
   "source": [
    "# dir_files = [os.path.join(\"../short_range_18files\", files) for files in os.listdir(\"../short_range_18files\")]\n",
    "# dir_files = [os.path.join(\"short_range_2files\", files) for files in os.listdir(\"short_range_2files\")]\n",
    "# print(dir_files)\n",
    "dir_files = [\n",
    "    \"nwm.t00z.short_range.channel_rt.f001.conus.nc\",\n",
    "    \"nwm.t00z.short_range.channel_rt.f002.conus.nc\",\n",
    "    \"nwm.t00z.short_range.channel_rt.f003.conus.nc\",\n",
    "    \"nwm.t00z.short_range.channel_rt.f004.conus.nc\",\n",
    "    \"nwm.t00z.short_range.channel_rt.f005.conus.nc\",\n",
    "    \"nwm.t00z.short_range.channel_rt.f006.conus.nc\",\n",
    "    \"nwm.t00z.short_range.channel_rt.f007.conus.nc\",\n",
    "    \"nwm.t00z.short_range.channel_rt.f008.conus.nc\",\n",
    "    \"nwm.t00z.short_range.channel_rt.f009.conus.nc\",\n",
    "    \"nwm.t00z.short_range.channel_rt.f010.conus.nc\",\n",
    "    \"nwm.t00z.short_range.channel_rt.f011.conus.nc\",\n",
    "    \"nwm.t00z.short_range.channel_rt.f012.conus.nc\",\n",
    "    \"nwm.t00z.short_range.channel_rt.f013.conus.nc\",\n",
    "    \"nwm.t00z.short_range.channel_rt.f014.conus.nc\",\n",
    "    \"nwm.t00z.short_range.channel_rt.f015.conus.nc\",\n",
    "    \"nwm.t00z.short_range.channel_rt.f016.conus.nc\",\n",
    "    \"nwm.t00z.short_range.channel_rt.f017.conus.nc\",\n",
    "    \"nwm.t00z.short_range.channel_rt.f018.conus.nc\",\n",
    "]"
   ]
  },
  {
   "cell_type": "code",
   "execution_count": 24,
   "metadata": {
    "pycharm": {
     "name": "#%%\n"
    }
   },
   "outputs": [
    {
     "name": "stdout",
     "output_type": "stream",
     "text": [
      "nwm.t00z.short_range.channel_rt.f001.conus.nc\n",
      "nwm.t00z.short_range.channel_rt.f002.conus.nc\n",
      "nwm.t00z.short_range.channel_rt.f003.conus.nc\n",
      "nwm.t00z.short_range.channel_rt.f004.conus.nc\n",
      "nwm.t00z.short_range.channel_rt.f005.conus.nc\n",
      "nwm.t00z.short_range.channel_rt.f006.conus.nc\n",
      "nwm.t00z.short_range.channel_rt.f007.conus.nc\n",
      "nwm.t00z.short_range.channel_rt.f008.conus.nc\n",
      "nwm.t00z.short_range.channel_rt.f009.conus.nc\n",
      "nwm.t00z.short_range.channel_rt.f010.conus.nc\n",
      "nwm.t00z.short_range.channel_rt.f011.conus.nc\n",
      "nwm.t00z.short_range.channel_rt.f012.conus.nc\n",
      "nwm.t00z.short_range.channel_rt.f013.conus.nc\n",
      "nwm.t00z.short_range.channel_rt.f014.conus.nc\n",
      "nwm.t00z.short_range.channel_rt.f015.conus.nc\n",
      "nwm.t00z.short_range.channel_rt.f016.conus.nc\n",
      "nwm.t00z.short_range.channel_rt.f017.conus.nc\n",
      "nwm.t00z.short_range.channel_rt.f018.conus.nc\n"
     ]
    }
   ],
   "source": [
    "import fsspec\n",
    "import xarray as xr\n",
    "from kerchunk.hdf import SingleHdf5ToZarr\n",
    "\n",
    "fs = fsspec.filesystem(\"gcs\", anon=True)\n",
    "\n",
    "# https://storage.googleapis.com/national-water-model/nwm.20220911/short_range/nwm.t00z.short_range.channel_rt.f001.conus.nc\n",
    "# gcs_url = \"gcs://national-water-model/nwm.20220911/short_range/nwm.t00z.short_range.channel_rt.f001.conus.nc\"\n",
    "gcs_url = \"gcs://national-water-model/nwm.20220911/short_range/\"\n",
    "\n",
    "sr_h5 = []\n",
    "for f in dir_files:\n",
    "    print(f)\n",
    "    sr_h5.append(gen_json(gcs_url + f, fs))"
   ]
  },
  {
   "cell_type": "code",
   "execution_count": 25,
   "metadata": {
    "collapsed": false,
    "jupyter": {
     "outputs_hidden": false
    },
    "pycharm": {
     "name": "#%%\n"
    }
   },
   "outputs": [
    {
     "name": "stdout",
     "output_type": "stream",
     "text": [
      "CPU times: total: 1.05 s\n",
      "Wall time: 11.9 s\n"
     ]
    }
   ],
   "source": [
    "%%time\n",
    "fds = []\n",
    "for xj in sr_h5:\n",
    "    backend_args = {\n",
    "        \"consolidated\": False,\n",
    "        \"storage_options\": {\n",
    "            \"fo\": xj,\n",
    "            # Adding these options returns a properly dimensioned but otherwise null dataframe\n",
    "            # \"remote_protocol\": \"https\",\n",
    "            # \"remote_options\": {'anon':True}\n",
    "        },\n",
    "    }\n",
    "    fds.append(\n",
    "        xr.open_dataset(\n",
    "            \"reference://\",\n",
    "            engine=\"zarr\",\n",
    "            mask_and_scale=False,\n",
    "            backend_kwargs=backend_args,\n",
    "        )\n",
    "    )"
   ]
  },
  {
   "cell_type": "code",
   "execution_count": 26,
   "metadata": {
    "collapsed": false,
    "jupyter": {
     "outputs_hidden": false
    },
    "pycharm": {
     "name": "#%%\n"
    }
   },
   "outputs": [
    {
     "name": "stdout",
     "output_type": "stream",
     "text": [
      "CPU times: total: 5.52 s\n",
      "Wall time: 17.7 s\n"
     ]
    },
    {
     "data": {
      "text/plain": "<xarray.Dataset>\nDimensions:         (time: 18, feature_id: 2776738, reference_time: 1)\nCoordinates:\n  * feature_id      (feature_id) int32 101 179 181 ... 1180001803 1180001804\n  * reference_time  (reference_time) datetime64[ns] 2022-09-11\n  * time            (time) datetime64[ns] 2022-09-11T01:00:00 ... 2022-09-11T...\nData variables:\n    crs             (time) |S1 b'' b'' b'' b'' b'' b'' ... b'' b'' b'' b'' b''\n    nudge           (time, feature_id) int32 0 0 0 0 0 0 0 0 ... 0 0 0 0 0 0 0 0\n    qBtmVertRunoff  (time, feature_id) int32 12184 26581 9311 ... 418 584 947\n    qBucket         (time, feature_id) int32 341 858 234 87 32 ... 0 4 10 13 17\n    qSfcLatRunoff   (time, feature_id) int32 0 0 0 0 0 0 0 0 ... 0 0 0 0 0 0 0 0\n    streamflow      (time, feature_id) int32 18 1 1 1 1 0 1 0 ... 0 0 0 0 0 0 0\n    velocity        (time, feature_id) int32 8 10 10 1 1 7 14 ... 0 3 2 1 2 0 2\nAttributes: (12/19)\n    Conventions:                CF-1.6\n    NWM_version_number:         v2.2\n    TITLE:                      OUTPUT FROM NWM v2.2\n    cdm_datatype:               Station\n    code_version:               v5.2.0-beta2\n    dev:                        dev_ prefix indicates development/internal me...\n    ...                         ...\n    model_output_type:          channel_rt\n    model_output_valid_time:    2022-09-11_01:00:00\n    model_total_valid_times:    18\n    proj4:                      +proj=lcc +units=m +a=6370000.0 +b=6370000.0 ...\n    station_dimension:          feature_id\n    stream_order_output:        1",
      "text/html": "<div><svg style=\"position: absolute; width: 0; height: 0; overflow: hidden\">\n<defs>\n<symbol id=\"icon-database\" viewBox=\"0 0 32 32\">\n<path d=\"M16 0c-8.837 0-16 2.239-16 5v4c0 2.761 7.163 5 16 5s16-2.239 16-5v-4c0-2.761-7.163-5-16-5z\"></path>\n<path d=\"M16 17c-8.837 0-16-2.239-16-5v6c0 2.761 7.163 5 16 5s16-2.239 16-5v-6c0 2.761-7.163 5-16 5z\"></path>\n<path d=\"M16 26c-8.837 0-16-2.239-16-5v6c0 2.761 7.163 5 16 5s16-2.239 16-5v-6c0 2.761-7.163 5-16 5z\"></path>\n</symbol>\n<symbol id=\"icon-file-text2\" viewBox=\"0 0 32 32\">\n<path d=\"M28.681 7.159c-0.694-0.947-1.662-2.053-2.724-3.116s-2.169-2.030-3.116-2.724c-1.612-1.182-2.393-1.319-2.841-1.319h-15.5c-1.378 0-2.5 1.121-2.5 2.5v27c0 1.378 1.122 2.5 2.5 2.5h23c1.378 0 2.5-1.122 2.5-2.5v-19.5c0-0.448-0.137-1.23-1.319-2.841zM24.543 5.457c0.959 0.959 1.712 1.825 2.268 2.543h-4.811v-4.811c0.718 0.556 1.584 1.309 2.543 2.268zM28 29.5c0 0.271-0.229 0.5-0.5 0.5h-23c-0.271 0-0.5-0.229-0.5-0.5v-27c0-0.271 0.229-0.5 0.5-0.5 0 0 15.499-0 15.5 0v7c0 0.552 0.448 1 1 1h7v19.5z\"></path>\n<path d=\"M23 26h-14c-0.552 0-1-0.448-1-1s0.448-1 1-1h14c0.552 0 1 0.448 1 1s-0.448 1-1 1z\"></path>\n<path d=\"M23 22h-14c-0.552 0-1-0.448-1-1s0.448-1 1-1h14c0.552 0 1 0.448 1 1s-0.448 1-1 1z\"></path>\n<path d=\"M23 18h-14c-0.552 0-1-0.448-1-1s0.448-1 1-1h14c0.552 0 1 0.448 1 1s-0.448 1-1 1z\"></path>\n</symbol>\n</defs>\n</svg>\n<style>/* CSS stylesheet for displaying xarray objects in jupyterlab.\n *\n */\n\n:root {\n  --xr-font-color0: var(--jp-content-font-color0, rgba(0, 0, 0, 1));\n  --xr-font-color2: var(--jp-content-font-color2, rgba(0, 0, 0, 0.54));\n  --xr-font-color3: var(--jp-content-font-color3, rgba(0, 0, 0, 0.38));\n  --xr-border-color: var(--jp-border-color2, #e0e0e0);\n  --xr-disabled-color: var(--jp-layout-color3, #bdbdbd);\n  --xr-background-color: var(--jp-layout-color0, white);\n  --xr-background-color-row-even: var(--jp-layout-color1, white);\n  --xr-background-color-row-odd: var(--jp-layout-color2, #eeeeee);\n}\n\nhtml[theme=dark],\nbody[data-theme=dark],\nbody.vscode-dark {\n  --xr-font-color0: rgba(255, 255, 255, 1);\n  --xr-font-color2: rgba(255, 255, 255, 0.54);\n  --xr-font-color3: rgba(255, 255, 255, 0.38);\n  --xr-border-color: #1F1F1F;\n  --xr-disabled-color: #515151;\n  --xr-background-color: #111111;\n  --xr-background-color-row-even: #111111;\n  --xr-background-color-row-odd: #313131;\n}\n\n.xr-wrap {\n  display: block !important;\n  min-width: 300px;\n  max-width: 700px;\n}\n\n.xr-text-repr-fallback {\n  /* fallback to plain text repr when CSS is not injected (untrusted notebook) */\n  display: none;\n}\n\n.xr-header {\n  padding-top: 6px;\n  padding-bottom: 6px;\n  margin-bottom: 4px;\n  border-bottom: solid 1px var(--xr-border-color);\n}\n\n.xr-header > div,\n.xr-header > ul {\n  display: inline;\n  margin-top: 0;\n  margin-bottom: 0;\n}\n\n.xr-obj-type,\n.xr-array-name {\n  margin-left: 2px;\n  margin-right: 10px;\n}\n\n.xr-obj-type {\n  color: var(--xr-font-color2);\n}\n\n.xr-sections {\n  padding-left: 0 !important;\n  display: grid;\n  grid-template-columns: 150px auto auto 1fr 20px 20px;\n}\n\n.xr-section-item {\n  display: contents;\n}\n\n.xr-section-item input {\n  display: none;\n}\n\n.xr-section-item input + label {\n  color: var(--xr-disabled-color);\n}\n\n.xr-section-item input:enabled + label {\n  cursor: pointer;\n  color: var(--xr-font-color2);\n}\n\n.xr-section-item input:enabled + label:hover {\n  color: var(--xr-font-color0);\n}\n\n.xr-section-summary {\n  grid-column: 1;\n  color: var(--xr-font-color2);\n  font-weight: 500;\n}\n\n.xr-section-summary > span {\n  display: inline-block;\n  padding-left: 0.5em;\n}\n\n.xr-section-summary-in:disabled + label {\n  color: var(--xr-font-color2);\n}\n\n.xr-section-summary-in + label:before {\n  display: inline-block;\n  content: '►';\n  font-size: 11px;\n  width: 15px;\n  text-align: center;\n}\n\n.xr-section-summary-in:disabled + label:before {\n  color: var(--xr-disabled-color);\n}\n\n.xr-section-summary-in:checked + label:before {\n  content: '▼';\n}\n\n.xr-section-summary-in:checked + label > span {\n  display: none;\n}\n\n.xr-section-summary,\n.xr-section-inline-details {\n  padding-top: 4px;\n  padding-bottom: 4px;\n}\n\n.xr-section-inline-details {\n  grid-column: 2 / -1;\n}\n\n.xr-section-details {\n  display: none;\n  grid-column: 1 / -1;\n  margin-bottom: 5px;\n}\n\n.xr-section-summary-in:checked ~ .xr-section-details {\n  display: contents;\n}\n\n.xr-array-wrap {\n  grid-column: 1 / -1;\n  display: grid;\n  grid-template-columns: 20px auto;\n}\n\n.xr-array-wrap > label {\n  grid-column: 1;\n  vertical-align: top;\n}\n\n.xr-preview {\n  color: var(--xr-font-color3);\n}\n\n.xr-array-preview,\n.xr-array-data {\n  padding: 0 5px !important;\n  grid-column: 2;\n}\n\n.xr-array-data,\n.xr-array-in:checked ~ .xr-array-preview {\n  display: none;\n}\n\n.xr-array-in:checked ~ .xr-array-data,\n.xr-array-preview {\n  display: inline-block;\n}\n\n.xr-dim-list {\n  display: inline-block !important;\n  list-style: none;\n  padding: 0 !important;\n  margin: 0;\n}\n\n.xr-dim-list li {\n  display: inline-block;\n  padding: 0;\n  margin: 0;\n}\n\n.xr-dim-list:before {\n  content: '(';\n}\n\n.xr-dim-list:after {\n  content: ')';\n}\n\n.xr-dim-list li:not(:last-child):after {\n  content: ',';\n  padding-right: 5px;\n}\n\n.xr-has-index {\n  font-weight: bold;\n}\n\n.xr-var-list,\n.xr-var-item {\n  display: contents;\n}\n\n.xr-var-item > div,\n.xr-var-item label,\n.xr-var-item > .xr-var-name span {\n  background-color: var(--xr-background-color-row-even);\n  margin-bottom: 0;\n}\n\n.xr-var-item > .xr-var-name:hover span {\n  padding-right: 5px;\n}\n\n.xr-var-list > li:nth-child(odd) > div,\n.xr-var-list > li:nth-child(odd) > label,\n.xr-var-list > li:nth-child(odd) > .xr-var-name span {\n  background-color: var(--xr-background-color-row-odd);\n}\n\n.xr-var-name {\n  grid-column: 1;\n}\n\n.xr-var-dims {\n  grid-column: 2;\n}\n\n.xr-var-dtype {\n  grid-column: 3;\n  text-align: right;\n  color: var(--xr-font-color2);\n}\n\n.xr-var-preview {\n  grid-column: 4;\n}\n\n.xr-var-name,\n.xr-var-dims,\n.xr-var-dtype,\n.xr-preview,\n.xr-attrs dt {\n  white-space: nowrap;\n  overflow: hidden;\n  text-overflow: ellipsis;\n  padding-right: 10px;\n}\n\n.xr-var-name:hover,\n.xr-var-dims:hover,\n.xr-var-dtype:hover,\n.xr-attrs dt:hover {\n  overflow: visible;\n  width: auto;\n  z-index: 1;\n}\n\n.xr-var-attrs,\n.xr-var-data {\n  display: none;\n  background-color: var(--xr-background-color) !important;\n  padding-bottom: 5px !important;\n}\n\n.xr-var-attrs-in:checked ~ .xr-var-attrs,\n.xr-var-data-in:checked ~ .xr-var-data {\n  display: block;\n}\n\n.xr-var-data > table {\n  float: right;\n}\n\n.xr-var-name span,\n.xr-var-data,\n.xr-attrs {\n  padding-left: 25px !important;\n}\n\n.xr-attrs,\n.xr-var-attrs,\n.xr-var-data {\n  grid-column: 1 / -1;\n}\n\ndl.xr-attrs {\n  padding: 0;\n  margin: 0;\n  display: grid;\n  grid-template-columns: 125px auto;\n}\n\n.xr-attrs dt,\n.xr-attrs dd {\n  padding: 0;\n  margin: 0;\n  float: left;\n  padding-right: 10px;\n  width: auto;\n}\n\n.xr-attrs dt {\n  font-weight: normal;\n  grid-column: 1;\n}\n\n.xr-attrs dt:hover span {\n  display: inline-block;\n  background: var(--xr-background-color);\n  padding-right: 10px;\n}\n\n.xr-attrs dd {\n  grid-column: 2;\n  white-space: pre-wrap;\n  word-break: break-all;\n}\n\n.xr-icon-database,\n.xr-icon-file-text2 {\n  display: inline-block;\n  vertical-align: middle;\n  width: 1em;\n  height: 1.5em !important;\n  stroke-width: 0;\n  stroke: currentColor;\n  fill: currentColor;\n}\n</style><pre class='xr-text-repr-fallback'>&lt;xarray.Dataset&gt;\nDimensions:         (time: 18, feature_id: 2776738, reference_time: 1)\nCoordinates:\n  * feature_id      (feature_id) int32 101 179 181 ... 1180001803 1180001804\n  * reference_time  (reference_time) datetime64[ns] 2022-09-11\n  * time            (time) datetime64[ns] 2022-09-11T01:00:00 ... 2022-09-11T...\nData variables:\n    crs             (time) |S1 b&#x27;&#x27; b&#x27;&#x27; b&#x27;&#x27; b&#x27;&#x27; b&#x27;&#x27; b&#x27;&#x27; ... b&#x27;&#x27; b&#x27;&#x27; b&#x27;&#x27; b&#x27;&#x27; b&#x27;&#x27;\n    nudge           (time, feature_id) int32 0 0 0 0 0 0 0 0 ... 0 0 0 0 0 0 0 0\n    qBtmVertRunoff  (time, feature_id) int32 12184 26581 9311 ... 418 584 947\n    qBucket         (time, feature_id) int32 341 858 234 87 32 ... 0 4 10 13 17\n    qSfcLatRunoff   (time, feature_id) int32 0 0 0 0 0 0 0 0 ... 0 0 0 0 0 0 0 0\n    streamflow      (time, feature_id) int32 18 1 1 1 1 0 1 0 ... 0 0 0 0 0 0 0\n    velocity        (time, feature_id) int32 8 10 10 1 1 7 14 ... 0 3 2 1 2 0 2\nAttributes: (12/19)\n    Conventions:                CF-1.6\n    NWM_version_number:         v2.2\n    TITLE:                      OUTPUT FROM NWM v2.2\n    cdm_datatype:               Station\n    code_version:               v5.2.0-beta2\n    dev:                        dev_ prefix indicates development/internal me...\n    ...                         ...\n    model_output_type:          channel_rt\n    model_output_valid_time:    2022-09-11_01:00:00\n    model_total_valid_times:    18\n    proj4:                      +proj=lcc +units=m +a=6370000.0 +b=6370000.0 ...\n    station_dimension:          feature_id\n    stream_order_output:        1</pre><div class='xr-wrap' style='display:none'><div class='xr-header'><div class='xr-obj-type'>xarray.Dataset</div></div><ul class='xr-sections'><li class='xr-section-item'><input id='section-5adda1b0-26c5-40be-ac24-797d63241995' class='xr-section-summary-in' type='checkbox' disabled ><label for='section-5adda1b0-26c5-40be-ac24-797d63241995' class='xr-section-summary'  title='Expand/collapse section'>Dimensions:</label><div class='xr-section-inline-details'><ul class='xr-dim-list'><li><span class='xr-has-index'>time</span>: 18</li><li><span class='xr-has-index'>feature_id</span>: 2776738</li><li><span class='xr-has-index'>reference_time</span>: 1</li></ul></div><div class='xr-section-details'></div></li><li class='xr-section-item'><input id='section-3536829e-5149-47b4-b796-2b5afdfee924' class='xr-section-summary-in' type='checkbox'  checked><label for='section-3536829e-5149-47b4-b796-2b5afdfee924' class='xr-section-summary' >Coordinates: <span>(3)</span></label><div class='xr-section-inline-details'></div><div class='xr-section-details'><ul class='xr-var-list'><li class='xr-var-item'><div class='xr-var-name'><span class='xr-has-index'>feature_id</span></div><div class='xr-var-dims'>(feature_id)</div><div class='xr-var-dtype'>int32</div><div class='xr-var-preview xr-preview'>101 179 ... 1180001803 1180001804</div><input id='attrs-6ce3d67a-82b3-4494-997e-854223207654' class='xr-var-attrs-in' type='checkbox' ><label for='attrs-6ce3d67a-82b3-4494-997e-854223207654' title='Show/Hide attributes'><svg class='icon xr-icon-file-text2'><use xlink:href='#icon-file-text2'></use></svg></label><input id='data-78b2841c-bb94-44b3-8bdc-334a5809fc38' class='xr-var-data-in' type='checkbox'><label for='data-78b2841c-bb94-44b3-8bdc-334a5809fc38' title='Show/Hide data repr'><svg class='icon xr-icon-database'><use xlink:href='#icon-database'></use></svg></label><div class='xr-var-attrs'><dl class='xr-attrs'><dt><span>cf_role :</span></dt><dd>timeseries_id</dd><dt><span>comment :</span></dt><dd>NHDPlusv2 ComIDs within CONUS, arbitrary Reach IDs outside of CONUS</dd><dt><span>long_name :</span></dt><dd>Reach ID</dd><dt><span>_FillValue :</span></dt><dd>0</dd></dl></div><div class='xr-var-data'><pre>array([       101,        179,        181, ..., 1180001802, 1180001803,\n       1180001804])</pre></div></li><li class='xr-var-item'><div class='xr-var-name'><span class='xr-has-index'>reference_time</span></div><div class='xr-var-dims'>(reference_time)</div><div class='xr-var-dtype'>datetime64[ns]</div><div class='xr-var-preview xr-preview'>2022-09-11</div><input id='attrs-8636b01a-66e4-4639-9e99-cff8840a7129' class='xr-var-attrs-in' type='checkbox' ><label for='attrs-8636b01a-66e4-4639-9e99-cff8840a7129' title='Show/Hide attributes'><svg class='icon xr-icon-file-text2'><use xlink:href='#icon-file-text2'></use></svg></label><input id='data-becc72f5-fa92-4b59-b772-4b6268791f19' class='xr-var-data-in' type='checkbox'><label for='data-becc72f5-fa92-4b59-b772-4b6268791f19' title='Show/Hide data repr'><svg class='icon xr-icon-database'><use xlink:href='#icon-database'></use></svg></label><div class='xr-var-attrs'><dl class='xr-attrs'><dt><span>long_name :</span></dt><dd>model initialization time</dd><dt><span>standard_name :</span></dt><dd>forecast_reference_time</dd></dl></div><div class='xr-var-data'><pre>array([&#x27;2022-09-11T00:00:00.000000000&#x27;], dtype=&#x27;datetime64[ns]&#x27;)</pre></div></li><li class='xr-var-item'><div class='xr-var-name'><span class='xr-has-index'>time</span></div><div class='xr-var-dims'>(time)</div><div class='xr-var-dtype'>datetime64[ns]</div><div class='xr-var-preview xr-preview'>2022-09-11T01:00:00 ... 2022-09-...</div><input id='attrs-74e8ec7d-cc59-40a6-9768-6a3a349181c1' class='xr-var-attrs-in' type='checkbox' ><label for='attrs-74e8ec7d-cc59-40a6-9768-6a3a349181c1' title='Show/Hide attributes'><svg class='icon xr-icon-file-text2'><use xlink:href='#icon-file-text2'></use></svg></label><input id='data-f941f4fa-bfa3-48ed-a164-bc649d8e3d3a' class='xr-var-data-in' type='checkbox'><label for='data-f941f4fa-bfa3-48ed-a164-bc649d8e3d3a' title='Show/Hide data repr'><svg class='icon xr-icon-database'><use xlink:href='#icon-database'></use></svg></label><div class='xr-var-attrs'><dl class='xr-attrs'><dt><span>long_name :</span></dt><dd>valid output time</dd><dt><span>standard_name :</span></dt><dd>time</dd><dt><span>valid_max :</span></dt><dd>27715320</dd><dt><span>valid_min :</span></dt><dd>27714300</dd></dl></div><div class='xr-var-data'><pre>array([&#x27;2022-09-11T01:00:00.000000000&#x27;, &#x27;2022-09-11T02:00:00.000000000&#x27;,\n       &#x27;2022-09-11T03:00:00.000000000&#x27;, &#x27;2022-09-11T04:00:00.000000000&#x27;,\n       &#x27;2022-09-11T05:00:00.000000000&#x27;, &#x27;2022-09-11T06:00:00.000000000&#x27;,\n       &#x27;2022-09-11T07:00:00.000000000&#x27;, &#x27;2022-09-11T08:00:00.000000000&#x27;,\n       &#x27;2022-09-11T09:00:00.000000000&#x27;, &#x27;2022-09-11T10:00:00.000000000&#x27;,\n       &#x27;2022-09-11T11:00:00.000000000&#x27;, &#x27;2022-09-11T12:00:00.000000000&#x27;,\n       &#x27;2022-09-11T13:00:00.000000000&#x27;, &#x27;2022-09-11T14:00:00.000000000&#x27;,\n       &#x27;2022-09-11T15:00:00.000000000&#x27;, &#x27;2022-09-11T16:00:00.000000000&#x27;,\n       &#x27;2022-09-11T17:00:00.000000000&#x27;, &#x27;2022-09-11T18:00:00.000000000&#x27;],\n      dtype=&#x27;datetime64[ns]&#x27;)</pre></div></li></ul></div></li><li class='xr-section-item'><input id='section-74fb28a4-83fd-4add-a5c6-44d48d83443f' class='xr-section-summary-in' type='checkbox'  checked><label for='section-74fb28a4-83fd-4add-a5c6-44d48d83443f' class='xr-section-summary' >Data variables: <span>(7)</span></label><div class='xr-section-inline-details'></div><div class='xr-section-details'><ul class='xr-var-list'><li class='xr-var-item'><div class='xr-var-name'><span>crs</span></div><div class='xr-var-dims'>(time)</div><div class='xr-var-dtype'>|S1</div><div class='xr-var-preview xr-preview'>b&#x27;&#x27; b&#x27;&#x27; b&#x27;&#x27; b&#x27;&#x27; ... b&#x27;&#x27; b&#x27;&#x27; b&#x27;&#x27; b&#x27;&#x27;</div><input id='attrs-6a7a34f9-fb16-49ca-ba4d-f3abb1f9468f' class='xr-var-attrs-in' type='checkbox' ><label for='attrs-6a7a34f9-fb16-49ca-ba4d-f3abb1f9468f' title='Show/Hide attributes'><svg class='icon xr-icon-file-text2'><use xlink:href='#icon-file-text2'></use></svg></label><input id='data-506a9083-2d93-4f40-a421-ce5b4a9367a8' class='xr-var-data-in' type='checkbox'><label for='data-506a9083-2d93-4f40-a421-ce5b4a9367a8' title='Show/Hide data repr'><svg class='icon xr-icon-database'><use xlink:href='#icon-database'></use></svg></label><div class='xr-var-attrs'><dl class='xr-attrs'><dt><span>_CoordinateAxes :</span></dt><dd>latitude longitude</dd><dt><span>esri_pe_string :</span></dt><dd>GEOGCS[&quot;GCS_WGS_1984&quot;,DATUM[&quot;D_WGS_1984&quot;,SPHEROID[&quot;WGS_1984&quot;,6378137.0,298.257223563]],PRIMEM[&quot;Greenwich&quot;,0.0],UNIT[&quot;Degree&quot;,0.0174532925199433]];-400 -400 1000000000;-100000 10000;-100000 10000;8.98315284119521E-09;0.001;0.001;IsHighPrecision</dd><dt><span>grid_mapping_name :</span></dt><dd>latitude longitude</dd><dt><span>inverse_flattening :</span></dt><dd>298.2572326660156</dd><dt><span>long_name :</span></dt><dd>CRS definition</dd><dt><span>longitude_of_prime_meridian :</span></dt><dd>0.0</dd><dt><span>semi_major_axis :</span></dt><dd>6378137.0</dd><dt><span>semi_minor_axis :</span></dt><dd>6356752.5</dd><dt><span>spatial_ref :</span></dt><dd>GEOGCS[&quot;GCS_WGS_1984&quot;,DATUM[&quot;D_WGS_1984&quot;,SPHEROID[&quot;WGS_1984&quot;,6378137.0,298.257223563]],PRIMEM[&quot;Greenwich&quot;,0.0],UNIT[&quot;Degree&quot;,0.0174532925199433]];-400 -400 1000000000;-100000 10000;-100000 10000;8.98315284119521E-09;0.001;0.001;IsHighPrecision</dd><dt><span>transform_name :</span></dt><dd>latitude longitude</dd><dt><span>_FillValue :</span></dt><dd>b&#x27; &#x27;</dd></dl></div><div class='xr-var-data'><pre>array([b&#x27;&#x27;, b&#x27;&#x27;, b&#x27;&#x27;, b&#x27;&#x27;, b&#x27;&#x27;, b&#x27;&#x27;, b&#x27;&#x27;, b&#x27;&#x27;, b&#x27;&#x27;, b&#x27;&#x27;, b&#x27;&#x27;, b&#x27;&#x27;, b&#x27;&#x27;,\n       b&#x27;&#x27;, b&#x27;&#x27;, b&#x27;&#x27;, b&#x27;&#x27;, b&#x27;&#x27;], dtype=&#x27;|S1&#x27;)</pre></div></li><li class='xr-var-item'><div class='xr-var-name'><span>nudge</span></div><div class='xr-var-dims'>(time, feature_id)</div><div class='xr-var-dtype'>int32</div><div class='xr-var-preview xr-preview'>0 0 0 0 0 0 0 0 ... 0 0 0 0 0 0 0 0</div><input id='attrs-7c9cb429-14d4-4f34-bbb0-8ea85df25efe' class='xr-var-attrs-in' type='checkbox' ><label for='attrs-7c9cb429-14d4-4f34-bbb0-8ea85df25efe' title='Show/Hide attributes'><svg class='icon xr-icon-file-text2'><use xlink:href='#icon-file-text2'></use></svg></label><input id='data-8a2481a7-f89d-4e19-90ff-84c2f1d7ad1d' class='xr-var-data-in' type='checkbox'><label for='data-8a2481a7-f89d-4e19-90ff-84c2f1d7ad1d' title='Show/Hide data repr'><svg class='icon xr-icon-database'><use xlink:href='#icon-database'></use></svg></label><div class='xr-var-attrs'><dl class='xr-attrs'><dt><span>add_offset :</span></dt><dd>0.0</dd><dt><span>coordinates :</span></dt><dd>latitude longitude</dd><dt><span>grid_mapping :</span></dt><dd>crs</dd><dt><span>long_name :</span></dt><dd>Amount of stream flow alteration</dd><dt><span>missing_value :</span></dt><dd>-999900</dd><dt><span>scale_factor :</span></dt><dd>0.009999999776482582</dd><dt><span>units :</span></dt><dd>m3 s-1</dd><dt><span>valid_range :</span></dt><dd>[-5000000, 5000000]</dd><dt><span>_FillValue :</span></dt><dd>-999900</dd></dl></div><div class='xr-var-data'><pre>array([[0, 0, 0, ..., 0, 0, 0],\n       [0, 0, 0, ..., 0, 0, 0],\n       [0, 0, 0, ..., 0, 0, 0],\n       ...,\n       [0, 0, 0, ..., 0, 0, 0],\n       [0, 0, 0, ..., 0, 0, 0],\n       [0, 0, 0, ..., 0, 0, 0]])</pre></div></li><li class='xr-var-item'><div class='xr-var-name'><span>qBtmVertRunoff</span></div><div class='xr-var-dims'>(time, feature_id)</div><div class='xr-var-dtype'>int32</div><div class='xr-var-preview xr-preview'>12184 26581 9311 ... 418 584 947</div><input id='attrs-9cde7c3f-b524-4b9f-aacc-a3a7bcbb6e73' class='xr-var-attrs-in' type='checkbox' ><label for='attrs-9cde7c3f-b524-4b9f-aacc-a3a7bcbb6e73' title='Show/Hide attributes'><svg class='icon xr-icon-file-text2'><use xlink:href='#icon-file-text2'></use></svg></label><input id='data-2cf062dc-95a4-4d5b-928d-ab3f3ac0a1f4' class='xr-var-data-in' type='checkbox'><label for='data-2cf062dc-95a4-4d5b-928d-ab3f3ac0a1f4' title='Show/Hide data repr'><svg class='icon xr-icon-database'><use xlink:href='#icon-database'></use></svg></label><div class='xr-var-attrs'><dl class='xr-attrs'><dt><span>add_offset :</span></dt><dd>0.0</dd><dt><span>coordinates :</span></dt><dd>latitude longitude</dd><dt><span>grid_mapping :</span></dt><dd>crs</dd><dt><span>long_name :</span></dt><dd>Runoff from bottom of soil to bucket</dd><dt><span>missing_value :</span></dt><dd>-9999000</dd><dt><span>scale_factor :</span></dt><dd>0.0010000000474974513</dd><dt><span>units :</span></dt><dd>m3</dd><dt><span>valid_range :</span></dt><dd>[0, 20000000]</dd><dt><span>_FillValue :</span></dt><dd>-9999000</dd></dl></div><div class='xr-var-data'><pre>array([[12184, 26581,  9311, ...,   396,   528,   746],\n       [12171, 26513,  9282, ...,   397,   531,   758],\n       [12243, 26450,  9255, ...,   398,   534,   769],\n       ...,\n       [12042, 26056,  9118, ...,   415,   577,   923],\n       [12029, 26089,  9319, ...,   417,   580,   935],\n       [11952, 25986,  9285, ...,   418,   584,   947]])</pre></div></li><li class='xr-var-item'><div class='xr-var-name'><span>qBucket</span></div><div class='xr-var-dims'>(time, feature_id)</div><div class='xr-var-dtype'>int32</div><div class='xr-var-preview xr-preview'>341 858 234 87 32 ... 0 4 10 13 17</div><input id='attrs-449ace09-9f83-45a1-bf6f-dfc95df49001' class='xr-var-attrs-in' type='checkbox' ><label for='attrs-449ace09-9f83-45a1-bf6f-dfc95df49001' title='Show/Hide attributes'><svg class='icon xr-icon-file-text2'><use xlink:href='#icon-file-text2'></use></svg></label><input id='data-1291ee80-ac16-4b7c-9942-2dbd70cd1216' class='xr-var-data-in' type='checkbox'><label for='data-1291ee80-ac16-4b7c-9942-2dbd70cd1216' title='Show/Hide data repr'><svg class='icon xr-icon-database'><use xlink:href='#icon-database'></use></svg></label><div class='xr-var-attrs'><dl class='xr-attrs'><dt><span>add_offset :</span></dt><dd>0.0</dd><dt><span>coordinates :</span></dt><dd>latitude longitude</dd><dt><span>grid_mapping :</span></dt><dd>crs</dd><dt><span>long_name :</span></dt><dd>Flux from gw bucket</dd><dt><span>missing_value :</span></dt><dd>-999900000</dd><dt><span>scale_factor :</span></dt><dd>9.999999747378752e-06</dd><dt><span>units :</span></dt><dd>m3 s-1</dd><dt><span>valid_range :</span></dt><dd>[0, 2000000000]</dd><dt><span>_FillValue :</span></dt><dd>-999900000</dd></dl></div><div class='xr-var-data'><pre>array([[341, 858, 234, ...,  10,  13,  16],\n       [341, 857, 234, ...,  10,  13,  16],\n       [341, 855, 235, ...,  10,  13,  16],\n       ...,\n       [340, 893, 186, ...,  10,  13,  17],\n       [340, 891, 188, ...,  10,  13,  17],\n       [340, 888, 189, ...,  10,  13,  17]])</pre></div></li><li class='xr-var-item'><div class='xr-var-name'><span>qSfcLatRunoff</span></div><div class='xr-var-dims'>(time, feature_id)</div><div class='xr-var-dtype'>int32</div><div class='xr-var-preview xr-preview'>0 0 0 0 0 0 0 0 ... 0 0 0 0 0 0 0 0</div><input id='attrs-99a197c4-117e-4085-8c62-c2cd0f1df45d' class='xr-var-attrs-in' type='checkbox' ><label for='attrs-99a197c4-117e-4085-8c62-c2cd0f1df45d' title='Show/Hide attributes'><svg class='icon xr-icon-file-text2'><use xlink:href='#icon-file-text2'></use></svg></label><input id='data-3428a502-0b99-48d4-9d37-373654dab3d3' class='xr-var-data-in' type='checkbox'><label for='data-3428a502-0b99-48d4-9d37-373654dab3d3' title='Show/Hide data repr'><svg class='icon xr-icon-database'><use xlink:href='#icon-database'></use></svg></label><div class='xr-var-attrs'><dl class='xr-attrs'><dt><span>add_offset :</span></dt><dd>0.0</dd><dt><span>coordinates :</span></dt><dd>latitude longitude</dd><dt><span>grid_mapping :</span></dt><dd>crs</dd><dt><span>long_name :</span></dt><dd>Runoff from terrain routing</dd><dt><span>missing_value :</span></dt><dd>-999900000</dd><dt><span>scale_factor :</span></dt><dd>9.999999747378752e-06</dd><dt><span>units :</span></dt><dd>m3 s-1</dd><dt><span>valid_range :</span></dt><dd>[0, 2000000000]</dd><dt><span>_FillValue :</span></dt><dd>-999900000</dd></dl></div><div class='xr-var-data'><pre>array([[0, 0, 0, ..., 0, 0, 0],\n       [0, 0, 0, ..., 0, 0, 0],\n       [0, 0, 0, ..., 0, 0, 0],\n       ...,\n       [0, 0, 0, ..., 0, 0, 0],\n       [0, 0, 0, ..., 0, 0, 0],\n       [0, 0, 0, ..., 0, 0, 0]])</pre></div></li><li class='xr-var-item'><div class='xr-var-name'><span>streamflow</span></div><div class='xr-var-dims'>(time, feature_id)</div><div class='xr-var-dtype'>int32</div><div class='xr-var-preview xr-preview'>18 1 1 1 1 0 1 0 ... 0 0 0 0 0 0 0</div><input id='attrs-c4c6bcf9-0b9f-45dc-bbf2-0a5e5003e36d' class='xr-var-attrs-in' type='checkbox' ><label for='attrs-c4c6bcf9-0b9f-45dc-bbf2-0a5e5003e36d' title='Show/Hide attributes'><svg class='icon xr-icon-file-text2'><use xlink:href='#icon-file-text2'></use></svg></label><input id='data-db508466-11c8-483d-8b26-c172a86e87de' class='xr-var-data-in' type='checkbox'><label for='data-db508466-11c8-483d-8b26-c172a86e87de' title='Show/Hide data repr'><svg class='icon xr-icon-database'><use xlink:href='#icon-database'></use></svg></label><div class='xr-var-attrs'><dl class='xr-attrs'><dt><span>add_offset :</span></dt><dd>0.0</dd><dt><span>coordinates :</span></dt><dd>latitude longitude</dd><dt><span>grid_mapping :</span></dt><dd>crs</dd><dt><span>long_name :</span></dt><dd>River Flow</dd><dt><span>missing_value :</span></dt><dd>-999900</dd><dt><span>scale_factor :</span></dt><dd>0.009999999776482582</dd><dt><span>units :</span></dt><dd>m3 s-1</dd><dt><span>valid_range :</span></dt><dd>[0, 5000000]</dd><dt><span>_FillValue :</span></dt><dd>-999900</dd></dl></div><div class='xr-var-data'><pre>array([[18,  1,  1, ...,  0,  0,  0],\n       [18,  1,  1, ...,  0,  0,  0],\n       [18,  1,  1, ...,  0,  0,  0],\n       ...,\n       [18,  1,  1, ...,  0,  0,  0],\n       [18,  1,  1, ...,  0,  0,  0],\n       [18,  1,  1, ...,  0,  0,  0]])</pre></div></li><li class='xr-var-item'><div class='xr-var-name'><span>velocity</span></div><div class='xr-var-dims'>(time, feature_id)</div><div class='xr-var-dtype'>int32</div><div class='xr-var-preview xr-preview'>8 10 10 1 1 7 14 ... 0 3 2 1 2 0 2</div><input id='attrs-4ffd90c0-9adf-4d0c-843a-0b91ef4ad568' class='xr-var-attrs-in' type='checkbox' ><label for='attrs-4ffd90c0-9adf-4d0c-843a-0b91ef4ad568' title='Show/Hide attributes'><svg class='icon xr-icon-file-text2'><use xlink:href='#icon-file-text2'></use></svg></label><input id='data-f1700471-8c9b-449c-aa0a-2bc6c057ba94' class='xr-var-data-in' type='checkbox'><label for='data-f1700471-8c9b-449c-aa0a-2bc6c057ba94' title='Show/Hide data repr'><svg class='icon xr-icon-database'><use xlink:href='#icon-database'></use></svg></label><div class='xr-var-attrs'><dl class='xr-attrs'><dt><span>add_offset :</span></dt><dd>0.0</dd><dt><span>coordinates :</span></dt><dd>latitude longitude</dd><dt><span>grid_mapping :</span></dt><dd>crs</dd><dt><span>long_name :</span></dt><dd>River Velocity</dd><dt><span>missing_value :</span></dt><dd>-999900</dd><dt><span>scale_factor :</span></dt><dd>0.009999999776482582</dd><dt><span>units :</span></dt><dd>m s-1</dd><dt><span>valid_range :</span></dt><dd>[0, 5000000]</dd><dt><span>_FillValue :</span></dt><dd>-999900</dd></dl></div><div class='xr-var-data'><pre>array([[ 8, 10, 10, ...,  2,  0,  2],\n       [ 8, 10, 10, ...,  2,  0,  2],\n       [ 8, 10, 10, ...,  2,  0,  2],\n       ...,\n       [ 8, 10, 10, ...,  2,  0,  2],\n       [ 8, 10, 10, ...,  2,  0,  2],\n       [ 8, 10, 10, ...,  2,  0,  2]])</pre></div></li></ul></div></li><li class='xr-section-item'><input id='section-d30a5bd6-ee09-4651-b3f4-761957676223' class='xr-section-summary-in' type='checkbox'  ><label for='section-d30a5bd6-ee09-4651-b3f4-761957676223' class='xr-section-summary' >Attributes: <span>(19)</span></label><div class='xr-section-inline-details'></div><div class='xr-section-details'><dl class='xr-attrs'><dt><span>Conventions :</span></dt><dd>CF-1.6</dd><dt><span>NWM_version_number :</span></dt><dd>v2.2</dd><dt><span>TITLE :</span></dt><dd>OUTPUT FROM NWM v2.2</dd><dt><span>cdm_datatype :</span></dt><dd>Station</dd><dt><span>code_version :</span></dt><dd>v5.2.0-beta2</dd><dt><span>dev :</span></dt><dd>dev_ prefix indicates development/internal meta data</dd><dt><span>dev_NOAH_TIMESTEP :</span></dt><dd>3600</dd><dt><span>dev_OVRTSWCRT :</span></dt><dd>1</dd><dt><span>dev_channelBucket_only :</span></dt><dd>0</dd><dt><span>dev_channel_only :</span></dt><dd>0</dd><dt><span>featureType :</span></dt><dd>timeSeries</dd><dt><span>model_configuration :</span></dt><dd>short_range</dd><dt><span>model_initialization_time :</span></dt><dd>2022-09-11_00:00:00</dd><dt><span>model_output_type :</span></dt><dd>channel_rt</dd><dt><span>model_output_valid_time :</span></dt><dd>2022-09-11_01:00:00</dd><dt><span>model_total_valid_times :</span></dt><dd>18</dd><dt><span>proj4 :</span></dt><dd>+proj=lcc +units=m +a=6370000.0 +b=6370000.0 +lat_1=30.0 +lat_2=60.0 +lat_0=40.0 +lon_0=-97.0 +x_0=0 +y_0=0 +k_0=1.0 +nadgrids=@</dd><dt><span>station_dimension :</span></dt><dd>feature_id</dd><dt><span>stream_order_output :</span></dt><dd>1</dd></dl></div></li></ul></div></div>"
     },
     "execution_count": 26,
     "metadata": {},
     "output_type": "execute_result"
    }
   ],
   "source": [
    "%%time\n",
    "ds = xr.concat(fds, dim=\"time\")\n",
    "ds"
   ]
  },
  {
   "cell_type": "code",
   "execution_count": 27,
   "metadata": {
    "collapsed": false,
    "jupyter": {
     "outputs_hidden": false
    },
    "pycharm": {
     "name": "#%%\n"
    }
   },
   "outputs": [],
   "source": [
    "df = ds[\"streamflow\"].to_dataframe()"
   ]
  },
  {
   "cell_type": "code",
   "execution_count": 28,
   "metadata": {
    "collapsed": false,
    "jupyter": {
     "outputs_hidden": false
    },
    "pycharm": {
     "name": "#%%\n"
    }
   },
   "outputs": [
    {
     "data": {
      "text/plain": "                                streamflow\ntime                feature_id            \n2022-09-11 01:00:00 101                 18\n                    179                  1\n                    181                  1\n                    183                  1\n                    185                  1\n...                                    ...\n2022-09-11 18:00:00 1180001800           0\n                    1180001801           0\n                    1180001802           0\n                    1180001803           0\n                    1180001804           0\n\n[49981284 rows x 1 columns]",
      "text/html": "<div>\n<style scoped>\n    .dataframe tbody tr th:only-of-type {\n        vertical-align: middle;\n    }\n\n    .dataframe tbody tr th {\n        vertical-align: top;\n    }\n\n    .dataframe thead th {\n        text-align: right;\n    }\n</style>\n<table border=\"1\" class=\"dataframe\">\n  <thead>\n    <tr style=\"text-align: right;\">\n      <th></th>\n      <th></th>\n      <th>streamflow</th>\n    </tr>\n    <tr>\n      <th>time</th>\n      <th>feature_id</th>\n      <th></th>\n    </tr>\n  </thead>\n  <tbody>\n    <tr>\n      <th rowspan=\"5\" valign=\"top\">2022-09-11 01:00:00</th>\n      <th>101</th>\n      <td>18</td>\n    </tr>\n    <tr>\n      <th>179</th>\n      <td>1</td>\n    </tr>\n    <tr>\n      <th>181</th>\n      <td>1</td>\n    </tr>\n    <tr>\n      <th>183</th>\n      <td>1</td>\n    </tr>\n    <tr>\n      <th>185</th>\n      <td>1</td>\n    </tr>\n    <tr>\n      <th>...</th>\n      <th>...</th>\n      <td>...</td>\n    </tr>\n    <tr>\n      <th rowspan=\"5\" valign=\"top\">2022-09-11 18:00:00</th>\n      <th>1180001800</th>\n      <td>0</td>\n    </tr>\n    <tr>\n      <th>1180001801</th>\n      <td>0</td>\n    </tr>\n    <tr>\n      <th>1180001802</th>\n      <td>0</td>\n    </tr>\n    <tr>\n      <th>1180001803</th>\n      <td>0</td>\n    </tr>\n    <tr>\n      <th>1180001804</th>\n      <td>0</td>\n    </tr>\n  </tbody>\n</table>\n<p>49981284 rows × 1 columns</p>\n</div>"
     },
     "execution_count": 28,
     "metadata": {},
     "output_type": "execute_result"
    }
   ],
   "source": [
    "# df = df.streamflow\n",
    "df"
   ]
  },
  {
   "cell_type": "code",
   "execution_count": 29,
   "metadata": {
    "collapsed": false,
    "jupyter": {
     "outputs_hidden": false
    },
    "pycharm": {
     "name": "#%%\n"
    }
   },
   "outputs": [
    {
     "name": "stdout",
     "output_type": "stream",
     "text": [
      "CPU times: total: 33.6 s\n",
      "Wall time: 33.9 s\n"
     ]
    }
   ],
   "source": [
    "%%time\n",
    "# df = pd.Series.to_frame(df)\n",
    "\n",
    "df.to_parquet(\n",
    "    \"../data/parquet_all_feature_ids.gzip\", engine=\"pyarrow\", compression=\"gzip\"\n",
    ")"
   ]
  },
  {
   "cell_type": "code",
   "execution_count": 30,
   "metadata": {
    "collapsed": false,
    "jupyter": {
     "outputs_hidden": false
    },
    "pycharm": {
     "name": "#%%\n"
    }
   },
   "outputs": [
    {
     "data": {
      "text/plain": "<pyarrow._parquet.FileMetaData object at 0x000001A104A16FC0>\n  created_by: parquet-cpp-arrow version 9.0.0\n  num_columns: 3\n  num_rows: 49981284\n  num_row_groups: 1\n  format_version: 2.6\n  serialized_size: 2374"
     },
     "execution_count": 30,
     "metadata": {},
     "output_type": "execute_result"
    }
   ],
   "source": [
    "ParquetFile(\"../data/parquet_all_feature_ids.gzip\").metadata  #  num_columns: 3"
   ]
  },
  {
   "cell_type": "code",
   "execution_count": 43,
   "metadata": {
    "collapsed": false,
    "jupyter": {
     "outputs_hidden": false
    },
    "pycharm": {
     "name": "#%%\n"
    }
   },
   "outputs": [
    {
     "name": "stdout",
     "output_type": "stream",
     "text": [
      "CPU times: total: 6 s\n",
      "Wall time: 6.08 s\n"
     ]
    }
   ],
   "source": [
    "%%time\n",
    "data = dd.read_parquet(\n",
    "    \"../data/parquet_all_feature_ids.gzip\", storage_options={\"anon\": True}\n",
    ")\n",
    "data\n",
    "result = data.compute()"
   ]
  },
  {
   "cell_type": "code",
   "execution_count": 44,
   "metadata": {
    "collapsed": false,
    "jupyter": {
     "outputs_hidden": false
    },
    "pycharm": {
     "name": "#%%\n"
    }
   },
   "outputs": [
    {
     "ename": "SyntaxError",
     "evalue": "invalid syntax (2698373235.py, line 1)",
     "output_type": "error",
     "traceback": [
      "\u001B[1;36m  Input \u001B[1;32mIn [44]\u001B[1;36m\u001B[0m\n\u001B[1;33m    result = result.loc[[101,:,:]]\u001B[0m\n\u001B[1;37m                             ^\u001B[0m\n\u001B[1;31mSyntaxError\u001B[0m\u001B[1;31m:\u001B[0m invalid syntax\n"
     ]
    }
   ],
   "source": [
    "result = result.loc[[101,:,:]]\n",
    "#result = result.loc[:, 100:1032]\n",
    "# result= result.loc[:, :, 1000:11000]\n",
    "# result= result.loc[:, :, 10000:110000]\n",
    "result\n",
    "r_xa = result.to_xarray()\n",
    "r_xa\n",
    "r_xa.plot.scatter(\"time\", \"streamflow\")"
   ]
  },
  {
   "cell_type": "code",
   "execution_count": null,
   "metadata": {
    "collapsed": false,
    "jupyter": {
     "outputs_hidden": false
    },
    "pycharm": {
     "name": "#%%\n"
    }
   },
   "outputs": [],
   "source": []
  }
 ],
 "metadata": {
  "kernelspec": {
   "display_name": "Python 3 (ipykernel)",
   "language": "python",
   "name": "python3"
  },
  "language_info": {
   "codemirror_mode": {
    "name": "ipython",
    "version": 3
   },
   "file_extension": ".py",
   "mimetype": "text/x-python",
   "name": "python",
   "nbconvert_exporter": "python",
   "pygments_lexer": "ipython3",
   "version": "3.9.6"
  }
 },
 "nbformat": 4,
 "nbformat_minor": 4
}