{
 "cells": [
  {
   "cell_type": "code",
   "execution_count": 19,
   "metadata": {
    "pycharm": {
     "name": "#%%\n"
    },
    "tags": []
   },
   "outputs": [
    {
     "data": {
      "application/javascript": [
       "\n",
       "            setTimeout(function() {\n",
       "                var nbb_cell_id = 19;\n",
       "                var nbb_unformatted_code = \"%load_ext nb_black\\nimport pandas as pd\\nfrom pyarrow.parquet import ParquetFile\\nimport dask.dataframe as dd\\nimport os\\nimport xarray as xr\\nimport ujson\\nimport pprint\";\n",
       "                var nbb_formatted_code = \"%load_ext nb_black\\nimport pandas as pd\\nfrom pyarrow.parquet import ParquetFile\\nimport dask.dataframe as dd\\nimport os\\nimport xarray as xr\\nimport ujson\\nimport pprint\";\n",
       "                var nbb_cells = Jupyter.notebook.get_cells();\n",
       "                for (var i = 0; i < nbb_cells.length; ++i) {\n",
       "                    if (nbb_cells[i].input_prompt_number == nbb_cell_id) {\n",
       "                        if (nbb_cells[i].get_text() == nbb_unformatted_code) {\n",
       "                             nbb_cells[i].set_text(nbb_formatted_code);\n",
       "                        }\n",
       "                        break;\n",
       "                    }\n",
       "                }\n",
       "            }, 500);\n",
       "            "
      ],
      "text/plain": [
       "<IPython.core.display.Javascript object>"
      ]
     },
     "metadata": {},
     "output_type": "display_data"
    }
   ],
   "source": [
    "%load_ext nb_black\n",
    "import pandas as pd\n",
    "from pyarrow.parquet import ParquetFile\n",
    "import dask.dataframe as dd\n",
    "import os\n",
    "import xarray as xr\n",
    "import ujson\n",
    "import pprint"
   ]
  },
  {
   "cell_type": "code",
   "execution_count": 20,
   "metadata": {
    "pycharm": {
     "name": "#%%\n"
    }
   },
   "outputs": [
    {
     "data": {
      "application/javascript": [
       "\n",
       "            setTimeout(function() {\n",
       "                var nbb_cell_id = 20;\n",
       "                var nbb_unformatted_code = \"# These fs options don't work for http... beware!\\nso = dict(mode=\\\"rb\\\", anon=True, default_fill_cache=False, default_cache_type=\\\"first\\\")\";\n",
       "                var nbb_formatted_code = \"# These fs options don't work for http... beware!\\nso = dict(mode=\\\"rb\\\", anon=True, default_fill_cache=False, default_cache_type=\\\"first\\\")\";\n",
       "                var nbb_cells = Jupyter.notebook.get_cells();\n",
       "                for (var i = 0; i < nbb_cells.length; ++i) {\n",
       "                    if (nbb_cells[i].input_prompt_number == nbb_cell_id) {\n",
       "                        if (nbb_cells[i].get_text() == nbb_unformatted_code) {\n",
       "                             nbb_cells[i].set_text(nbb_formatted_code);\n",
       "                        }\n",
       "                        break;\n",
       "                    }\n",
       "                }\n",
       "            }, 500);\n",
       "            "
      ],
      "text/plain": [
       "<IPython.core.display.Javascript object>"
      ]
     },
     "metadata": {},
     "output_type": "display_data"
    }
   ],
   "source": [
    "# These fs options don't work for http... beware!\n",
    "so = dict(mode=\"rb\", anon=True, default_fill_cache=False, default_cache_type=\"first\")"
   ]
  },
  {
   "cell_type": "code",
   "execution_count": 21,
   "metadata": {
    "pycharm": {
     "name": "#%%\n"
    },
    "tags": []
   },
   "outputs": [
    {
     "data": {
      "application/javascript": [
       "\n",
       "            setTimeout(function() {\n",
       "                var nbb_cell_id = 21;\n",
       "                var nbb_unformatted_code = \"def gen_json(u, fs, outf=None):\\n    with fs.open(u, **so) as infile:\\n        h5chunks = SingleHdf5ToZarr(infile, u, inline_threshold=300)\\n        p = u.split(\\\"/\\\")\\n        date = p[3]\\n        fname = p[5]\\n        if outf:\\n            # outf = f'{json_dir}{date}.{fname}.json'\\n            with open(outf, \\\"wb\\\") as f:\\n                f.write(ujson.dumps(h5chunks.translate()).encode())\\n        else:\\n            return h5chunks.translate()\";\n",
       "                var nbb_formatted_code = \"def gen_json(u, fs, outf=None):\\n    with fs.open(u, **so) as infile:\\n        h5chunks = SingleHdf5ToZarr(infile, u, inline_threshold=300)\\n        p = u.split(\\\"/\\\")\\n        date = p[3]\\n        fname = p[5]\\n        if outf:\\n            # outf = f'{json_dir}{date}.{fname}.json'\\n            with open(outf, \\\"wb\\\") as f:\\n                f.write(ujson.dumps(h5chunks.translate()).encode())\\n        else:\\n            return h5chunks.translate()\";\n",
       "                var nbb_cells = Jupyter.notebook.get_cells();\n",
       "                for (var i = 0; i < nbb_cells.length; ++i) {\n",
       "                    if (nbb_cells[i].input_prompt_number == nbb_cell_id) {\n",
       "                        if (nbb_cells[i].get_text() == nbb_unformatted_code) {\n",
       "                             nbb_cells[i].set_text(nbb_formatted_code);\n",
       "                        }\n",
       "                        break;\n",
       "                    }\n",
       "                }\n",
       "            }, 500);\n",
       "            "
      ],
      "text/plain": [
       "<IPython.core.display.Javascript object>"
      ]
     },
     "metadata": {},
     "output_type": "display_data"
    }
   ],
   "source": [
    "def gen_json(u, fs, outf=None):\n",
    "    with fs.open(u, **so) as infile:\n",
    "        h5chunks = SingleHdf5ToZarr(infile, u, inline_threshold=300)\n",
    "        p = u.split(\"/\")\n",
    "        date = p[3]\n",
    "        fname = p[5]\n",
    "        if outf:\n",
    "            # outf = f'{json_dir}{date}.{fname}.json'\n",
    "            with open(outf, \"wb\") as f:\n",
    "                f.write(ujson.dumps(h5chunks.translate()).encode())\n",
    "        else:\n",
    "            return h5chunks.translate()"
   ]
  },
  {
   "cell_type": "code",
   "execution_count": 46,
   "metadata": {},
   "outputs": [
    {
     "data": {
      "application/javascript": [
       "\n",
       "            setTimeout(function() {\n",
       "                var nbb_cell_id = 46;\n",
       "                var nbb_unformatted_code = \"# Short range channel_rt files from 20220911 - e.g: nwm.t00z.short_range.channel_rt.f001.conus.nc - nwm.t00z.short_range.channel_rt.f018.conus.nc\\\"\\n\\nfiles=[]\\nfor f in range(1,19):\\n    files.append(f'gcs://national-water-model/nwm.20220911/short_range/nwm.t00z.short_range.channel_rt.f{f:03d}.conus.nc')    \";\n",
       "                var nbb_formatted_code = \"# Short range channel_rt files from 20220911 - e.g: nwm.t00z.short_range.channel_rt.f001.conus.nc - nwm.t00z.short_range.channel_rt.f018.conus.nc\\\"\\n\\nfiles = []\\nfor f in range(1, 19):\\n    files.append(\\n        f\\\"gcs://national-water-model/nwm.20220911/short_range/nwm.t00z.short_range.channel_rt.f{f:03d}.conus.nc\\\"\\n    )\";\n",
       "                var nbb_cells = Jupyter.notebook.get_cells();\n",
       "                for (var i = 0; i < nbb_cells.length; ++i) {\n",
       "                    if (nbb_cells[i].input_prompt_number == nbb_cell_id) {\n",
       "                        if (nbb_cells[i].get_text() == nbb_unformatted_code) {\n",
       "                             nbb_cells[i].set_text(nbb_formatted_code);\n",
       "                        }\n",
       "                        break;\n",
       "                    }\n",
       "                }\n",
       "            }, 500);\n",
       "            "
      ],
      "text/plain": [
       "<IPython.core.display.Javascript object>"
      ]
     },
     "metadata": {},
     "output_type": "display_data"
    }
   ],
   "source": [
    "# Short range channel_rt files from 20220911 - e.g: nwm.t00z.short_range.channel_rt.f001.conus.nc - nwm.t00z.short_range.channel_rt.f018.conus.nc\"\n",
    "\n",
    "files=[]\n",
    "for f in range(1,19):\n",
    "    files.append(f'gcs://national-water-model/nwm.20220911/short_range/nwm.t00z.short_range.channel_rt.f{f:03d}.conus.nc')    "
   ]
  },
  {
   "cell_type": "code",
   "execution_count": 23,
   "metadata": {
    "pycharm": {
     "name": "#%%\n"
    }
   },
   "outputs": [
    {
     "name": "stdout",
     "output_type": "stream",
     "text": [
      "gcs://national-water-model/nwm.20220911/short_range/nwm.t00z.short_range.channel_rt.f001.conus.nc\n",
      "gcs://national-water-model/nwm.20220911/short_range/nwm.t00z.short_range.channel_rt.f002.conus.nc\n",
      "gcs://national-water-model/nwm.20220911/short_range/nwm.t00z.short_range.channel_rt.f003.conus.nc\n",
      "gcs://national-water-model/nwm.20220911/short_range/nwm.t00z.short_range.channel_rt.f004.conus.nc\n",
      "gcs://national-water-model/nwm.20220911/short_range/nwm.t00z.short_range.channel_rt.f005.conus.nc\n",
      "gcs://national-water-model/nwm.20220911/short_range/nwm.t00z.short_range.channel_rt.f006.conus.nc\n",
      "gcs://national-water-model/nwm.20220911/short_range/nwm.t00z.short_range.channel_rt.f007.conus.nc\n",
      "gcs://national-water-model/nwm.20220911/short_range/nwm.t00z.short_range.channel_rt.f008.conus.nc\n",
      "gcs://national-water-model/nwm.20220911/short_range/nwm.t00z.short_range.channel_rt.f009.conus.nc\n",
      "gcs://national-water-model/nwm.20220911/short_range/nwm.t00z.short_range.channel_rt.f010.conus.nc\n",
      "gcs://national-water-model/nwm.20220911/short_range/nwm.t00z.short_range.channel_rt.f011.conus.nc\n",
      "gcs://national-water-model/nwm.20220911/short_range/nwm.t00z.short_range.channel_rt.f012.conus.nc\n",
      "gcs://national-water-model/nwm.20220911/short_range/nwm.t00z.short_range.channel_rt.f013.conus.nc\n",
      "gcs://national-water-model/nwm.20220911/short_range/nwm.t00z.short_range.channel_rt.f014.conus.nc\n",
      "gcs://national-water-model/nwm.20220911/short_range/nwm.t00z.short_range.channel_rt.f015.conus.nc\n",
      "gcs://national-water-model/nwm.20220911/short_range/nwm.t00z.short_range.channel_rt.f016.conus.nc\n",
      "gcs://national-water-model/nwm.20220911/short_range/nwm.t00z.short_range.channel_rt.f017.conus.nc\n",
      "gcs://national-water-model/nwm.20220911/short_range/nwm.t00z.short_range.channel_rt.f018.conus.nc\n"
     ]
    },
    {
     "data": {
      "application/javascript": [
       "\n",
       "            setTimeout(function() {\n",
       "                var nbb_cell_id = 23;\n",
       "                var nbb_unformatted_code = \"import fsspec\\nimport xarray as xr\\nfrom kerchunk.hdf import SingleHdf5ToZarr\\n\\nfs = fsspec.filesystem(\\\"gcs\\\", anon=True)\\n\\n# https://storage.googleapis.com/national-water-model/nwm.20220911/short_range/nwm.t00z.short_range.channel_rt.f001.conus.nc\\n# gcs_url = \\\"gcs://national-water-model/nwm.20220911/short_range/nwm.t00z.short_range.channel_rt.f001.conus.nc\\\"\\n#gcs_url = \\\"gcs://national-water-model/nwm.20220911/short_range/\\\"\\n\\nsr_h5 = []\\nfor f in files:\\n    print(f)\\n    sr_h5.append(gen_json(f, fs))\";\n",
       "                var nbb_formatted_code = \"import fsspec\\nimport xarray as xr\\nfrom kerchunk.hdf import SingleHdf5ToZarr\\n\\nfs = fsspec.filesystem(\\\"gcs\\\", anon=True)\\n\\n# https://storage.googleapis.com/national-water-model/nwm.20220911/short_range/nwm.t00z.short_range.channel_rt.f001.conus.nc\\n# gcs_url = \\\"gcs://national-water-model/nwm.20220911/short_range/nwm.t00z.short_range.channel_rt.f001.conus.nc\\\"\\n# gcs_url = \\\"gcs://national-water-model/nwm.20220911/short_range/\\\"\\n\\nsr_h5 = []\\nfor f in files:\\n    print(f)\\n    sr_h5.append(gen_json(f, fs))\";\n",
       "                var nbb_cells = Jupyter.notebook.get_cells();\n",
       "                for (var i = 0; i < nbb_cells.length; ++i) {\n",
       "                    if (nbb_cells[i].input_prompt_number == nbb_cell_id) {\n",
       "                        if (nbb_cells[i].get_text() == nbb_unformatted_code) {\n",
       "                             nbb_cells[i].set_text(nbb_formatted_code);\n",
       "                        }\n",
       "                        break;\n",
       "                    }\n",
       "                }\n",
       "            }, 500);\n",
       "            "
      ],
      "text/plain": [
       "<IPython.core.display.Javascript object>"
      ]
     },
     "metadata": {},
     "output_type": "display_data"
    }
   ],
   "source": [
    "import fsspec\n",
    "import xarray as xr\n",
    "from kerchunk.hdf import SingleHdf5ToZarr\n",
    "\n",
    "fs = fsspec.filesystem(\"gcs\", anon=True)\n",
    "\n",
    "sr_h5 = []\n",
    "for f in files:\n",
    "    print(f)\n",
    "    sr_h5.append(gen_json(f, fs))"
   ]
  },
  {
   "cell_type": "code",
   "execution_count": 24,
   "metadata": {
    "collapsed": false,
    "jupyter": {
     "outputs_hidden": false
    },
    "pycharm": {
     "name": "#%%\n"
    }
   },
   "outputs": [
    {
     "name": "stdout",
     "output_type": "stream",
     "text": [
      "CPU times: user 8.36 s, sys: 1.67 s, total: 10 s\n",
      "Wall time: 15.9 s\n"
     ]
    },
    {
     "data": {
      "text/html": [
       "<div>\n",
       "<style scoped>\n",
       "    .dataframe tbody tr th:only-of-type {\n",
       "        vertical-align: middle;\n",
       "    }\n",
       "\n",
       "    .dataframe tbody tr th {\n",
       "        vertical-align: top;\n",
       "    }\n",
       "\n",
       "    .dataframe thead th {\n",
       "        text-align: right;\n",
       "    }\n",
       "</style>\n",
       "<table border=\"1\" class=\"dataframe\">\n",
       "  <thead>\n",
       "    <tr style=\"text-align: right;\">\n",
       "      <th></th>\n",
       "      <th></th>\n",
       "      <th>streamflow</th>\n",
       "    </tr>\n",
       "    <tr>\n",
       "      <th>time</th>\n",
       "      <th>feature_id</th>\n",
       "      <th></th>\n",
       "    </tr>\n",
       "  </thead>\n",
       "  <tbody>\n",
       "    <tr>\n",
       "      <th rowspan=\"5\" valign=\"top\">2022-09-11 01:00:00</th>\n",
       "      <th>101</th>\n",
       "      <td>18</td>\n",
       "    </tr>\n",
       "    <tr>\n",
       "      <th>179</th>\n",
       "      <td>1</td>\n",
       "    </tr>\n",
       "    <tr>\n",
       "      <th>181</th>\n",
       "      <td>1</td>\n",
       "    </tr>\n",
       "    <tr>\n",
       "      <th>183</th>\n",
       "      <td>1</td>\n",
       "    </tr>\n",
       "    <tr>\n",
       "      <th>185</th>\n",
       "      <td>1</td>\n",
       "    </tr>\n",
       "    <tr>\n",
       "      <th>...</th>\n",
       "      <th>...</th>\n",
       "      <td>...</td>\n",
       "    </tr>\n",
       "    <tr>\n",
       "      <th rowspan=\"5\" valign=\"top\">2022-09-11 18:00:00</th>\n",
       "      <th>1180001800</th>\n",
       "      <td>0</td>\n",
       "    </tr>\n",
       "    <tr>\n",
       "      <th>1180001801</th>\n",
       "      <td>0</td>\n",
       "    </tr>\n",
       "    <tr>\n",
       "      <th>1180001802</th>\n",
       "      <td>0</td>\n",
       "    </tr>\n",
       "    <tr>\n",
       "      <th>1180001803</th>\n",
       "      <td>0</td>\n",
       "    </tr>\n",
       "    <tr>\n",
       "      <th>1180001804</th>\n",
       "      <td>0</td>\n",
       "    </tr>\n",
       "  </tbody>\n",
       "</table>\n",
       "<p>49981284 rows × 1 columns</p>\n",
       "</div>"
      ],
      "text/plain": [
       "                                streamflow\n",
       "time                feature_id            \n",
       "2022-09-11 01:00:00 101                 18\n",
       "                    179                  1\n",
       "                    181                  1\n",
       "                    183                  1\n",
       "                    185                  1\n",
       "...                                    ...\n",
       "2022-09-11 18:00:00 1180001800           0\n",
       "                    1180001801           0\n",
       "                    1180001802           0\n",
       "                    1180001803           0\n",
       "                    1180001804           0\n",
       "\n",
       "[49981284 rows x 1 columns]"
      ]
     },
     "execution_count": 24,
     "metadata": {},
     "output_type": "execute_result"
    },
    {
     "data": {
      "application/javascript": [
       "\n",
       "            setTimeout(function() {\n",
       "                var nbb_cell_id = 24;\n",
       "                var nbb_unformatted_code = \"%%time\\nfds = []\\nfor xj in sr_h5:\\n    backend_args = {\\n        \\\"consolidated\\\": False,\\n        \\\"storage_options\\\": {\\n            \\\"fo\\\": xj,\\n            # Adding these options returns a properly dimensioned but otherwise null dataframe\\n            # \\\"remote_protocol\\\": \\\"https\\\",\\n            # \\\"remote_options\\\": {'anon':True}\\n        },\\n    }\\n    fds.append(\\n        xr.open_dataset(\\n            \\\"reference://\\\",\\n            engine=\\\"zarr\\\",\\n            mask_and_scale=False,\\n            backend_kwargs=backend_args,\\n        )\\n    )\\n    \\n#dataset\\nds = xr.concat(fds, dim=\\\"time\\\")\\nds\\n\\n#dataframe\\ndf = ds[\\\"streamflow\\\"].to_dataframe()\\ndf\";\n",
       "                var nbb_formatted_code = \"%%time\\nfds = []\\nfor xj in sr_h5:\\n    backend_args = {\\n        \\\"consolidated\\\": False,\\n        \\\"storage_options\\\": {\\n            \\\"fo\\\": xj,\\n            # Adding these options returns a properly dimensioned but otherwise null dataframe\\n            # \\\"remote_protocol\\\": \\\"https\\\",\\n            # \\\"remote_options\\\": {'anon':True}\\n        },\\n    }\\n    fds.append(\\n        xr.open_dataset(\\n            \\\"reference://\\\",\\n            engine=\\\"zarr\\\",\\n            mask_and_scale=False,\\n            backend_kwargs=backend_args,\\n        )\\n    )\\n    \\n#dataset\\nds = xr.concat(fds, dim=\\\"time\\\")\\nds\\n\\n#dataframe\\ndf = ds[\\\"streamflow\\\"].to_dataframe()\\ndf\";\n",
       "                var nbb_cells = Jupyter.notebook.get_cells();\n",
       "                for (var i = 0; i < nbb_cells.length; ++i) {\n",
       "                    if (nbb_cells[i].input_prompt_number == nbb_cell_id) {\n",
       "                        if (nbb_cells[i].get_text() == nbb_unformatted_code) {\n",
       "                             nbb_cells[i].set_text(nbb_formatted_code);\n",
       "                        }\n",
       "                        break;\n",
       "                    }\n",
       "                }\n",
       "            }, 500);\n",
       "            "
      ],
      "text/plain": [
       "<IPython.core.display.Javascript object>"
      ]
     },
     "metadata": {},
     "output_type": "display_data"
    }
   ],
   "source": [
    "%%time\n",
    "fds = []\n",
    "for xj in sr_h5:\n",
    "    backend_args = {\n",
    "        \"consolidated\": False,\n",
    "        \"storage_options\": {\n",
    "            \"fo\": xj,\n",
    "            # Adding these options returns a properly dimensioned but otherwise null dataframe\n",
    "            # \"remote_protocol\": \"https\",\n",
    "            # \"remote_options\": {'anon':True}\n",
    "        },\n",
    "    }\n",
    "    fds.append(\n",
    "        xr.open_dataset(\n",
    "            \"reference://\",\n",
    "            engine=\"zarr\",\n",
    "            mask_and_scale=False,\n",
    "            backend_kwargs=backend_args,\n",
    "        )\n",
    "    )\n",
    "    \n",
    "#dataset\n",
    "ds = xr.concat(fds, dim=\"time\")\n",
    "ds\n",
    "\n",
    "#dataframe\n",
    "df = ds[\"streamflow\"].to_dataframe()\n",
    "df"
   ]
  },
  {
   "cell_type": "code",
   "execution_count": 25,
   "metadata": {
    "collapsed": false,
    "jupyter": {
     "outputs_hidden": false
    },
    "pycharm": {
     "name": "#%%\n"
    }
   },
   "outputs": [
    {
     "name": "stdout",
     "output_type": "stream",
     "text": [
      "CPU times: user 5 µs, sys: 0 ns, total: 5 µs\n",
      "Wall time: 9.3 µs\n"
     ]
    },
    {
     "data": {
      "application/javascript": [
       "\n",
       "            setTimeout(function() {\n",
       "                var nbb_cell_id = 25;\n",
       "                var nbb_unformatted_code = \"# Write parquet file\\n%time\\n# df = pd.Series.to_frame(df)\\n\\ndf.to_parquet(\\n    \\\"../data/parquet_all_feature_ids.gzip\\\", engine=\\\"pyarrow\\\", compression=\\\"gzip\\\"\\n)\";\n",
       "                var nbb_formatted_code = \"# Write parquet file\\n%time\\n# df = pd.Series.to_frame(df)\\n\\ndf.to_parquet(\\n    \\\"../data/parquet_all_feature_ids.gzip\\\", engine=\\\"pyarrow\\\", compression=\\\"gzip\\\"\\n)\";\n",
       "                var nbb_cells = Jupyter.notebook.get_cells();\n",
       "                for (var i = 0; i < nbb_cells.length; ++i) {\n",
       "                    if (nbb_cells[i].input_prompt_number == nbb_cell_id) {\n",
       "                        if (nbb_cells[i].get_text() == nbb_unformatted_code) {\n",
       "                             nbb_cells[i].set_text(nbb_formatted_code);\n",
       "                        }\n",
       "                        break;\n",
       "                    }\n",
       "                }\n",
       "            }, 500);\n",
       "            "
      ],
      "text/plain": [
       "<IPython.core.display.Javascript object>"
      ]
     },
     "metadata": {},
     "output_type": "display_data"
    }
   ],
   "source": [
    "# Write parquet file\n",
    "%time\n",
    "# df = pd.Series.to_frame(df)\n",
    "\n",
    "df.to_parquet(\n",
    "    \"../data/parquet_all_feature_ids.gzip\", engine=\"pyarrow\", compression=\"gzip\"\n",
    ")"
   ]
  },
  {
   "cell_type": "code",
   "execution_count": 36,
   "metadata": {
    "collapsed": false,
    "jupyter": {
     "outputs_hidden": false
    },
    "pycharm": {
     "name": "#%%\n"
    }
   },
   "outputs": [
    {
     "data": {
      "text/plain": [
       "<pyarrow._parquet.FileMetaData object at 0x7fa69ee0e3b0>\n",
       "  created_by: parquet-cpp-arrow version 7.0.0\n",
       "  num_columns: 3\n",
       "  num_rows: 49981284\n",
       "  num_row_groups: 1\n",
       "  format_version: 1.0\n",
       "  serialized_size: 2374"
      ]
     },
     "execution_count": 36,
     "metadata": {},
     "output_type": "execute_result"
    },
    {
     "data": {
      "application/javascript": [
       "\n",
       "            setTimeout(function() {\n",
       "                var nbb_cell_id = 36;\n",
       "                var nbb_unformatted_code = \"ParquetFile(\\\"../data/parquet_all_feature_ids.gzip\\\").metadata  #  num_columns: 3\";\n",
       "                var nbb_formatted_code = \"ParquetFile(\\\"../data/parquet_all_feature_ids.gzip\\\").metadata  #  num_columns: 3\";\n",
       "                var nbb_cells = Jupyter.notebook.get_cells();\n",
       "                for (var i = 0; i < nbb_cells.length; ++i) {\n",
       "                    if (nbb_cells[i].input_prompt_number == nbb_cell_id) {\n",
       "                        if (nbb_cells[i].get_text() == nbb_unformatted_code) {\n",
       "                             nbb_cells[i].set_text(nbb_formatted_code);\n",
       "                        }\n",
       "                        break;\n",
       "                    }\n",
       "                }\n",
       "            }, 500);\n",
       "            "
      ],
      "text/plain": [
       "<IPython.core.display.Javascript object>"
      ]
     },
     "metadata": {},
     "output_type": "display_data"
    }
   ],
   "source": [
    "ParquetFile(\"../data/parquet_all_feature_ids.gzip\").metadata  #  num_columns: 3"
   ]
  },
  {
   "cell_type": "markdown",
   "metadata": {},
   "source": [
    "### Query 1 feature id - Dask"
   ]
  },
  {
   "cell_type": "code",
   "execution_count": 27,
   "metadata": {
    "collapsed": false,
    "jupyter": {
     "outputs_hidden": false
    },
    "pycharm": {
     "is_executing": true,
     "name": "#%%\n"
    }
   },
   "outputs": [
    {
     "name": "stdout",
     "output_type": "stream",
     "text": [
      "CPU times: user 3 µs, sys: 1 µs, total: 4 µs\n",
      "Wall time: 6.44 µs\n"
     ]
    },
    {
     "data": {
      "text/plain": [
       "<matplotlib.collections.PathCollection at 0x7fa69f9d8370>"
      ]
     },
     "execution_count": 27,
     "metadata": {},
     "output_type": "execute_result"
    },
    {
     "data": {
      "image/png": "[encoded data removed]",
      "text/plain": [
       "<Figure size 432x288 with 1 Axes>"
      ]
     },
     "metadata": {
      "needs_background": "light"
     },
     "output_type": "display_data"
    },
    {
     "data": {
      "application/javascript": [
       "\n",
       "            setTimeout(function() {\n",
       "                var nbb_cell_id = 27;\n",
       "                var nbb_unformatted_code = \"# Read parquet file\\n%time\\n#pip install pyarrow, fastparquet\\nimport dask.dataframe as dd\\ndata_1 = dd.read_parquet(\\n    \\\"../data/parquet_all_feature_ids.gzip\\\", engine='pyarrow', columns=['streamflow']\\n)\\nresult_1=data_1.compute()\\nresult_1.sort_index(inplace=True)\\nresult_1=result_1.loc[(slice(None), [101]), :]\\n#result_1\\nr_xa_1 = result_1.to_xarray()\\nr_xa_1.plot.scatter(\\\"time\\\", \\\"streamflow\\\")\";\n",
       "                var nbb_formatted_code = \"# Read parquet file\\n%time\\n# pip install pyarrow, fastparquet\\nimport dask.dataframe as dd\\n\\ndata_1 = dd.read_parquet(\\n    \\\"../data/parquet_all_feature_ids.gzip\\\", engine=\\\"pyarrow\\\", columns=[\\\"streamflow\\\"]\\n)\\nresult_1 = data_1.compute()\\nresult_1.sort_index(inplace=True)\\nresult_1 = result_1.loc[(slice(None), [101]), :]\\n# result_1\\nr_xa_1 = result_1.to_xarray()\\nr_xa_1.plot.scatter(\\\"time\\\", \\\"streamflow\\\")\";\n",
       "                var nbb_cells = Jupyter.notebook.get_cells();\n",
       "                for (var i = 0; i < nbb_cells.length; ++i) {\n",
       "                    if (nbb_cells[i].input_prompt_number == nbb_cell_id) {\n",
       "                        if (nbb_cells[i].get_text() == nbb_unformatted_code) {\n",
       "                             nbb_cells[i].set_text(nbb_formatted_code);\n",
       "                        }\n",
       "                        break;\n",
       "                    }\n",
       "                }\n",
       "            }, 500);\n",
       "            "
      ],
      "text/plain": [
       "<IPython.core.display.Javascript object>"
      ]
     },
     "metadata": {},
     "output_type": "display_data"
    }
   ],
   "source": [
    "# Read parquet file\n",
    "%time\n",
    "#pip install pyarrow, fastparquet\n",
    "import dask.dataframe as dd\n",
    "data_1 = dd.read_parquet(\n",
    "    \"../data/parquet_all_feature_ids.gzip\", engine='pyarrow', columns=['streamflow']\n",
    ")\n",
    "result_1=data_1.compute()\n",
    "result_1.sort_index(inplace=True)\n",
    "result_1=result_1.loc[(slice(None), [101]), :]\n",
    "#result_1\n",
    "r_xa_1 = result_1.to_xarray()\n",
    "r_xa_1.plot.scatter(\"time\", \"streamflow\")"
   ]
  },
  {
   "cell_type": "markdown",
   "metadata": {},
   "source": [
    "### Query 1 feature id - Pandas"
   ]
  },
  {
   "cell_type": "code",
   "execution_count": 28,
   "metadata": {},
   "outputs": [
    {
     "name": "stdout",
     "output_type": "stream",
     "text": [
      "CPU times: user 11.3 s, sys: 3.3 s, total: 14.6 s\n",
      "Wall time: 14.4 s\n"
     ]
    },
    {
     "data": {
      "text/plain": [
       "<AxesSubplot:xlabel='time', ylabel='streamflow'>"
      ]
     },
     "execution_count": 28,
     "metadata": {},
     "output_type": "execute_result"
    },
    {
     "data": {
      "image/png": "[encoded data removed]",
      "text/plain": [
       "<Figure size 432x288 with 1 Axes>"
      ]
     },
     "metadata": {
      "needs_background": "light"
     },
     "output_type": "display_data"
    },
    {
     "data": {
      "application/javascript": [
       "\n",
       "            setTimeout(function() {\n",
       "                var nbb_cell_id = 28;\n",
       "                var nbb_unformatted_code = \"%%time\\n\\ndf_1 = pd.read_parquet(\\\"../data/parquet_all_feature_ids.gzip\\\")\\ndf_1=df_1.swaplevel()\\ndf_1.sort_index(level=0, inplace=True)\\nresult_1=df_1.loc[101]\\n#result_1\\nresult_1.reset_index().plot.scatter('time','streamflow')\";\n",
       "                var nbb_formatted_code = \"%%time\\n\\ndf_1 = pd.read_parquet(\\\"../data/parquet_all_feature_ids.gzip\\\")\\ndf_1=df_1.swaplevel()\\ndf_1.sort_index(level=0, inplace=True)\\nresult_1=df_1.loc[101]\\n#result_1\\nresult_1.reset_index().plot.scatter('time','streamflow')\";\n",
       "                var nbb_cells = Jupyter.notebook.get_cells();\n",
       "                for (var i = 0; i < nbb_cells.length; ++i) {\n",
       "                    if (nbb_cells[i].input_prompt_number == nbb_cell_id) {\n",
       "                        if (nbb_cells[i].get_text() == nbb_unformatted_code) {\n",
       "                             nbb_cells[i].set_text(nbb_formatted_code);\n",
       "                        }\n",
       "                        break;\n",
       "                    }\n",
       "                }\n",
       "            }, 500);\n",
       "            "
      ],
      "text/plain": [
       "<IPython.core.display.Javascript object>"
      ]
     },
     "metadata": {},
     "output_type": "display_data"
    }
   ],
   "source": [
    "%%time\n",
    "\n",
    "df_1 = pd.read_parquet(\"../data/parquet_all_feature_ids.gzip\")\n",
    "df_1=df_1.swaplevel()\n",
    "df_1.sort_index(level=0, inplace=True)\n",
    "result_1=df_1.loc[101]\n",
    "#result_1\n",
    "result_1.reset_index().plot.scatter('time','streamflow')"
   ]
  },
  {
   "cell_type": "markdown",
   "metadata": {},
   "source": [
    "### Query 100 feature id - Dask"
   ]
  },
  {
   "cell_type": "code",
   "execution_count": 44,
   "metadata": {},
   "outputs": [
    {
     "name": "stdout",
     "output_type": "stream",
     "text": [
      "CPU times: user 31.3 s, sys: 6.58 s, total: 37.9 s\n",
      "Wall time: 37.7 s\n"
     ]
    },
    {
     "data": {
      "text/plain": [
       "<matplotlib.collections.PathCollection at 0x7fa68b2c2cd0>"
      ]
     },
     "execution_count": 44,
     "metadata": {},
     "output_type": "execute_result"
    },
    {
     "data": {
      "image/png": "[encoded data removed]",
      "text/plain": [
       "<Figure size 432x288 with 1 Axes>"
      ]
     },
     "metadata": {
      "needs_background": "light"
     },
     "output_type": "display_data"
    },
    {
     "data": {
      "application/javascript": [
       "\n",
       "            setTimeout(function() {\n",
       "                var nbb_cell_id = 44;\n",
       "                var nbb_unformatted_code = \"%%time\\ndata_100 = dd.read_parquet(\\n    \\\"../data/parquet_all_feature_ids.gzip\\\", engine='pyarrow', columns=['streamflow']\\n)\\nresult_100=data_100.compute()\\nresult_100.sort_index(inplace=True)\\nresult_100=result_100.loc[:, 100:1032, :]\\n\\nr_xa_100 = result_100.to_xarray()\\n#r_xa\\nr_xa_100.plot.scatter(\\\"time\\\", \\\"streamflow\\\")\";\n",
       "                var nbb_formatted_code = \"%%time\\ndata_100 = dd.read_parquet(\\n    \\\"../data/parquet_all_feature_ids.gzip\\\", engine='pyarrow', columns=['streamflow']\\n)\\nresult_100=data_100.compute()\\nresult_100.sort_index(inplace=True)\\nresult_100=result_100.loc[:, 100:1032, :]\\n\\nr_xa_100 = result_100.to_xarray()\\n#r_xa\\nr_xa_100.plot.scatter(\\\"time\\\", \\\"streamflow\\\")\";\n",
       "                var nbb_cells = Jupyter.notebook.get_cells();\n",
       "                for (var i = 0; i < nbb_cells.length; ++i) {\n",
       "                    if (nbb_cells[i].input_prompt_number == nbb_cell_id) {\n",
       "                        if (nbb_cells[i].get_text() == nbb_unformatted_code) {\n",
       "                             nbb_cells[i].set_text(nbb_formatted_code);\n",
       "                        }\n",
       "                        break;\n",
       "                    }\n",
       "                }\n",
       "            }, 500);\n",
       "            "
      ],
      "text/plain": [
       "<IPython.core.display.Javascript object>"
      ]
     },
     "metadata": {},
     "output_type": "display_data"
    }
   ],
   "source": [
    "%%time\n",
    "data_100 = dd.read_parquet(\n",
    "    \"../data/parquet_all_feature_ids.gzip\", engine='pyarrow', columns=['streamflow']\n",
    ")\n",
    "result_100=data_100.compute()\n",
    "result_100.sort_index(inplace=True)\n",
    "result_100=result_100.loc[:, 100:1032, :]\n",
    "\n",
    "r_xa_100 = result_100.to_xarray()\n",
    "#r_xa\n",
    "r_xa_100.plot.scatter(\"time\", \"streamflow\")"
   ]
  },
  {
   "cell_type": "markdown",
   "metadata": {},
   "source": [
    "### Query 100 feature id - Pandas"
   ]
  },
  {
   "cell_type": "code",
   "execution_count": 45,
   "metadata": {},
   "outputs": [
    {
     "name": "stdout",
     "output_type": "stream",
     "text": [
      "CPU times: user 11 s, sys: 3.3 s, total: 14.3 s\n",
      "Wall time: 14 s\n"
     ]
    },
    {
     "data": {
      "text/plain": [
       "<AxesSubplot:xlabel='time', ylabel='streamflow'>"
      ]
     },
     "execution_count": 45,
     "metadata": {},
     "output_type": "execute_result"
    },
    {
     "data": {
      "image/png": "[encoded data removed]",
      "text/plain": [
       "<Figure size 432x288 with 1 Axes>"
      ]
     },
     "metadata": {
      "needs_background": "light"
     },
     "output_type": "display_data"
    },
    {
     "data": {
      "application/javascript": [
       "\n",
       "            setTimeout(function() {\n",
       "                var nbb_cell_id = 45;\n",
       "                var nbb_unformatted_code = \"%%time\\n\\ndf_100 = pd.read_parquet(\\\"../data/parquet_all_feature_ids.gzip\\\")\\ndf_100=df_100.swaplevel()\\ndf_100.sort_index(level=0, inplace=True)\\nresult_100=df_100.loc[100:1032]\\n#result_100\\n\\nresult_100.reset_index().plot.scatter('time','streamflow')\";\n",
       "                var nbb_formatted_code = \"%%time\\n\\ndf_100 = pd.read_parquet(\\\"../data/parquet_all_feature_ids.gzip\\\")\\ndf_100=df_100.swaplevel()\\ndf_100.sort_index(level=0, inplace=True)\\nresult_100=df_100.loc[100:1032]\\n#result_100\\n\\nresult_100.reset_index().plot.scatter('time','streamflow')\";\n",
       "                var nbb_cells = Jupyter.notebook.get_cells();\n",
       "                for (var i = 0; i < nbb_cells.length; ++i) {\n",
       "                    if (nbb_cells[i].input_prompt_number == nbb_cell_id) {\n",
       "                        if (nbb_cells[i].get_text() == nbb_unformatted_code) {\n",
       "                             nbb_cells[i].set_text(nbb_formatted_code);\n",
       "                        }\n",
       "                        break;\n",
       "                    }\n",
       "                }\n",
       "            }, 500);\n",
       "            "
      ],
      "text/plain": [
       "<IPython.core.display.Javascript object>"
      ]
     },
     "metadata": {},
     "output_type": "display_data"
    }
   ],
   "source": [
    "%%time\n",
    "\n",
    "df_100 = pd.read_parquet(\"../data/parquet_all_feature_ids.gzip\")\n",
    "df_100=df_100.swaplevel()\n",
    "df_100.sort_index(level=0, inplace=True)\n",
    "result_100=df_100.loc[100:1032]\n",
    "#result_100\n",
    "\n",
    "result_100.reset_index().plot.scatter('time','streamflow')"
   ]
  },
  {
   "cell_type": "markdown",
   "metadata": {},
   "source": [
    "### Query 10,000 feature_ids - Dask"
   ]
  },
  {
   "cell_type": "code",
   "execution_count": 31,
   "metadata": {},
   "outputs": [
    {
     "name": "stdout",
     "output_type": "stream",
     "text": [
      "CPU times: user 31.2 s, sys: 5.91 s, total: 37.2 s\n",
      "Wall time: 37 s\n"
     ]
    },
    {
     "data": {
      "text/plain": [
       "<matplotlib.collections.PathCollection at 0x7fa69ee52f70>"
      ]
     },
     "execution_count": 31,
     "metadata": {},
     "output_type": "execute_result"
    },
    {
     "data": {
      "image/png": "[encoded data removed]",
      "text/plain": [
       "<Figure size 432x288 with 1 Axes>"
      ]
     },
     "metadata": {
      "needs_background": "light"
     },
     "output_type": "display_data"
    },
    {
     "data": {
      "application/javascript": [
       "\n",
       "            setTimeout(function() {\n",
       "                var nbb_cell_id = 31;\n",
       "                var nbb_unformatted_code = \"%%time\\ndata_10000 = dd.read_parquet(\\n    \\\"../data/parquet_all_feature_ids.gzip\\\", engine='pyarrow', columns=['streamflow']\\n)\\nresult_10000=data_10000.compute()\\nresult_10000.sort_index(inplace=True)\\nresult_10000=result_10000.loc[:, 100:252765, :]\\n\\nr_xa_10000 = result_10000.to_xarray()\\n#r_xa\\nr_xa_10000.plot.scatter(\\\"time\\\", \\\"streamflow\\\")\";\n",
       "                var nbb_formatted_code = \"%%time\\ndata_10000 = dd.read_parquet(\\n    \\\"../data/parquet_all_feature_ids.gzip\\\", engine='pyarrow', columns=['streamflow']\\n)\\nresult_10000=data_10000.compute()\\nresult_10000.sort_index(inplace=True)\\nresult_10000=result_10000.loc[:, 100:252765, :]\\n\\nr_xa_10000 = result_10000.to_xarray()\\n#r_xa\\nr_xa_10000.plot.scatter(\\\"time\\\", \\\"streamflow\\\")\";\n",
       "                var nbb_cells = Jupyter.notebook.get_cells();\n",
       "                for (var i = 0; i < nbb_cells.length; ++i) {\n",
       "                    if (nbb_cells[i].input_prompt_number == nbb_cell_id) {\n",
       "                        if (nbb_cells[i].get_text() == nbb_unformatted_code) {\n",
       "                             nbb_cells[i].set_text(nbb_formatted_code);\n",
       "                        }\n",
       "                        break;\n",
       "                    }\n",
       "                }\n",
       "            }, 500);\n",
       "            "
      ],
      "text/plain": [
       "<IPython.core.display.Javascript object>"
      ]
     },
     "metadata": {},
     "output_type": "display_data"
    }
   ],
   "source": [
    "%%time\n",
    "data_10000 = dd.read_parquet(\n",
    "    \"../data/parquet_all_feature_ids.gzip\", engine='pyarrow', columns=['streamflow']\n",
    ")\n",
    "result_10000=data_10000.compute()\n",
    "result_10000.sort_index(inplace=True)\n",
    "result_10000=result_10000.loc[:, 100:252765, :]\n",
    "\n",
    "r_xa_10000 = result_10000.to_xarray()\n",
    "#r_xa\n",
    "r_xa_10000.plot.scatter(\"time\", \"streamflow\")"
   ]
  },
  {
   "cell_type": "markdown",
   "metadata": {},
   "source": [
    "### Query 10,000 feature_ids - Pandas"
   ]
  },
  {
   "cell_type": "code",
   "execution_count": 43,
   "metadata": {},
   "outputs": [
    {
     "name": "stdout",
     "output_type": "stream",
     "text": [
      "CPU times: user 11 s, sys: 3.38 s, total: 14.4 s\n",
      "Wall time: 14.2 s\n"
     ]
    },
    {
     "data": {
      "text/plain": [
       "<AxesSubplot:xlabel='time', ylabel='streamflow'>"
      ]
     },
     "execution_count": 43,
     "metadata": {},
     "output_type": "execute_result"
    },
    {
     "data": {
      "image/png": "[encoded data removed]",
      "text/plain": [
       "<Figure size 432x288 with 1 Axes>"
      ]
     },
     "metadata": {
      "needs_background": "light"
     },
     "output_type": "display_data"
    },
    {
     "data": {
      "application/javascript": [
       "\n",
       "            setTimeout(function() {\n",
       "                var nbb_cell_id = 43;\n",
       "                var nbb_unformatted_code = \"%%time\\n\\ndf_10000 = pd.read_parquet(\\\"../data/parquet_all_feature_ids.gzip\\\")\\ndf_10000=df_10000.swaplevel()\\ndf_10000.sort_index(level=0, inplace=True)\\nresult_10000=df_10000.loc[100:1122643]\\nresult_10000.reset_index().plot.scatter('time','streamflow')\";\n",
       "                var nbb_formatted_code = \"%%time\\n\\ndf_10000 = pd.read_parquet(\\\"../data/parquet_all_feature_ids.gzip\\\")\\ndf_10000=df_10000.swaplevel()\\ndf_10000.sort_index(level=0, inplace=True)\\nresult_10000=df_10000.loc[100:1122643]\\nresult_10000.reset_index().plot.scatter('time','streamflow')\";\n",
       "                var nbb_cells = Jupyter.notebook.get_cells();\n",
       "                for (var i = 0; i < nbb_cells.length; ++i) {\n",
       "                    if (nbb_cells[i].input_prompt_number == nbb_cell_id) {\n",
       "                        if (nbb_cells[i].get_text() == nbb_unformatted_code) {\n",
       "                             nbb_cells[i].set_text(nbb_formatted_code);\n",
       "                        }\n",
       "                        break;\n",
       "                    }\n",
       "                }\n",
       "            }, 500);\n",
       "            "
      ],
      "text/plain": [
       "<IPython.core.display.Javascript object>"
      ]
     },
     "metadata": {},
     "output_type": "display_data"
    }
   ],
   "source": [
    "%%time\n",
    "\n",
    "df_10000 = pd.read_parquet(\"../data/parquet_all_feature_ids.gzip\")\n",
    "df_10000=df_10000.swaplevel()\n",
    "df_10000.sort_index(level=0, inplace=True)\n",
    "result_10000=df_10000.loc[100:1122643]\n",
    "result_10000.reset_index().plot.scatter('time','streamflow')"
   ]
  },
  {
   "cell_type": "markdown",
   "metadata": {},
   "source": [
    "### Query 100,000 feature_ids - Dask"
   ]
  },
  {
   "cell_type": "code",
   "execution_count": 33,
   "metadata": {},
   "outputs": [
    {
     "name": "stdout",
     "output_type": "stream",
     "text": [
      "CPU times: user 32 s, sys: 5.84 s, total: 37.9 s\n",
      "Wall time: 37.7 s\n"
     ]
    },
    {
     "data": {
      "text/plain": [
       "<matplotlib.collections.PathCollection at 0x7fa68b6219d0>"
      ]
     },
     "execution_count": 33,
     "metadata": {},
     "output_type": "execute_result"
    },
    {
     "data": {
      "image/png": "[encoded data removed]",
      "text/plain": [
       "<Figure size 432x288 with 1 Axes>"
      ]
     },
     "metadata": {
      "needs_background": "light"
     },
     "output_type": "display_data"
    },
    {
     "data": {
      "application/javascript": [
       "\n",
       "            setTimeout(function() {\n",
       "                var nbb_cell_id = 33;\n",
       "                var nbb_unformatted_code = \"%%time\\ndata_100000 = dd.read_parquet(\\n    \\\"../data/parquet_all_feature_ids.gzip\\\", engine='auto', columns=['streamflow']\\n)\\nresult_100000=data_100000.compute()\\nresult_100000.sort_index(inplace=True)\\nresult_100000=result_100000.loc[:, 100:1122643, :]\\n\\nr_xa_100000 = result_100000.to_xarray()\\n#r_xa\\nr_xa_100000.plot.scatter(\\\"time\\\", \\\"streamflow\\\")\";\n",
       "                var nbb_formatted_code = \"%%time\\ndata_100000 = dd.read_parquet(\\n    \\\"../data/parquet_all_feature_ids.gzip\\\", engine='auto', columns=['streamflow']\\n)\\nresult_100000=data_100000.compute()\\nresult_100000.sort_index(inplace=True)\\nresult_100000=result_100000.loc[:, 100:1122643, :]\\n\\nr_xa_100000 = result_100000.to_xarray()\\n#r_xa\\nr_xa_100000.plot.scatter(\\\"time\\\", \\\"streamflow\\\")\";\n",
       "                var nbb_cells = Jupyter.notebook.get_cells();\n",
       "                for (var i = 0; i < nbb_cells.length; ++i) {\n",
       "                    if (nbb_cells[i].input_prompt_number == nbb_cell_id) {\n",
       "                        if (nbb_cells[i].get_text() == nbb_unformatted_code) {\n",
       "                             nbb_cells[i].set_text(nbb_formatted_code);\n",
       "                        }\n",
       "                        break;\n",
       "                    }\n",
       "                }\n",
       "            }, 500);\n",
       "            "
      ],
      "text/plain": [
       "<IPython.core.display.Javascript object>"
      ]
     },
     "metadata": {},
     "output_type": "display_data"
    }
   ],
   "source": [
    "%%time\n",
    "data_100000 = dd.read_parquet(\n",
    "    \"../data/parquet_all_feature_ids.gzip\", engine='auto', columns=['streamflow']\n",
    ")\n",
    "result_100000=data_100000.compute()\n",
    "result_100000.sort_index(inplace=True)\n",
    "result_100000=result_100000.loc[:, 100:1122643, :]\n",
    "\n",
    "r_xa_100000 = result_100000.to_xarray()\n",
    "#r_xa\n",
    "r_xa_100000.plot.scatter(\"time\", \"streamflow\")"
   ]
  },
  {
   "cell_type": "markdown",
   "metadata": {},
   "source": [
    "### Query 100,000 feature_ids - Pandas"
   ]
  },
  {
   "cell_type": "code",
   "execution_count": 34,
   "metadata": {},
   "outputs": [
    {
     "name": "stdout",
     "output_type": "stream",
     "text": [
      "CPU times: user 15.8 s, sys: 5.73 s, total: 21.6 s\n",
      "Wall time: 21.4 s\n"
     ]
    },
    {
     "data": {
      "text/plain": [
       "<AxesSubplot:xlabel='time', ylabel='streamflow'>"
      ]
     },
     "execution_count": 34,
     "metadata": {},
     "output_type": "execute_result"
    },
    {
     "data": {
      "image/png": "[encoded data removed]",
      "text/plain": [
       "<Figure size 432x288 with 1 Axes>"
      ]
     },
     "metadata": {
      "needs_background": "light"
     },
     "output_type": "display_data"
    },
    {
     "data": {
      "application/javascript": [
       "\n",
       "            setTimeout(function() {\n",
       "                var nbb_cell_id = 34;\n",
       "                var nbb_unformatted_code = \"%%time\\n\\ndf_100000 = pd.read_parquet(\\\"../data/parquet_all_feature_ids.gzip\\\")\\ndf_100000=df_100000.swaplevel()\\ndf_100000.sort_index(level=0, inplace=True)\\nresult_100000=df_100000.loc[:]\\nresult_100000.reset_index().plot.scatter('time','streamflow')\";\n",
       "                var nbb_formatted_code = \"%%time\\n\\ndf_100000 = pd.read_parquet(\\\"../data/parquet_all_feature_ids.gzip\\\")\\ndf_100000=df_100000.swaplevel()\\ndf_100000.sort_index(level=0, inplace=True)\\nresult_100000=df_100000.loc[:]\\nresult_100000.reset_index().plot.scatter('time','streamflow')\";\n",
       "                var nbb_cells = Jupyter.notebook.get_cells();\n",
       "                for (var i = 0; i < nbb_cells.length; ++i) {\n",
       "                    if (nbb_cells[i].input_prompt_number == nbb_cell_id) {\n",
       "                        if (nbb_cells[i].get_text() == nbb_unformatted_code) {\n",
       "                             nbb_cells[i].set_text(nbb_formatted_code);\n",
       "                        }\n",
       "                        break;\n",
       "                    }\n",
       "                }\n",
       "            }, 500);\n",
       "            "
      ],
      "text/plain": [
       "<IPython.core.display.Javascript object>"
      ]
     },
     "metadata": {},
     "output_type": "display_data"
    }
   ],
   "source": [
    "%%time\n",
    "\n",
    "df_100000 = pd.read_parquet(\"../data/parquet_all_feature_ids.gzip\")\n",
    "df_100000=df_100000.swaplevel()\n",
    "df_100000.sort_index(level=0, inplace=True)\n",
    "result_100000=df_100000.loc[:]\n",
    "result_100000.reset_index().plot.scatter('time','streamflow')"
   ]
  },
  {
   "cell_type": "code",
   "execution_count": null,
   "metadata": {},
   "outputs": [],
   "source": []
  }
 ],
 "metadata": {
  "kernelspec": {
   "display_name": "Python 3 (ipykernel)",
   "language": "python",
   "name": "python3"
  },
  "language_info": {
   "codemirror_mode": {
    "name": "ipython",
    "version": 3
   },
   "file_extension": ".py",
   "mimetype": "text/x-python",
   "name": "python",
   "nbconvert_exporter": "python",
   "pygments_lexer": "ipython3",
   "version": "3.9.13"
  },
  "vscode": {
   "interpreter": {
    "hash": "841f08bea6f583edb850f72cf2946a944a464e58115e0463b6b0b6002624e279"
   }
  }
 },
 "nbformat": 4,
 "nbformat_minor": 4
}
