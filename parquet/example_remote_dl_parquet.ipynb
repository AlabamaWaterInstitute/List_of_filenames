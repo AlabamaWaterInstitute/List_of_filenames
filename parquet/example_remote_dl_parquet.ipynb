{
 "cells": [
  {
   "cell_type": "code",
   "execution_count": 1,
   "metadata": {
    "pycharm": {
     "name": "#%%\n"
    },
    "tags": []
   },
   "outputs": [],
   "source": [
    "import pandas as pd\n",
    "from pyarrow.parquet import ParquetFile\n",
    "import dask.dataframe as dd\n",
    "import os\n",
    "import xarray as xr\n",
    "import ujson\n",
    "import pprint"
   ]
  },
  {
   "cell_type": "code",
   "execution_count": 2,
   "metadata": {
    "pycharm": {
     "name": "#%%\n"
    }
   },
   "outputs": [],
   "source": [
    "# These fs options don't work for http... beware!\n",
    "so = dict(mode=\"rb\", anon=True, default_fill_cache=False, default_cache_type=\"first\")"
   ]
  },
  {
   "cell_type": "code",
   "execution_count": 3,
   "metadata": {
    "pycharm": {
     "name": "#%%\n"
    }
   },
   "outputs": [],
   "source": [
    "def gen_json(u, fs, outf=None):\n",
    "    with fs.open(u, **so) as infile:\n",
    "        h5chunks = SingleHdf5ToZarr(infile, u, inline_threshold=300)\n",
    "        p = u.split(\"/\")\n",
    "        date = p[3]\n",
    "        fname = p[5]\n",
    "        if outf:\n",
    "            # outf = f'{json_dir}{date}.{fname}.json'\n",
    "            with open(outf, \"wb\") as f:\n",
    "                f.write(ujson.dumps(h5chunks.translate()).encode())\n",
    "        else:\n",
    "            return h5chunks.translate()"
   ]
  },
  {
   "cell_type": "code",
   "execution_count": 4,
   "metadata": {
    "collapsed": false,
    "jupyter": {
     "outputs_hidden": false
    },
    "pycharm": {
     "name": "#%%\n"
    }
   },
   "outputs": [],
   "source": [
    "# dir_files = [os.path.join(\"../short_range_18files\", files) for files in os.listdir(\"../short_range_18files\")]\n",
    "# dir_files = [os.path.join(\"short_range_2files\", files) for files in os.listdir(\"short_range_2files\")]\n",
    "# print(dir_files)\n",
    "dir_files = [\n",
    "    \"nwm.t00z.short_range.channel_rt.f001.conus.nc\",\n",
    "    \"nwm.t00z.short_range.channel_rt.f002.conus.nc\",\n",
    "    \"nwm.t00z.short_range.channel_rt.f003.conus.nc\",\n",
    "    \"nwm.t00z.short_range.channel_rt.f004.conus.nc\",\n",
    "    \"nwm.t00z.short_range.channel_rt.f005.conus.nc\",\n",
    "    \"nwm.t00z.short_range.channel_rt.f006.conus.nc\",\n",
    "    \"nwm.t00z.short_range.channel_rt.f007.conus.nc\",\n",
    "    \"nwm.t00z.short_range.channel_rt.f008.conus.nc\",\n",
    "    \"nwm.t00z.short_range.channel_rt.f009.conus.nc\",\n",
    "    \"nwm.t00z.short_range.channel_rt.f010.conus.nc\",\n",
    "    \"nwm.t00z.short_range.channel_rt.f011.conus.nc\",\n",
    "    \"nwm.t00z.short_range.channel_rt.f012.conus.nc\",\n",
    "    \"nwm.t00z.short_range.channel_rt.f013.conus.nc\",\n",
    "    \"nwm.t00z.short_range.channel_rt.f014.conus.nc\",\n",
    "    \"nwm.t00z.short_range.channel_rt.f015.conus.nc\",\n",
    "    \"nwm.t00z.short_range.channel_rt.f016.conus.nc\",\n",
    "    \"nwm.t00z.short_range.channel_rt.f017.conus.nc\",\n",
    "    \"nwm.t00z.short_range.channel_rt.f018.conus.nc\",\n",
    "]"
   ]
  },
  {
   "cell_type": "code",
   "execution_count": 5,
   "metadata": {
    "pycharm": {
     "name": "#%%\n"
    }
   },
   "outputs": [
    {
     "name": "stdout",
     "output_type": "stream",
     "text": [
      "nwm.t00z.short_range.channel_rt.f001.conus.nc\n",
      "nwm.t00z.short_range.channel_rt.f002.conus.nc\n",
      "nwm.t00z.short_range.channel_rt.f003.conus.nc\n",
      "nwm.t00z.short_range.channel_rt.f004.conus.nc\n",
      "nwm.t00z.short_range.channel_rt.f005.conus.nc\n",
      "nwm.t00z.short_range.channel_rt.f006.conus.nc\n",
      "nwm.t00z.short_range.channel_rt.f007.conus.nc\n",
      "nwm.t00z.short_range.channel_rt.f008.conus.nc\n",
      "nwm.t00z.short_range.channel_rt.f009.conus.nc\n",
      "nwm.t00z.short_range.channel_rt.f010.conus.nc\n",
      "nwm.t00z.short_range.channel_rt.f011.conus.nc\n",
      "nwm.t00z.short_range.channel_rt.f012.conus.nc\n",
      "nwm.t00z.short_range.channel_rt.f013.conus.nc\n",
      "nwm.t00z.short_range.channel_rt.f014.conus.nc\n",
      "nwm.t00z.short_range.channel_rt.f015.conus.nc\n",
      "nwm.t00z.short_range.channel_rt.f016.conus.nc\n",
      "nwm.t00z.short_range.channel_rt.f017.conus.nc\n",
      "nwm.t00z.short_range.channel_rt.f018.conus.nc\n"
     ]
    }
   ],
   "source": [
    "import fsspec\n",
    "import xarray as xr\n",
    "from kerchunk.hdf import SingleHdf5ToZarr\n",
    "\n",
    "fs = fsspec.filesystem(\"gcs\", anon=True)\n",
    "\n",
    "# https://storage.googleapis.com/national-water-model/nwm.20220911/short_range/nwm.t00z.short_range.channel_rt.f001.conus.nc\n",
    "# gcs_url = \"gcs://national-water-model/nwm.20220911/short_range/nwm.t00z.short_range.channel_rt.f001.conus.nc\"\n",
    "gcs_url = \"gcs://national-water-model/nwm.20220911/short_range/\"\n",
    "\n",
    "sr_h5 = []\n",
    "for f in dir_files:\n",
    "    print(f)\n",
    "    sr_h5.append(gen_json(gcs_url + f, fs))"
   ]
  },
  {
   "cell_type": "code",
   "execution_count": 6,
   "metadata": {
    "collapsed": false,
    "jupyter": {
     "outputs_hidden": false
    },
    "pycharm": {
     "name": "#%%\n"
    }
   },
   "outputs": [
    {
     "name": "stdout",
     "output_type": "stream",
     "text": [
      "CPU times: user 9.03 s, sys: 2.89 s, total: 11.9 s\n",
      "Wall time: 21.5 s\n"
     ]
    },
    {
     "data": {
      "text/html": [
       "<div>\n",
       "<style scoped>\n",
       "    .dataframe tbody tr th:only-of-type {\n",
       "        vertical-align: middle;\n",
       "    }\n",
       "\n",
       "    .dataframe tbody tr th {\n",
       "        vertical-align: top;\n",
       "    }\n",
       "\n",
       "    .dataframe thead th {\n",
       "        text-align: right;\n",
       "    }\n",
       "</style>\n",
       "<table border=\"1\" class=\"dataframe\">\n",
       "  <thead>\n",
       "    <tr style=\"text-align: right;\">\n",
       "      <th></th>\n",
       "      <th></th>\n",
       "      <th>streamflow</th>\n",
       "    </tr>\n",
       "    <tr>\n",
       "      <th>time</th>\n",
       "      <th>feature_id</th>\n",
       "      <th></th>\n",
       "    </tr>\n",
       "  </thead>\n",
       "  <tbody>\n",
       "    <tr>\n",
       "      <th rowspan=\"5\" valign=\"top\">2022-09-11 01:00:00</th>\n",
       "      <th>101</th>\n",
       "      <td>18</td>\n",
       "    </tr>\n",
       "    <tr>\n",
       "      <th>179</th>\n",
       "      <td>1</td>\n",
       "    </tr>\n",
       "    <tr>\n",
       "      <th>181</th>\n",
       "      <td>1</td>\n",
       "    </tr>\n",
       "    <tr>\n",
       "      <th>183</th>\n",
       "      <td>1</td>\n",
       "    </tr>\n",
       "    <tr>\n",
       "      <th>185</th>\n",
       "      <td>1</td>\n",
       "    </tr>\n",
       "    <tr>\n",
       "      <th>...</th>\n",
       "      <th>...</th>\n",
       "      <td>...</td>\n",
       "    </tr>\n",
       "    <tr>\n",
       "      <th rowspan=\"5\" valign=\"top\">2022-09-11 18:00:00</th>\n",
       "      <th>1180001800</th>\n",
       "      <td>0</td>\n",
       "    </tr>\n",
       "    <tr>\n",
       "      <th>1180001801</th>\n",
       "      <td>0</td>\n",
       "    </tr>\n",
       "    <tr>\n",
       "      <th>1180001802</th>\n",
       "      <td>0</td>\n",
       "    </tr>\n",
       "    <tr>\n",
       "      <th>1180001803</th>\n",
       "      <td>0</td>\n",
       "    </tr>\n",
       "    <tr>\n",
       "      <th>1180001804</th>\n",
       "      <td>0</td>\n",
       "    </tr>\n",
       "  </tbody>\n",
       "</table>\n",
       "<p>49981284 rows × 1 columns</p>\n",
       "</div>"
      ],
      "text/plain": [
       "                                streamflow\n",
       "time                feature_id            \n",
       "2022-09-11 01:00:00 101                 18\n",
       "                    179                  1\n",
       "                    181                  1\n",
       "                    183                  1\n",
       "                    185                  1\n",
       "...                                    ...\n",
       "2022-09-11 18:00:00 1180001800           0\n",
       "                    1180001801           0\n",
       "                    1180001802           0\n",
       "                    1180001803           0\n",
       "                    1180001804           0\n",
       "\n",
       "[49981284 rows x 1 columns]"
      ]
     },
     "execution_count": 6,
     "metadata": {},
     "output_type": "execute_result"
    }
   ],
   "source": [
    "%%time\n",
    "fds = []\n",
    "for xj in sr_h5:\n",
    "    backend_args = {\n",
    "        \"consolidated\": False,\n",
    "        \"storage_options\": {\n",
    "            \"fo\": xj,\n",
    "            # Adding these options returns a properly dimensioned but otherwise null dataframe\n",
    "            # \"remote_protocol\": \"https\",\n",
    "            # \"remote_options\": {'anon':True}\n",
    "        },\n",
    "    }\n",
    "    fds.append(\n",
    "        xr.open_dataset(\n",
    "            \"reference://\",\n",
    "            engine=\"zarr\",\n",
    "            mask_and_scale=False,\n",
    "            backend_kwargs=backend_args,\n",
    "        )\n",
    "    )\n",
    "    \n",
    "#dataset\n",
    "ds = xr.concat(fds, dim=\"time\")\n",
    "ds\n",
    "\n",
    "#dataframe\n",
    "df = ds[\"streamflow\"].to_dataframe()\n",
    "df"
   ]
  },
  {
   "cell_type": "code",
   "execution_count": 10,
   "metadata": {
    "collapsed": false,
    "jupyter": {
     "outputs_hidden": false
    },
    "pycharm": {
     "name": "#%%\n"
    }
   },
   "outputs": [
    {
     "name": "stdout",
     "output_type": "stream",
     "text": [
      "CPU times: user 54.5 s, sys: 751 ms, total: 55.3 s\n",
      "Wall time: 55.5 s\n"
     ]
    }
   ],
   "source": [
    "# Write parquet file\n",
    "%%time\n",
    "# df = pd.Series.to_frame(df)\n",
    "\n",
    "df.to_parquet(\n",
    "    \"../data/parquet_all_feature_ids.gzip\", engine=\"pyarrow\", compression=\"gzip\"\n",
    ")"
   ]
  },
  {
   "cell_type": "code",
   "execution_count": 11,
   "metadata": {
    "collapsed": false,
    "jupyter": {
     "outputs_hidden": false
    },
    "pycharm": {
     "name": "#%%\n"
    }
   },
   "outputs": [
    {
     "data": {
      "text/plain": [
       "<pyarrow._parquet.FileMetaData object at 0x7f33481a8130>\n",
       "  created_by: parquet-cpp-arrow version 7.0.0\n",
       "  num_columns: 3\n",
       "  num_rows: 49981284\n",
       "  num_row_groups: 1\n",
       "  format_version: 1.0\n",
       "  serialized_size: 2374"
      ]
     },
     "execution_count": 11,
     "metadata": {},
     "output_type": "execute_result"
    }
   ],
   "source": [
    "ParquetFile(\"../data/parquet_all_feature_ids.gzip\").metadata  #  num_columns: 3"
   ]
  },
  {
   "cell_type": "markdown",
   "metadata": {},
   "source": [
    "### Query 1 feature id"
   ]
  },
  {
   "cell_type": "code",
   "execution_count": 12,
   "metadata": {
    "collapsed": false,
    "jupyter": {
     "outputs_hidden": false
    },
    "pycharm": {
     "is_executing": true,
     "name": "#%%\n"
    }
   },
   "outputs": [
    {
     "name": "stdout",
     "output_type": "stream",
     "text": [
      "CPU times: user 26.8 s, sys: 6.14 s, total: 33 s\n",
      "Wall time: 32.9 s\n"
     ]
    },
    {
     "data": {
      "text/plain": [
       "<matplotlib.collections.PathCollection at 0x7f32db0aba00>"
      ]
     },
     "execution_count": 12,
     "metadata": {},
     "output_type": "execute_result"
    },
    {
     "data": {
      "image/png": "[encoded data removed]",
      "text/plain": [
       "<Figure size 432x288 with 1 Axes>"
      ]
     },
     "metadata": {
      "needs_background": "light"
     },
     "output_type": "display_data"
    }
   ],
   "source": [
    "# Read parquet file\n",
    "%%time\n",
    "#pip install pyarrow, fastparquet\n",
    "import dask.dataframe as dd\n",
    "data_1 = dd.read_parquet(\n",
    "    \"../data/parquet_all_feature_ids.gzip\", engine='pyarrow', columns=['streamflow']\n",
    ")\n",
    "result_1=data_1.compute()\n",
    "result_1.sort_index(inplace=True)\n",
    "result_1=result_1.loc[(slice(None), [101]), :]\n",
    "\n",
    "r_xa_1 = result_1.to_xarray()\n",
    "#r_xa\n",
    "r_xa_1.plot.scatter(\"time\", \"streamflow\")"
   ]
  },
  {
   "cell_type": "markdown",
   "metadata": {},
   "source": [
    "### Query 100 feature id"
   ]
  },
  {
   "cell_type": "code",
   "execution_count": 25,
   "metadata": {},
   "outputs": [
    {
     "name": "stdout",
     "output_type": "stream",
     "text": [
      "CPU times: user 31.9 s, sys: 6.88 s, total: 38.8 s\n",
      "Wall time: 38.6 s\n"
     ]
    },
    {
     "data": {
      "text/plain": [
       "<matplotlib.collections.PathCollection at 0x7f32a3e36550>"
      ]
     },
     "execution_count": 25,
     "metadata": {},
     "output_type": "execute_result"
    },
    {
     "data": {
      "image/png": "[encoded data removed]",
      "text/plain": [
       "<Figure size 432x288 with 1 Axes>"
      ]
     },
     "metadata": {
      "needs_background": "light"
     },
     "output_type": "display_data"
    }
   ],
   "source": [
    "%%time\n",
    "data_100 = dd.read_parquet(\n",
    "    \"../data/parquet_all_feature_ids.gzip\", engine='pyarrow', columns=['streamflow']\n",
    ")\n",
    "result_100=data_100.compute()\n",
    "result_100.sort_index(inplace=True)\n",
    "result_100=result_100.loc[:, 100:1032, :]\n",
    "\n",
    "r_xa_100 = result_100.to_xarray()\n",
    "#r_xa\n",
    "r_xa_100.plot.scatter(\"time\", \"streamflow\")"
   ]
  },
  {
   "cell_type": "markdown",
   "metadata": {},
   "source": [
    "### Query 10,000 feature_ids"
   ]
  },
  {
   "cell_type": "code",
   "execution_count": null,
   "metadata": {},
   "outputs": [
    {
     "name": "stdout",
     "output_type": "stream",
     "text": [
      "CPU times: user 32.4 s, sys: 6.16 s, total: 38.6 s\n",
      "Wall time: 38.4 s\n"
     ]
    },
    {
     "data": {
      "text/plain": [
       "<matplotlib.collections.PathCollection at 0x7f32a3d8ccd0>"
      ]
     },
     "execution_count": 26,
     "metadata": {},
     "output_type": "execute_result"
    }
   ],
   "source": [
    "%%time\n",
    "data_10000 = dd.read_parquet(\n",
    "    \"../data/parquet_all_feature_ids.gzip\", engine='pyarrow', columns=['streamflow']\n",
    ")\n",
    "result_10000=data_10000.compute()\n",
    "result_10000.sort_index(inplace=True)\n",
    "result_10000=result_10000.loc[:, 100:252765, :]\n",
    "\n",
    "r_xa_10000 = result_10000.to_xarray()\n",
    "#r_xa\n",
    "r_xa_10000.plot.scatter(\"time\", \"streamflow\")"
   ]
  },
  {
   "cell_type": "code",
   "execution_count": null,
   "metadata": {},
   "outputs": [],
   "source": [
    "result_10000"
   ]
  },
  {
   "cell_type": "markdown",
   "metadata": {},
   "source": [
    "### Query 100,000 feature_ids"
   ]
  },
  {
   "cell_type": "code",
   "execution_count": 20,
   "metadata": {},
   "outputs": [
    {
     "name": "stdout",
     "output_type": "stream",
     "text": [
      "CPU times: user 32.3 s, sys: 6.12 s, total: 38.4 s\n",
      "Wall time: 38.3 s\n"
     ]
    },
    {
     "data": {
      "text/plain": [
       "<matplotlib.collections.PathCollection at 0x7f32b000bd30>"
      ]
     },
     "execution_count": 20,
     "metadata": {},
     "output_type": "execute_result"
    },
    {
     "data": {
      "image/png": "[encoded data removed]",
      "text/plain": [
       "<Figure size 432x288 with 1 Axes>"
      ]
     },
     "metadata": {
      "needs_background": "light"
     },
     "output_type": "display_data"
    }
   ],
   "source": [
    "%%time\n",
    "data_100000 = dd.read_parquet(\n",
    "    \"../data/parquet_all_feature_ids.gzip\", engine='auto', columns=['streamflow']\n",
    ")\n",
    "result_100000=data_100000.compute()\n",
    "result_100000.sort_index(inplace=True)\n",
    "result_100000=result_100000.loc[:, 100:1122643, :]\n",
    "\n",
    "r_xa_100000 = result_100000.to_xarray()\n",
    "#r_xa\n",
    "r_xa_100000.plot.scatter(\"time\", \"streamflow\")"
   ]
  },
  {
   "cell_type": "code",
   "execution_count": null,
   "metadata": {},
   "outputs": [],
   "source": []
  }
 ],
 "metadata": {
  "kernelspec": {
   "display_name": "Python 3 (ipykernel)",
   "language": "python",
   "name": "python3"
  },
  "language_info": {
   "codemirror_mode": {
    "name": "ipython",
    "version": 3
   },
   "file_extension": ".py",
   "mimetype": "text/x-python",
   "name": "python",
   "nbconvert_exporter": "python",
   "pygments_lexer": "ipython3",
   "version": "3.9.13"
  },
  "vscode": {
   "interpreter": {
    "hash": "841f08bea6f583edb850f72cf2946a944a464e58115e0463b6b0b6002624e279"
   }
  }
 },
 "nbformat": 4,
 "nbformat_minor": 4
}
