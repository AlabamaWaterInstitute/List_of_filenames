{
 "cells": [
  {
   "cell_type": "code",
   "execution_count": 96,
   "metadata": {
    "collapsed": true,
    "pycharm": {
     "name": "#%%\n"
    }
   },
   "outputs": [],
   "source": [
    "import pandas as pd\n",
    "from pyarrow.parquet import ParquetFile\n",
    "import dask.dataframe as dd\n",
    "import os\n",
    "import xarray as xr\n",
    "\n"
   ]
  },
  {
   "cell_type": "code",
   "execution_count": 97,
   "outputs": [
    {
     "name": "stdout",
     "output_type": "stream",
     "text": [
      "['short_range_18files\\\\nwm.20220911_short_range_nwm.t00z.short_range.channel_rt.f001.conus.nc', 'short_range_18files\\\\nwm.20220911_short_range_nwm.t00z.short_range.channel_rt.f002.conus.nc', 'short_range_18files\\\\nwm.20220911_short_range_nwm.t00z.short_range.channel_rt.f003.conus.nc', 'short_range_18files\\\\nwm.20220911_short_range_nwm.t00z.short_range.channel_rt.f004.conus.nc', 'short_range_18files\\\\nwm.20220911_short_range_nwm.t00z.short_range.channel_rt.f005.conus.nc', 'short_range_18files\\\\nwm.20220911_short_range_nwm.t00z.short_range.channel_rt.f006.conus.nc', 'short_range_18files\\\\nwm.20220911_short_range_nwm.t00z.short_range.channel_rt.f007.conus.nc', 'short_range_18files\\\\nwm.20220911_short_range_nwm.t00z.short_range.channel_rt.f008.conus.nc', 'short_range_18files\\\\nwm.20220911_short_range_nwm.t00z.short_range.channel_rt.f009.conus.nc', 'short_range_18files\\\\nwm.20220911_short_range_nwm.t00z.short_range.channel_rt.f010.conus.nc', 'short_range_18files\\\\nwm.20220911_short_range_nwm.t00z.short_range.channel_rt.f011.conus.nc', 'short_range_18files\\\\nwm.20220911_short_range_nwm.t00z.short_range.channel_rt.f012.conus.nc', 'short_range_18files\\\\nwm.20220911_short_range_nwm.t00z.short_range.channel_rt.f013.conus.nc', 'short_range_18files\\\\nwm.20220911_short_range_nwm.t00z.short_range.channel_rt.f014.conus.nc', 'short_range_18files\\\\nwm.20220911_short_range_nwm.t00z.short_range.channel_rt.f015.conus.nc', 'short_range_18files\\\\nwm.20220911_short_range_nwm.t00z.short_range.channel_rt.f016.conus.nc', 'short_range_18files\\\\nwm.20220911_short_range_nwm.t00z.short_range.channel_rt.f017.conus.nc', 'short_range_18files\\\\nwm.20220911_short_range_nwm.t00z.short_range.channel_rt.f018.conus.nc']\n"
     ]
    }
   ],
   "source": [
    "dir_files = [os.path.join(\"short_range_18files\", files) for files in os.listdir(\"short_range_18files\")]\n",
    "print(dir_files)"
   ],
   "metadata": {
    "collapsed": false,
    "pycharm": {
     "name": "#%%\n"
    }
   }
  },
  {
   "cell_type": "code",
   "execution_count": 98,
   "outputs": [],
   "source": [
    "fds = []\n",
    "for f in dir_files:\n",
    "    fds.append(xr.open_dataset(f))"
   ],
   "metadata": {
    "collapsed": false,
    "pycharm": {
     "name": "#%%\n"
    }
   }
  },
  {
   "cell_type": "code",
   "execution_count": 99,
   "outputs": [
    {
     "name": "stdout",
     "output_type": "stream",
     "text": [
      "CPU times: total: 5.36 s\n",
      "Wall time: 5.44 s\n"
     ]
    }
   ],
   "source": [
    "%%time\n",
    "ds = xr.concat(fds,dim=\"time\")"
   ],
   "metadata": {
    "collapsed": false,
    "pycharm": {
     "name": "#%%\n"
    }
   }
  },
  {
   "cell_type": "code",
   "execution_count": 100,
   "outputs": [
    {
     "data": {
      "text/plain": "time                 reference_time  feature_id\n2022-09-11 01:00:00  2022-09-11      101           0.18\n                                     179           0.01\n                                     181           0.01\n                                     183           0.01\n                                     185           0.01\n                                                   ... \n2022-09-11 18:00:00  2022-09-11      1180001800    0.00\n                                     1180001801    0.00\n                                     1180001802    0.00\n                                     1180001803    0.00\n                                     1180001804    0.00\nName: streamflow, Length: 49981284, dtype: float64"
     },
     "execution_count": 100,
     "metadata": {},
     "output_type": "execute_result"
    }
   ],
   "source": [
    "df = ds.to_dataframe()\n",
    "df = df.streamflow\n",
    "df"
   ],
   "metadata": {
    "collapsed": false,
    "pycharm": {
     "name": "#%%\n"
    }
   }
  },
  {
   "cell_type": "code",
   "execution_count": 101,
   "outputs": [],
   "source": [
    "#df.loc[:, :, 100:1032] # 1800 rows - 100 feature_id per file.\n",
    "\n"
   ],
   "metadata": {
    "collapsed": false,
    "pycharm": {
     "name": "#%%\n"
    }
   }
  },
  {
   "cell_type": "code",
   "execution_count": null,
   "outputs": [],
   "source": [
    "%%time\n",
    "df = pd.Series.to_frame(df)\n",
    "\n",
    "df.to_parquet(\"data/parquet_all_feature_ids.gzip\"\n",
    "             , engine=\"fastparquet\" #\"pyarrow\", \"auto\"\n",
    "             , compression=\"gzip\" # \"snappy\"\n",
    "            )\n"
   ],
   "metadata": {
    "collapsed": false,
    "pycharm": {
     "name": "#%%\n",
     "is_executing": true
    }
   }
  },
  {
   "cell_type": "code",
   "execution_count": null,
   "outputs": [],
   "source": [
    "ParquetFile(\"data/parquet_all_feature_ids.gzip\").metadata #  num_columns: 3"
   ],
   "metadata": {
    "collapsed": false,
    "pycharm": {
     "name": "#%%\n",
     "is_executing": true
    }
   }
  },
  {
   "cell_type": "code",
   "execution_count": null,
   "outputs": [],
   "source": [
    "%%time\n",
    "data = dd.read_parquet(\n",
    "    \"data/parquet_all_feature_ids.gzip\"\n",
    "    , storage_options={\"anon\": True}\n",
    "    )\n",
    "data\n",
    "result = data.compute()\n",
    "\n",
    "\n",
    "#result = result.loc[:,:, [101]]\n",
    "result= result.loc[:, :, 100:1032]\n",
    "#result= result.loc[:, :, 1000:11000]\n",
    "#result= result.loc[:, :, 10000:110000]\n",
    "result\n",
    "r_xa = result.to_xarray()\n",
    "r_xa\n",
    "r_xa.plot.scatter(\"time\",\"streamflow\")"
   ],
   "metadata": {
    "collapsed": false,
    "pycharm": {
     "name": "#%%\n",
     "is_executing": true
    }
   }
  },
  {
   "cell_type": "code",
   "execution_count": null,
   "outputs": [],
   "source": [],
   "metadata": {
    "collapsed": false,
    "pycharm": {
     "name": "#%%\n",
     "is_executing": true
    }
   }
  }
 ],
 "metadata": {
  "kernelspec": {
   "display_name": "Python 3",
   "language": "python",
   "name": "python3"
  },
  "language_info": {
   "codemirror_mode": {
    "name": "ipython",
    "version": 2
   },
   "file_extension": ".py",
   "mimetype": "text/x-python",
   "name": "python",
   "nbconvert_exporter": "python",
   "pygments_lexer": "ipython2",
   "version": "2.7.6"
  }
 },
 "nbformat": 4,
 "nbformat_minor": 0
}