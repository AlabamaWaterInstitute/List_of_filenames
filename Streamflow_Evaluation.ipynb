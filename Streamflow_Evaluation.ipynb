{
 "cells": [
  {
   "cell_type": "code",
   "execution_count": 1,
   "id": "695a3f6a-dce5-4900-9580-ba9bb622aff9",
   "metadata": {},
   "outputs": [],
   "source": [
    "import Streamflow_Eval"
   ]
  },
  {
   "cell_type": "code",
   "execution_count": null,
   "id": "be588977-7e56-4966-b4cb-73b2324f3cc6",
   "metadata": {},
   "outputs": [
    {
     "name": "stdout",
     "output_type": "stream",
     "text": [
      "Retrieving USGS site  10155200  data\n",
      "Retrieving NWM reach  10373794  data\n"
     ]
    }
   ],
   "source": [
    "#site information\n",
    "#set up for Provo River at river road bridge\n",
    "NWISreach = '10155200'\n",
    "NWMsegment = 10373794\n",
    "startDT ='2020-05-01'\n",
    "endDT ='2020-06-01'\n",
    "freq = 'D'\n",
    "\n",
    "#Set evaluation function\n",
    "Streamflow = Streamflow_Eval.Reach_Eval(NWISreach, NWMsegment, startDT, endDT, freq)\n",
    "\n",
    "#Get NWIS data\n",
    "Streamflow.NWIS_retrieve()\n",
    "\n",
    "#Get NWM data\n",
    "Streamflow.NWM_retrieve()\n",
    "\n",
    "#print evaluation\n",
    "Streamflow.NWM_Eval()"
   ]
  },
  {
   "cell_type": "code",
   "execution_count": null,
   "id": "b191dd8d-550a-4b85-a811-29c6f67be7be",
   "metadata": {},
   "outputs": [],
   "source": []
  },
  {
   "cell_type": "code",
   "execution_count": null,
   "id": "2b2b368a-fbc5-4b3f-84b2-54dd06de3f47",
   "metadata": {},
   "outputs": [],
   "source": []
  },
  {
   "cell_type": "code",
   "execution_count": null,
   "id": "2bc01c5b-65c4-4dff-9a1a-4a30d7a4fb7f",
   "metadata": {},
   "outputs": [],
   "source": []
  },
  {
   "cell_type": "code",
   "execution_count": null,
   "id": "2f85dbe8-69b8-4e6f-905b-2ab378b94094",
   "metadata": {},
   "outputs": [],
   "source": []
  },
  {
   "cell_type": "code",
   "execution_count": null,
   "id": "c8f02dee-3fd7-49d6-9757-5e9248c5cbe0",
   "metadata": {},
   "outputs": [],
   "source": []
  },
  {
   "cell_type": "code",
   "execution_count": null,
   "id": "ade20297-0464-4ed5-9fcc-7b556fb6dabb",
   "metadata": {},
   "outputs": [],
   "source": []
  }
 ],
 "metadata": {
  "kernelspec": {
   "display_name": "OWP_env",
   "language": "python",
   "name": "owp_env"
  },
  "language_info": {
   "codemirror_mode": {
    "name": "ipython",
    "version": 3
   },
   "file_extension": ".py",
   "mimetype": "text/x-python",
   "name": "python",
   "nbconvert_exporter": "python",
   "pygments_lexer": "ipython3",
   "version": "3.9.7"
  }
 },
 "nbformat": 4,
 "nbformat_minor": 5
}
