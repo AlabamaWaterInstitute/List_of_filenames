{
 "cells": [
  {
   "cell_type": "code",
   "execution_count": 1,
   "id": "695a3f6a-dce5-4900-9580-ba9bb622aff9",
   "metadata": {},
   "outputs": [
    {
     "name": "stderr",
     "output_type": "stream",
     "text": [
      "C:\\Users\\rjohnson18\\Anaconda3\\lib\\site-packages\\xarray\\backends\\cfgrib_.py:27: UserWarning: Failed to load cfgrib - most likely there is a problem accessing the ecCodes library. Try `import cfgrib` to get the full error message\n",
      "  warnings.warn(\n"
     ]
    }
   ],
   "source": [
    "import Streamflow_Eval\n",
    "import os\n",
    "\n",
    "\n",
    "#set path directory\n",
    "cwd = os.getcwd()"
   ]
  },
  {
   "cell_type": "code",
   "execution_count": 2,
   "id": "be588977-7e56-4966-b4cb-73b2324f3cc6",
   "metadata": {
    "scrolled": false
   },
   "outputs": [],
   "source": [
    "#site information\n",
    "#set up for Provo River at river road bridge !!! these sites may not be currently colocated!!!\n",
    "NWISsite = '10163000'\n",
    "NWMsegment = 4909714 #Can we drive this value as a function of the NWIS site?\n",
    "startDT ='2020-07-01'\n",
    "endDT ='2020-07-31'\n",
    "freq = 'D'\n",
    "\n",
    "#Run parameter setting function\n",
    "Streamflow = Streamflow_Eval.Reach_Eval(NWISsite, NWMsegment, startDT, endDT, freq, cwd)\n"
   ]
  },
  {
   "cell_type": "code",
   "execution_count": 3,
   "id": "50de8513",
   "metadata": {},
   "outputs": [
    {
     "name": "stdout",
     "output_type": "stream",
     "text": [
      "Calculating the summary statistics of the catchment\n"
     ]
    },
    {
     "data": {
      "text/html": [
       "<div>\n",
       "<style scoped>\n",
       "    .dataframe tbody tr th:only-of-type {\n",
       "        vertical-align: middle;\n",
       "    }\n",
       "\n",
       "    .dataframe tbody tr th {\n",
       "        vertical-align: top;\n",
       "    }\n",
       "\n",
       "    .dataframe thead th {\n",
       "        text-align: right;\n",
       "    }\n",
       "</style>\n",
       "<table border=\"1\" class=\"dataframe\">\n",
       "  <thead>\n",
       "    <tr style=\"text-align: right;\">\n",
       "      <th></th>\n",
       "      <th>NWIS_site_id</th>\n",
       "      <th>Drainage_area_mi2</th>\n",
       "      <th>Mean_Basin_Elev_ft</th>\n",
       "      <th>Perc_Forest</th>\n",
       "      <th>Perc_Develop</th>\n",
       "      <th>Perc_Imperv</th>\n",
       "      <th>Perc_Herbace</th>\n",
       "      <th>Perc_Slop_30</th>\n",
       "      <th>Mean_Ann_Precip_in</th>\n",
       "      <th>Ann_low_cfs</th>\n",
       "      <th>Ann_mean_cfs</th>\n",
       "      <th>Ann_hi_cfs</th>\n",
       "    </tr>\n",
       "  </thead>\n",
       "  <tbody>\n",
       "    <tr>\n",
       "      <th>0</th>\n",
       "      <td>10163000</td>\n",
       "      <td>0.0988</td>\n",
       "      <td>4500.0</td>\n",
       "      <td>8.25</td>\n",
       "      <td>71.2</td>\n",
       "      <td>36.8</td>\n",
       "      <td>0.0</td>\n",
       "      <td>1.16</td>\n",
       "      <td>12.7</td>\n",
       "      <td>34.6</td>\n",
       "      <td>191.0</td>\n",
       "      <td>606.6</td>\n",
       "    </tr>\n",
       "  </tbody>\n",
       "</table>\n",
       "</div>"
      ],
      "text/plain": [
       "  NWIS_site_id Drainage_area_mi2 Mean_Basin_Elev_ft Perc_Forest Perc_Develop  \\\n",
       "0     10163000            0.0988             4500.0        8.25         71.2   \n",
       "\n",
       "  Perc_Imperv Perc_Herbace Perc_Slop_30 Mean_Ann_Precip_in Ann_low_cfs  \\\n",
       "0        36.8          0.0         1.16               12.7        34.6   \n",
       "\n",
       "  Ann_mean_cfs Ann_hi_cfs  \n",
       "0        191.0      606.6  "
      ]
     },
     "metadata": {},
     "output_type": "display_data"
    }
   ],
   "source": [
    "#Get a Summary of the catchment\n",
    "Streamflow.get_StreamStats()\n",
    "\n",
    "#Plot interactive map of catchment\n",
    "Streamflow.WatershedMap"
   ]
  },
  {
   "cell_type": "code",
   "execution_count": 11,
   "id": "c6c5f570",
   "metadata": {},
   "outputs": [
    {
     "name": "stdout",
     "output_type": "stream",
     "text": [
      "Retrieving USGS site  10163000  data\n",
      "Calculating the summary statistics of the catchment\n"
     ]
    },
    {
     "data": {
      "text/html": [
       "<div>\n",
       "<style scoped>\n",
       "    .dataframe tbody tr th:only-of-type {\n",
       "        vertical-align: middle;\n",
       "    }\n",
       "\n",
       "    .dataframe tbody tr th {\n",
       "        vertical-align: top;\n",
       "    }\n",
       "\n",
       "    .dataframe thead th {\n",
       "        text-align: right;\n",
       "    }\n",
       "</style>\n",
       "<table border=\"1\" class=\"dataframe\">\n",
       "  <thead>\n",
       "    <tr style=\"text-align: right;\">\n",
       "      <th></th>\n",
       "      <th>NWIS_site_id</th>\n",
       "      <th>Drainage_area_mi2</th>\n",
       "      <th>Mean_Basin_Elev_ft</th>\n",
       "      <th>Perc_Forest</th>\n",
       "      <th>Perc_Develop</th>\n",
       "      <th>Perc_Imperv</th>\n",
       "      <th>Perc_Herbace</th>\n",
       "      <th>Perc_Slop_30</th>\n",
       "      <th>Mean_Ann_Precip_in</th>\n",
       "    </tr>\n",
       "  </thead>\n",
       "  <tbody>\n",
       "    <tr>\n",
       "      <th>0</th>\n",
       "      <td>10163000</td>\n",
       "      <td>0.0988</td>\n",
       "      <td>4500.0</td>\n",
       "      <td>8.25</td>\n",
       "      <td>71.2</td>\n",
       "      <td>36.8</td>\n",
       "      <td>0.0</td>\n",
       "      <td>1.16</td>\n",
       "      <td>12.7</td>\n",
       "    </tr>\n",
       "  </tbody>\n",
       "</table>\n",
       "</div>"
      ],
      "text/plain": [
       "  NWIS_site_id Drainage_area_mi2 Mean_Basin_Elev_ft Perc_Forest Perc_Develop  \\\n",
       "0     10163000            0.0988             4500.0        8.25         71.2   \n",
       "\n",
       "  Perc_Imperv Perc_Herbace Perc_Slop_30 Mean_Ann_Precip_in  \n",
       "0        36.8          0.0         1.16               12.7  "
      ]
     },
     "metadata": {},
     "output_type": "display_data"
    },
    {
     "name": "stdout",
     "output_type": "stream",
     "text": [
      "Retrieving NWM reach  4909714  data\n",
      "The NWM demonstrates the following model performance\n",
      "R2 =  -66.72956442406755\n",
      "RMSE =  51.903214093264005 ft3/s\n",
      "Maximum error =  68.99330675180477 ft3/s\n",
      "Mean Absolute Percentage Error =  92.03464416437814 %\n",
      "Kling-Gupta Efficiency =  -0.4581394720229153\n"
     ]
    },
    {
     "data": {
      "image/png": "[encoded data removed]",
      "text/plain": [
       "<Figure size 720x360 with 2 Axes>"
      ]
     },
     "metadata": {
      "needs_background": "light"
     },
     "output_type": "display_data"
    }
   ],
   "source": [
    "#Get NWIS data\n",
    "Streamflow.NWIS_retrieve()\n",
    "\n",
    "#Get NWM data\n",
    "Streamflow.NWM_retrieve()\n",
    "\n",
    "#Compare NWM performance with USGS observations\n",
    "Streamflow.NWM_Eval()"
   ]
  },
  {
   "cell_type": "code",
   "execution_count": null,
   "id": "b2f490f6",
   "metadata": {},
   "outputs": [],
   "source": []
  },
  {
   "cell_type": "code",
   "execution_count": null,
   "id": "88312366",
   "metadata": {},
   "outputs": [],
   "source": []
  },
  {
   "cell_type": "code",
   "execution_count": null,
   "id": "510a5aca",
   "metadata": {
    "scrolled": true
   },
   "outputs": [
    {
     "name": "stderr",
     "output_type": "stream",
     "text": [
      "  0% |                                                                        |\r"
     ]
    },
    {
     "name": "stdout",
     "output_type": "stream",
     "text": [
      "Calculating the summary statistics of the catchment for  PROVO RIVER AT PROVO, UT , USGS:  10163000\n",
      "Calculating the summary statistics of the catchment for  DOLORES RIVER NEAR CISCO, UT , USGS:  09180000\n"
     ]
    },
    {
     "name": "stderr",
     "output_type": "stream",
     "text": [
      "  1% |                                                                        |\r"
     ]
    },
    {
     "name": "stdout",
     "output_type": "stream",
     "text": [
      "Calculating the summary statistics of the catchment for  COLORADO RIVER NEAR CISCO, UT , USGS:  09180500\n",
      "Calculating the summary statistics of the catchment for  MILL CREEK AT SHELEY TUNNEL, NEAR MOAB, UT , USGS:  09183500\n"
     ]
    },
    {
     "name": "stderr",
     "output_type": "stream",
     "text": [
      "  2% |#                                                                       |\r"
     ]
    },
    {
     "name": "stdout",
     "output_type": "stream",
     "text": [
      "Calculating the summary statistics of the catchment for  MILL CREEK BELOW SHELEY TUNNEL, NEAR MOAB, UT , USGS:  09183600\n",
      "Calculating the summary statistics of the catchment for  PACK CREEK AT PACK CREEK ROAD BRIDGE NEAR MOAB, UT , USGS:  09184600\n"
     ]
    },
    {
     "name": "stderr",
     "output_type": "stream",
     "text": [
      "  4% |##                                                                      |\r"
     ]
    },
    {
     "name": "stdout",
     "output_type": "stream",
     "text": [
      "Calculating the summary statistics of the catchment for  MILL CREEK BLW PACK CREEK NR MOUTH AT MOAB, UT , USGS:  09185100\n",
      "Calculating the summary statistics of the catchment for  COLORADO RIVER AT POTASH, UT , USGS:  09185600\n"
     ]
    },
    {
     "name": "stderr",
     "output_type": "stream",
     "text": [
      "  5% |###                                                                     |\r"
     ]
    },
    {
     "name": "stdout",
     "output_type": "stream",
     "text": [
      "Calculating the summary statistics of the catchment for  GREEN RIVER NEAR GREENDALE, UT , USGS:  09234500\n",
      "Calculating the summary statistics of the catchment for  BLACKS FORK NEAR ROBERTSON, WY , USGS:  09217900\n"
     ]
    },
    {
     "name": "stderr",
     "output_type": "stream",
     "text": [
      "  6% |####                                                                    |\r"
     ]
    },
    {
     "name": "stdout",
     "output_type": "stream",
     "text": [
      "Calculating the summary statistics of the catchment for  WHITE RIVER NEAR WATSON, UTAH , USGS:  09306500\n",
      "Calculating the summary statistics of the catchment for  GREEN RIVER NEAR JENSEN, UT , USGS:  09261000\n"
     ]
    },
    {
     "name": "stderr",
     "output_type": "stream",
     "text": [
      "  8% |#####                                                                   |\r"
     ]
    },
    {
     "name": "stdout",
     "output_type": "stream",
     "text": [
      "Calculating the summary statistics of the catchment for  GREEN RIVER AT OURAY, UTAH , USGS:  09272400\n",
      "Calculating the summary statistics of the catchment for  BIG BRUSH CRK ABV RED FLEET RES, NR VERNAL, UT , USGS:  09261700\n"
     ]
    },
    {
     "name": "stderr",
     "output_type": "stream",
     "text": [
      "  9% |######                                                                  |\r"
     ]
    },
    {
     "name": "stdout",
     "output_type": "stream",
     "text": [
      "Calculating the summary statistics of the catchment for  ASHLEY CREEK NEAR VERNAL, UT , USGS:  09266500\n",
      "Calculating the summary statistics of the catchment for  DUCHESNE RIVER NEAR TABIONA, UT , USGS:  09277500\n"
     ]
    },
    {
     "name": "stderr",
     "output_type": "stream",
     "text": [
      " 10% |#######                                                                 |\r"
     ]
    },
    {
     "name": "stdout",
     "output_type": "stream",
     "text": [
      "Calculating the summary statistics of the catchment for  ROCK CREEK NEAR MOUNTAIN HOME, UT , USGS:  09279000\n",
      "Calculating the summary statistics of the catchment for  LAKE FORK RIVER AB MOON LAKE, NR MOUNTAIN HOME, UT , USGS:  09289500\n"
     ]
    },
    {
     "name": "stderr",
     "output_type": "stream",
     "text": [
      " 12% |########                                                                |\r"
     ]
    },
    {
     "name": "stdout",
     "output_type": "stream",
     "text": [
      "Calculating the summary statistics of the catchment for  LAKE FORK RIVER BL MOON LAKE NR MOUNTAIN HOME, UT , USGS:  09291000\n",
      "Calculating the summary statistics of the catchment for  YELLOWSTONE R @ BRIDGE CMPGRND NR ALTONAH, UT , USGS:  09292000\n"
     ]
    },
    {
     "name": "stderr",
     "output_type": "stream",
     "text": [
      " 13% |#########                                                               |\r"
     ]
    },
    {
     "name": "stdout",
     "output_type": "stream",
     "text": [
      "Calculating the summary statistics of the catchment for  YELLOWSTONE RIVER NEAR ALTONAH, UT , USGS:  09292500\n",
      "Calculating the summary statistics of the catchment for  DUCHESNE RIVER AT MYTON, UT , USGS:  09295000\n"
     ]
    },
    {
     "name": "stderr",
     "output_type": "stream",
     "text": [
      " 14% |##########                                                              |\r"
     ]
    },
    {
     "name": "stdout",
     "output_type": "stream",
     "text": [
      "Calculating the summary statistics of the catchment for  DUCHESNE RIV ABV UINTA RIV, NR RANDLETT, UT , USGS:  09295100\n",
      "Calculating the summary statistics of the catchment for  UINTA R BLW POWERPLANT DIVERSION, NR NEOLA, UT , USGS:  09296800\n"
     ]
    },
    {
     "name": "stderr",
     "output_type": "stream",
     "text": [
      " 16% |###########                                                             |\r"
     ]
    },
    {
     "name": "stdout",
     "output_type": "stream",
     "text": [
      "Calculating the summary statistics of the catchment for  WHITEROCKS RIVER NEAR WHITEROCKS, UT , USGS:  09299500\n",
      "Calculating the summary statistics of the catchment for  UINTA RIVER AT RANDLETT, UT , USGS:  09301500\n"
     ]
    },
    {
     "name": "stderr",
     "output_type": "stream",
     "text": [
      " 17% |############                                                            |\r"
     ]
    },
    {
     "name": "stdout",
     "output_type": "stream",
     "text": [
      "Calculating the summary statistics of the catchment for  DUCHESNE RIVER NEAR RANDLETT, UT , USGS:  09302000\n",
      "Calculating the summary statistics of the catchment for  STRAWBERRY RIVER AT PINNACLES NEAR FRUITLAND, UT , USGS:  09285900\n"
     ]
    },
    {
     "name": "stderr",
     "output_type": "stream",
     "text": [
      " 18% |#############                                                           |\r"
     ]
    },
    {
     "name": "stdout",
     "output_type": "stream",
     "text": [
      "Calculating the summary statistics of the catchment for  CURRANT CREEK NEAR FRUITLAND, UT , USGS:  09288000\n",
      "Calculating the summary statistics of the catchment for  STRAWBERRY RIVER NEAR DUCHESNE, UT , USGS:  09288180\n"
     ]
    },
    {
     "name": "stderr",
     "output_type": "stream",
     "text": [
      " 20% |##############                                                          |\r"
     ]
    },
    {
     "name": "stdout",
     "output_type": "stream",
     "text": [
      "Calculating the summary statistics of the catchment for  FAIRVIEW TUNNEL NEAR FAIRVIEW, UT , USGS:  09309600\n",
      "Calculating the summary statistics of the catchment for  FISH CREEK ABOVE RESERVOIR, NEAR SCOFIELD, UT , USGS:  09310500\n"
     ]
    },
    {
     "name": "stderr",
     "output_type": "stream",
     "text": [
      " 21% |###############                                                         |\r"
     ]
    },
    {
     "name": "stdout",
     "output_type": "stream",
     "text": [
      "Calculating the summary statistics of the catchment for  MUD CRK BL WINTER QUARTERS CYN @ SCOFIELD, UT , USGS:  09310700\n",
      "Calculating the summary statistics of the catchment for  WHITE R BL TABBYUNE CRK NR SOLDIER SUMMIT, UT , USGS:  09312600\n"
     ]
    },
    {
     "name": "stderr",
     "output_type": "stream",
     "text": [
      " 22% |################                                                        |\r"
     ]
    },
    {
     "name": "stdout",
     "output_type": "stream",
     "text": [
      "Calculating the summary statistics of the catchment for  PRICE RIVER AT WOODSIDE, UT , USGS:  09314500\n",
      "Calculating the summary statistics of the catchment for  GREEN RIVER AT GREEN RIVER, UT , USGS:  09315000\n"
     ]
    },
    {
     "name": "stderr",
     "output_type": "stream",
     "text": [
      " 24% |#################                                                       |\r"
     ]
    },
    {
     "name": "stdout",
     "output_type": "stream",
     "text": [
      "Calculating the summary statistics of the catchment for  GREEN RIVER AT MINERAL BOTTOM NR CYNLNDS NTL PARK , USGS:  09328920\n",
      "Calculating the summary statistics of the catchment for  EPHRAIM TUNNEL NEAR EPHRAIM, UT , USGS:  09319000\n"
     ]
    },
    {
     "name": "stderr",
     "output_type": "stream",
     "text": [
      " 25% |##################                                                      |\r"
     ]
    },
    {
     "name": "stdout",
     "output_type": "stream",
     "text": [
      "Calculating the summary statistics of the catchment for  FERRON CREEK (UPPER STATION) NEAR FERRON, UT , USGS:  09326500\n"
     ]
    }
   ],
   "source": [
    "#This functions gets all of the USGS sites per state, gets the summary statistics for all sites, and then saves to csv\n",
    "\n",
    "state = 'ut'\n",
    "\n",
    "Streamflow.get_USGS_site_info(state)"
   ]
  },
  {
   "cell_type": "code",
   "execution_count": null,
   "id": "f42bd992",
   "metadata": {},
   "outputs": [],
   "source": []
  }
 ],
 "metadata": {
  "kernelspec": {
   "display_name": "OWP_env",
   "language": "python",
   "name": "owp_env"
  },
  "language_info": {
   "codemirror_mode": {
    "name": "ipython",
    "version": 3
   },
   "file_extension": ".py",
   "mimetype": "text/x-python",
   "name": "python",
   "nbconvert_exporter": "python",
   "pygments_lexer": "ipython3",
   "version": "3.9.12"
  }
 },
 "nbformat": 4,
 "nbformat_minor": 5
}
