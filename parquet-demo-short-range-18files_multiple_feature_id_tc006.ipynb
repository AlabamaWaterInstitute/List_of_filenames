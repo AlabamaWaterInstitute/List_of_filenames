{
 "cells": [
  {
   "cell_type": "code",
   "execution_count": 147,
   "metadata": {
    "collapsed": true,
    "pycharm": {
     "name": "#%%\n"
    }
   },
   "outputs": [],
   "source": [
    "import pandas as pd\n",
    "from pyarrow.parquet import ParquetFile\n",
    "import dask.dataframe as dd\n",
    "import os\n",
    "import xarray as xr\n"
   ]
  },
  {
   "cell_type": "code",
   "execution_count": 148,
   "outputs": [
    {
     "name": "stdout",
     "output_type": "stream",
     "text": [
      "['short_range_18files\\\\nwm.20220911_short_range_nwm.t00z.short_range.channel_rt.f001.conus.nc', 'short_range_18files\\\\nwm.20220911_short_range_nwm.t00z.short_range.channel_rt.f002.conus.nc', 'short_range_18files\\\\nwm.20220911_short_range_nwm.t00z.short_range.channel_rt.f003.conus.nc', 'short_range_18files\\\\nwm.20220911_short_range_nwm.t00z.short_range.channel_rt.f004.conus.nc', 'short_range_18files\\\\nwm.20220911_short_range_nwm.t00z.short_range.channel_rt.f005.conus.nc', 'short_range_18files\\\\nwm.20220911_short_range_nwm.t00z.short_range.channel_rt.f006.conus.nc', 'short_range_18files\\\\nwm.20220911_short_range_nwm.t00z.short_range.channel_rt.f007.conus.nc', 'short_range_18files\\\\nwm.20220911_short_range_nwm.t00z.short_range.channel_rt.f008.conus.nc', 'short_range_18files\\\\nwm.20220911_short_range_nwm.t00z.short_range.channel_rt.f009.conus.nc', 'short_range_18files\\\\nwm.20220911_short_range_nwm.t00z.short_range.channel_rt.f010.conus.nc', 'short_range_18files\\\\nwm.20220911_short_range_nwm.t00z.short_range.channel_rt.f011.conus.nc', 'short_range_18files\\\\nwm.20220911_short_range_nwm.t00z.short_range.channel_rt.f012.conus.nc', 'short_range_18files\\\\nwm.20220911_short_range_nwm.t00z.short_range.channel_rt.f013.conus.nc', 'short_range_18files\\\\nwm.20220911_short_range_nwm.t00z.short_range.channel_rt.f014.conus.nc', 'short_range_18files\\\\nwm.20220911_short_range_nwm.t00z.short_range.channel_rt.f015.conus.nc', 'short_range_18files\\\\nwm.20220911_short_range_nwm.t00z.short_range.channel_rt.f016.conus.nc', 'short_range_18files\\\\nwm.20220911_short_range_nwm.t00z.short_range.channel_rt.f017.conus.nc', 'short_range_18files\\\\nwm.20220911_short_range_nwm.t00z.short_range.channel_rt.f018.conus.nc']\n"
     ]
    }
   ],
   "source": [
    "dir_files = [os.path.join(\"short_range_18files\", files) for files in os.listdir(\"short_range_18files\")]\n",
    "print(dir_files)"
   ],
   "metadata": {
    "collapsed": false,
    "pycharm": {
     "name": "#%%\n"
    }
   }
  },
  {
   "cell_type": "code",
   "execution_count": 149,
   "outputs": [],
   "source": [
    "fds = []\n",
    "for f in dir_files:\n",
    "    fds.append(xr.open_dataset(f))"
   ],
   "metadata": {
    "collapsed": false,
    "pycharm": {
     "name": "#%%\n"
    }
   }
  },
  {
   "cell_type": "code",
   "execution_count": null,
   "outputs": [],
   "source": [
    "%%time\n",
    "ds = xr.concat(fds,dim=\"time\")\n",
    "ds"
   ],
   "metadata": {
    "collapsed": false,
    "pycharm": {
     "name": "#%%\n",
     "is_executing": true
    }
   }
  },
  {
   "cell_type": "code",
   "execution_count": null,
   "outputs": [],
   "source": [
    "#vec = ds.feature_id[179] # 1 feature_id\n",
    "vec = ds.feature_id[1:101]\n",
    "\n",
    "ds = ds.loc[{\"feature_id\": vec}]\n",
    "\n",
    "df = ds.to_dataframe()\n",
    "df = df.streamflow\n",
    "ds"
   ],
   "metadata": {
    "collapsed": false,
    "pycharm": {
     "name": "#%%\n",
     "is_executing": true
    }
   }
  },
  {
   "cell_type": "code",
   "execution_count": null,
   "outputs": [],
   "source": [
    "#%time ds.loc[{\"feature_id\": vec}].plot.scatter(\"time\", \"streamflow\")"
   ],
   "metadata": {
    "collapsed": false,
    "pycharm": {
     "name": "#%%\n",
     "is_executing": true
    }
   }
  },
  {
   "cell_type": "code",
   "execution_count": null,
   "outputs": [],
   "source": [
    "%%time\n",
    "df = pd.Series.to_frame(df)\n",
    "df.to_parquet(\"data/parquet_100_featureId.gzip\"\n",
    "             , engine=\"fastparquet\" #\"pyarrow\", \"auto\"\n",
    "             , compression=\"gzip\" # \"snappy\"\n",
    "            )\n"
   ],
   "metadata": {
    "collapsed": false,
    "pycharm": {
     "name": "#%%\n",
     "is_executing": true
    }
   }
  },
  {
   "cell_type": "code",
   "execution_count": null,
   "outputs": [],
   "source": [
    "ParquetFile(\"data/parquet_100_featureId.gzip\").metadata #  num_columns: 3"
   ],
   "metadata": {
    "collapsed": false,
    "pycharm": {
     "name": "#%%\n",
     "is_executing": true
    }
   }
  },
  {
   "cell_type": "code",
   "execution_count": null,
   "outputs": [],
   "source": [
    "%%time\n",
    "data = dd.read_parquet(\n",
    "    \"data/parquet_100_featureId.gzip\"\n",
    "    , storage_options={\"anon\": True}\n",
    "    )\n",
    "data\n",
    "#%time data.loc[slice(None), int('101')]\n",
    "\n",
    "#result = data.shape[0].compute()\n",
    "result = data.compute()\n",
    "result\n",
    "\n",
    "r_xa = result.to_xarray()\n",
    "r_xa\n",
    "r_xa.plot.scatter(\"time\",\"streamflow\")\n"
   ],
   "metadata": {
    "collapsed": false,
    "pycharm": {
     "name": "#%%\n",
     "is_executing": true
    }
   }
  },
  {
   "cell_type": "code",
   "execution_count": null,
   "outputs": [],
   "source": [],
   "metadata": {
    "collapsed": false,
    "pycharm": {
     "name": "#%%\n",
     "is_executing": true
    }
   }
  }
 ],
 "metadata": {
  "kernelspec": {
   "display_name": "Python 3",
   "language": "python",
   "name": "python3"
  },
  "language_info": {
   "codemirror_mode": {
    "name": "ipython",
    "version": 2
   },
   "file_extension": ".py",
   "mimetype": "text/x-python",
   "name": "python",
   "nbconvert_exporter": "python",
   "pygments_lexer": "ipython2",
   "version": "2.7.6"
  }
 },
 "nbformat": 4,
 "nbformat_minor": 0
}